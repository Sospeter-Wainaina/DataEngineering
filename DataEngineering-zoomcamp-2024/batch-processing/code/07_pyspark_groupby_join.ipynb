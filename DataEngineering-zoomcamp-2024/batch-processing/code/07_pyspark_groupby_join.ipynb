{
 "cells": [
  {
   "cell_type": "code",
   "execution_count": 1,
   "id": "8c78cb24",
   "metadata": {},
   "outputs": [
    {
     "data": {
      "text/plain": [
       "'C:\\\\tools\\\\spark-3.3.2-bin-hadoop3'"
      ]
     },
     "execution_count": 1,
     "metadata": {},
     "output_type": "execute_result"
    }
   ],
   "source": [
    "import findspark\n",
    "import os\n",
    "import sys\n",
    "\n",
    "os.environ['PYSPARK_PYTHON'] = sys.executable\n",
    "os.environ['PYSPARK_DRIVER_PYTHON'] = sys.executable\n",
    "findspark.init()\n",
    "findspark.find()"
   ]
  },
  {
   "cell_type": "code",
   "execution_count": 2,
   "id": "769a2d14",
   "metadata": {},
   "outputs": [],
   "source": [
    "from pyspark.context import SparkContext\n",
    "from pyspark.sql.session import SparkSession"
   ]
  },
  {
   "cell_type": "code",
   "execution_count": 3,
   "id": "6b133c38",
   "metadata": {},
   "outputs": [],
   "source": [
    "spark = SparkSession.builder \\\n",
    "    .master(\"local[*]\") \\\n",
    "    .appName('test') \\\n",
    "    .getOrCreate()"
   ]
  },
  {
   "cell_type": "code",
   "execution_count": 4,
   "id": "b2a8abfa",
   "metadata": {},
   "outputs": [],
   "source": [
    "#We read our file\n",
    "df_green = spark.read \\\n",
    "            .parquet(\"./data/pq/green/*/*\")"
   ]
  },
  {
   "cell_type": "code",
   "execution_count": 6,
   "id": "47563e07",
   "metadata": {},
   "outputs": [],
   "source": [
    "df_green.registerTempTable('green')"
   ]
  },
  {
   "cell_type": "code",
   "execution_count": 7,
   "id": "9087bfc4",
   "metadata": {},
   "outputs": [],
   "source": [
    "df_green_revenue = spark.sql(\"\"\"\n",
    "SELECT \n",
    "    date_trunc('hour', lpep_pickup_datetime) AS hour, \n",
    "    PULocationID AS zone,\n",
    "\n",
    "    SUM(total_amount) AS amount,\n",
    "    COUNT(1) AS number_records\n",
    "FROM\n",
    "    green\n",
    "WHERE\n",
    "    lpep_pickup_datetime >= '2020-01-01 00:00:00'\n",
    "GROUP BY\n",
    "    1, 2\n",
    "\"\"\")"
   ]
  },
  {
   "cell_type": "code",
   "execution_count": 8,
   "id": "9c4699e8",
   "metadata": {},
   "outputs": [
    {
     "name": "stdout",
     "output_type": "stream",
     "text": [
      "+-------------------+----+------------------+--------------+\n",
      "|               hour|zone|            amount|number_records|\n",
      "+-------------------+----+------------------+--------------+\n",
      "|2020-01-02 14:00:00|  26| 327.4800000000001|            11|\n",
      "|2020-01-06 15:00:00| 241|             184.7|             3|\n",
      "|2020-01-22 13:00:00|  74| 666.2399999999999|            44|\n",
      "|2020-01-14 23:00:00| 223|             48.31|             4|\n",
      "|2020-01-09 23:00:00| 260|202.33000000000004|            16|\n",
      "|2020-01-30 09:00:00|  75|1010.3499999999995|            67|\n",
      "|2020-01-11 21:00:00|  41| 700.5999999999997|            50|\n",
      "|2020-01-07 18:00:00|  45|112.39000000000001|             4|\n",
      "|2020-01-02 09:00:00|  42| 555.7500000000001|            33|\n",
      "|2020-01-04 23:00:00|  25|             376.4|            26|\n",
      "|2020-01-25 11:00:00| 259|            161.21|             3|\n",
      "|2020-01-16 20:00:00|  52|             108.6|             7|\n",
      "|2020-01-16 06:00:00|  74| 600.7999999999998|            37|\n",
      "|2020-01-17 07:00:00|  41| 481.6400000000002|            39|\n",
      "|2020-01-17 04:00:00|  82|108.74999999999999|            10|\n",
      "|2020-01-22 16:00:00| 244|            926.17|            32|\n",
      "|2020-01-02 18:00:00|  66|210.76000000000002|            11|\n",
      "|2020-01-30 22:00:00|  36|              85.1|             3|\n",
      "|2020-01-17 19:00:00|  17|133.57999999999998|            13|\n",
      "|2020-01-17 21:00:00|  33|            565.29|            26|\n",
      "+-------------------+----+------------------+--------------+\n",
      "only showing top 20 rows\n",
      "\n"
     ]
    }
   ],
   "source": [
    "df_green_revenue.show()"
   ]
  },
  {
   "cell_type": "code",
   "execution_count": 9,
   "id": "8c5a8ffa",
   "metadata": {},
   "outputs": [],
   "source": [
    "df_green_revenue \\\n",
    "    .repartition(20) \\\n",
    "    .write.parquet('data/report/revenue/green', mode='overwrite')"
   ]
  },
  {
   "cell_type": "code",
   "execution_count": 10,
   "id": "ccbc4d33",
   "metadata": {},
   "outputs": [],
   "source": [
    "#We read our file\n",
    "df_yellow = spark.read \\\n",
    "            .parquet(\"./data/pq/yellow/*/*\")"
   ]
  },
  {
   "cell_type": "code",
   "execution_count": 11,
   "id": "5e545d8f",
   "metadata": {},
   "outputs": [
    {
     "name": "stderr",
     "output_type": "stream",
     "text": [
      "C:\\tools\\spark-3.3.2-bin-hadoop3\\python\\pyspark\\sql\\dataframe.py:229: FutureWarning: Deprecated in 2.0, use createOrReplaceTempView instead.\n",
      "  warnings.warn(\"Deprecated in 2.0, use createOrReplaceTempView instead.\", FutureWarning)\n"
     ]
    }
   ],
   "source": [
    "df_yellow.registerTempTable(\"yellow\")"
   ]
  },
  {
   "cell_type": "code",
   "execution_count": 12,
   "id": "7d5f6635",
   "metadata": {},
   "outputs": [],
   "source": [
    "df_yellow_revenue = spark.sql(\"\"\"\n",
    "SELECT \n",
    "    date_trunc('hour', tpep_pickup_datetime) AS hour, \n",
    "    PULocationID AS zone,\n",
    "\n",
    "    SUM(total_amount) AS amount,\n",
    "    COUNT(1) AS number_records\n",
    "FROM\n",
    "    yellow\n",
    "WHERE\n",
    "    tpep_pickup_datetime >= '2020-01-01 00:00:00'\n",
    "GROUP BY\n",
    "    1, 2\n",
    "\"\"\")"
   ]
  },
  {
   "cell_type": "code",
   "execution_count": 13,
   "id": "c01784e1",
   "metadata": {},
   "outputs": [
    {
     "name": "stdout",
     "output_type": "stream",
     "text": [
      "+-------------------+----+------------------+--------------+\n",
      "|               hour|zone|            amount|number_records|\n",
      "+-------------------+----+------------------+--------------+\n",
      "|2020-01-16 18:00:00| 232|261.71000000000004|            12|\n",
      "|2020-01-06 05:00:00|  48|2105.5099999999984|           136|\n",
      "|2020-01-03 15:00:00| 163| 5261.330000000002|           348|\n",
      "|2020-01-06 11:00:00|  43|2731.4199999999983|           185|\n",
      "|2020-01-17 07:00:00|  24|           1058.45|            62|\n",
      "|2020-01-12 11:00:00| 163| 4039.869999999997|           244|\n",
      "|2020-01-20 20:00:00| 144|1758.8999999999996|           107|\n",
      "|2020-01-27 18:00:00| 162|11701.700000000033|           698|\n",
      "|2020-01-26 03:00:00| 263|           1156.81|            69|\n",
      "|2020-01-20 18:00:00| 113|2801.8799999999987|           197|\n",
      "|2020-01-24 15:00:00| 186|7813.4200000000155|           446|\n",
      "|2020-01-26 16:00:00| 236| 7387.040000000016|           509|\n",
      "|2020-01-09 18:00:00| 263| 4200.289999999999|           268|\n",
      "|2020-01-26 16:00:00| 239| 6371.280000000007|           407|\n",
      "|2020-01-13 14:00:00|  68| 4097.159999999997|           225|\n",
      "|2020-01-25 09:00:00| 186| 5292.580000000002|           353|\n",
      "|2020-01-02 18:00:00| 236| 6305.760000000005|           427|\n",
      "|2020-01-02 12:00:00| 161| 7460.580000000015|           450|\n",
      "|2020-01-23 22:00:00| 164| 6399.600000000009|           352|\n",
      "|2020-01-26 00:00:00| 230| 6046.940000000003|           360|\n",
      "+-------------------+----+------------------+--------------+\n",
      "only showing top 20 rows\n",
      "\n"
     ]
    }
   ],
   "source": [
    "df_yellow_revenue.show()"
   ]
  },
  {
   "cell_type": "code",
   "execution_count": 14,
   "id": "42b9bd91",
   "metadata": {},
   "outputs": [],
   "source": [
    "df_yellow_revenue \\\n",
    "    .repartition(20) \\\n",
    "    .write.parquet('data/report/revenue/yellow', mode='overwrite')"
   ]
  },
  {
   "cell_type": "code",
   "execution_count": 15,
   "id": "1daf3dad",
   "metadata": {},
   "outputs": [],
   "source": [
    "df_green_revenue = spark.read.parquet('data/report/revenue/green')\n",
    "df_yellow_revenue = spark.read.parquet('data/report/revenue/yellow')"
   ]
  },
  {
   "cell_type": "code",
   "execution_count": 16,
   "id": "8f2c0cb0",
   "metadata": {},
   "outputs": [],
   "source": [
    "df_green_revenue_tmp = df_green_revenue \\\n",
    "    .withColumnRenamed('amount', 'green_amount') \\\n",
    "    .withColumnRenamed('number_records', 'green_number_records')\n",
    "\n",
    "df_yellow_revenue_tmp = df_yellow_revenue \\\n",
    "    .withColumnRenamed('amount', 'yellow_amount') \\\n",
    "    .withColumnRenamed('number_records', 'yellow_number_records')"
   ]
  },
  {
   "cell_type": "code",
   "execution_count": 17,
   "id": "1e864139",
   "metadata": {},
   "outputs": [],
   "source": [
    "df_join = df_green_revenue_tmp.join(df_yellow_revenue_tmp, on=['hour', 'zone'], how='outer')"
   ]
  },
  {
   "cell_type": "code",
   "execution_count": 18,
   "id": "74556d68",
   "metadata": {},
   "outputs": [
    {
     "name": "stdout",
     "output_type": "stream",
     "text": [
      "+-------------------+----+------------------+--------------------+------------------+---------------------+\n",
      "|               hour|zone|      green_amount|green_number_records|     yellow_amount|yellow_number_records|\n",
      "+-------------------+----+------------------+--------------------+------------------+---------------------+\n",
      "|2020-01-01 00:00:00|  29|              61.3|                   1|              null|                 null|\n",
      "|2020-01-01 00:00:00|  33| 317.2700000000001|                  11|            255.56|                    8|\n",
      "|2020-01-01 00:00:00|  62|             15.95|                   1|             61.43|                    1|\n",
      "|2020-01-01 00:00:00|  71|              23.8|                   1|              null|                 null|\n",
      "|2020-01-01 00:00:00|  81|54.870000000000005|                   2|             30.32|                    1|\n",
      "|2020-01-01 00:00:00| 125|              null|                null|           1342.07|                   68|\n",
      "|2020-01-01 00:00:00| 126|              null|                null|             170.6|                    2|\n",
      "|2020-01-01 00:00:00| 127|              null|                null|43.900000000000006|                    3|\n",
      "|2020-01-01 00:00:00| 132|              null|                null| 6786.390000000004|                  139|\n",
      "|2020-01-01 00:00:00| 143|             55.95|                   2|2142.0599999999986|                  128|\n",
      "|2020-01-01 00:00:00| 164|              null|                null| 5448.930000000004|                  292|\n",
      "|2020-01-01 00:00:00| 170|              null|                null| 8266.010000000015|                  463|\n",
      "|2020-01-01 00:00:00| 174|              21.7|                   1|              54.6|                    1|\n",
      "|2020-01-01 00:00:00| 188|            127.57|                   6|            105.72|                    5|\n",
      "|2020-01-01 00:00:00| 197|             72.01|                   3|              null|                 null|\n",
      "|2020-01-01 00:00:00| 216|            181.37|                   6|            100.32|                    3|\n",
      "|2020-01-01 00:00:00| 218|             72.27|                   2|              null|                 null|\n",
      "|2020-01-01 00:00:00| 224|              null|                null| 655.1000000000001|                   31|\n",
      "|2020-01-01 00:00:00| 242|             64.25|                   1|              null|                 null|\n",
      "|2020-01-01 00:00:00| 259|            131.24|                   7|              null|                 null|\n",
      "+-------------------+----+------------------+--------------------+------------------+---------------------+\n",
      "only showing top 20 rows\n",
      "\n"
     ]
    }
   ],
   "source": [
    "df_join.show()"
   ]
  },
  {
   "cell_type": "code",
   "execution_count": 19,
   "id": "e775c83f",
   "metadata": {},
   "outputs": [],
   "source": [
    "df_join.write.parquet('data/report/revenue/total', mode='overwrite')"
   ]
  },
  {
   "cell_type": "code",
   "execution_count": 20,
   "id": "23d16889",
   "metadata": {},
   "outputs": [],
   "source": [
    "df_join = spark.read.parquet('data/report/revenue/total')"
   ]
  },
  {
   "cell_type": "code",
   "execution_count": 21,
   "id": "2efaa471",
   "metadata": {},
   "outputs": [
    {
     "name": "stdout",
     "output_type": "stream",
     "text": [
      "+-------------------+----+------------------+--------------------+------------------+---------------------+\n",
      "|               hour|zone|      green_amount|green_number_records|     yellow_amount|yellow_number_records|\n",
      "+-------------------+----+------------------+--------------------+------------------+---------------------+\n",
      "|2020-01-01 00:00:00|  12|              null|                null|             107.0|                    6|\n",
      "|2020-01-01 00:00:00|  18|               7.8|                   1|               5.8|                    1|\n",
      "|2020-01-01 00:00:00|  24|              87.6|                   3| 754.9500000000002|                   45|\n",
      "|2020-01-01 00:00:00|  37|175.67000000000002|                   6|            161.61|                    7|\n",
      "|2020-01-01 00:00:00|  43|            107.52|                   6| 6539.510000000011|                  390|\n",
      "|2020-01-01 00:00:00|  49|266.76000000000005|                  14|185.64999999999998|                   10|\n",
      "|2020-01-01 00:00:00|  52| 83.32999999999998|                   4|              49.8|                    2|\n",
      "|2020-01-01 00:00:00|  61|            526.71|                  17|            146.64|                    3|\n",
      "|2020-01-01 00:00:00|  82| 305.1200000000002|                  28|              29.8|                    1|\n",
      "|2020-01-01 00:00:00|  83| 94.09999999999998|                   7|               9.8|                    1|\n",
      "|2020-01-01 00:00:00|  88|              null|                null| 823.8000000000002|                   36|\n",
      "|2020-01-01 00:00:00|  90|              null|                null| 5010.450000000002|                  266|\n",
      "|2020-01-01 00:00:00| 114|              null|                null| 6256.430000000004|                  333|\n",
      "|2020-01-01 00:00:00| 119| 67.77000000000001|                   4|              47.3|                    2|\n",
      "|2020-01-01 00:00:00| 146| 99.36999999999999|                   6|110.74000000000001|                    7|\n",
      "|2020-01-01 00:00:00| 148|              null|                null| 6790.150000000007|                  371|\n",
      "|2020-01-01 00:00:00| 151|              null|                null| 2536.959999999998|                  148|\n",
      "|2020-01-01 00:00:00| 181|1225.4299999999992|                  63| 539.0600000000001|                   25|\n",
      "|2020-01-01 00:00:00| 210|              18.1|                   2|              null|                 null|\n",
      "|2020-01-01 00:00:00| 230|              null|                null|              24.8|                    1|\n",
      "+-------------------+----+------------------+--------------------+------------------+---------------------+\n",
      "only showing top 20 rows\n",
      "\n"
     ]
    }
   ],
   "source": [
    "df_join.show()"
   ]
  },
  {
   "cell_type": "code",
   "execution_count": 22,
   "id": "ad5fca4e",
   "metadata": {},
   "outputs": [],
   "source": [
    "df_zones = spark.read.option(\"header\",\"true\").csv(\"./taxi_zone_lookup.csv\")"
   ]
  },
  {
   "cell_type": "code",
   "execution_count": 23,
   "id": "32dc12e4",
   "metadata": {},
   "outputs": [
    {
     "name": "stdout",
     "output_type": "stream",
     "text": [
      "+----------+-------------+--------------------+------------+\n",
      "|LocationID|      Borough|                Zone|service_zone|\n",
      "+----------+-------------+--------------------+------------+\n",
      "|         1|          EWR|      Newark Airport|         EWR|\n",
      "|         2|       Queens|         Jamaica Bay|   Boro Zone|\n",
      "|         3|        Bronx|Allerton/Pelham G...|   Boro Zone|\n",
      "|         4|    Manhattan|       Alphabet City| Yellow Zone|\n",
      "|         5|Staten Island|       Arden Heights|   Boro Zone|\n",
      "|         6|Staten Island|Arrochar/Fort Wad...|   Boro Zone|\n",
      "|         7|       Queens|             Astoria|   Boro Zone|\n",
      "|         8|       Queens|        Astoria Park|   Boro Zone|\n",
      "|         9|       Queens|          Auburndale|   Boro Zone|\n",
      "|        10|       Queens|        Baisley Park|   Boro Zone|\n",
      "|        11|     Brooklyn|          Bath Beach|   Boro Zone|\n",
      "|        12|    Manhattan|        Battery Park| Yellow Zone|\n",
      "|        13|    Manhattan|   Battery Park City| Yellow Zone|\n",
      "|        14|     Brooklyn|           Bay Ridge|   Boro Zone|\n",
      "|        15|       Queens|Bay Terrace/Fort ...|   Boro Zone|\n",
      "|        16|       Queens|             Bayside|   Boro Zone|\n",
      "|        17|     Brooklyn|             Bedford|   Boro Zone|\n",
      "|        18|        Bronx|        Bedford Park|   Boro Zone|\n",
      "|        19|       Queens|           Bellerose|   Boro Zone|\n",
      "|        20|        Bronx|             Belmont|   Boro Zone|\n",
      "+----------+-------------+--------------------+------------+\n",
      "only showing top 20 rows\n",
      "\n"
     ]
    }
   ],
   "source": [
    "df_zones.show()"
   ]
  },
  {
   "cell_type": "code",
   "execution_count": 24,
   "id": "c081542b",
   "metadata": {},
   "outputs": [],
   "source": [
    "\n",
    "df_result = df_join.join(df_zones, df_join.zone == df_zones.LocationID)"
   ]
  },
  {
   "cell_type": "code",
   "execution_count": 25,
   "id": "052756c9",
   "metadata": {},
   "outputs": [],
   "source": [
    "df_result.drop('LocationID', 'zone').write.parquet('tmp/revenue-zones')"
   ]
  },
  {
   "cell_type": "code",
   "execution_count": null,
   "id": "61f4405f",
   "metadata": {},
   "outputs": [],
   "source": []
  }
 ],
 "metadata": {
  "kernelspec": {
   "display_name": "Python 3 (ipykernel)",
   "language": "python",
   "name": "python3"
  },
  "language_info": {
   "codemirror_mode": {
    "name": "ipython",
    "version": 3
   },
   "file_extension": ".py",
   "mimetype": "text/x-python",
   "name": "python",
   "nbconvert_exporter": "python",
   "pygments_lexer": "ipython3",
   "version": "3.9.7"
  }
 },
 "nbformat": 4,
 "nbformat_minor": 5
}
