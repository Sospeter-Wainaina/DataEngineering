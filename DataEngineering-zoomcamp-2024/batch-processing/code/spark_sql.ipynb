{
 "cells": [
  {
   "cell_type": "code",
   "execution_count": 1,
   "id": "8a011e50",
   "metadata": {},
   "outputs": [
    {
     "data": {
      "text/plain": [
       "'C:\\\\tools\\\\spark-3.3.2-bin-hadoop3'"
      ]
     },
     "execution_count": 1,
     "metadata": {},
     "output_type": "execute_result"
    }
   ],
   "source": [
    "import findspark\n",
    "import os\n",
    "import sys\n",
    "\n",
    "os.environ['PYSPARK_PYTHON'] = sys.executable\n",
    "os.environ['PYSPARK_DRIVER_PYTHON'] = sys.executable\n",
    "findspark.init()\n",
    "findspark.find()"
   ]
  },
  {
   "cell_type": "code",
   "execution_count": 2,
   "id": "bbd17fc7",
   "metadata": {},
   "outputs": [],
   "source": [
    "from pyspark.context import SparkContext\n",
    "from pyspark.sql.session import SparkSession"
   ]
  },
  {
   "cell_type": "code",
   "execution_count": 3,
   "id": "eafd4d29",
   "metadata": {},
   "outputs": [],
   "source": [
    "spark = SparkSession.builder \\\n",
    "    .master(\"local[*]\") \\\n",
    "    .appName('test') \\\n",
    "    .getOrCreate()"
   ]
  },
  {
   "cell_type": "code",
   "execution_count": 4,
   "id": "9e61d454",
   "metadata": {},
   "outputs": [],
   "source": [
    "#We read our file\n",
    "df_green = spark.read \\\n",
    "            .parquet(\"./data/pq/green/*/*\")"
   ]
  },
  {
   "cell_type": "code",
   "execution_count": 5,
   "id": "6a547eae",
   "metadata": {},
   "outputs": [
    {
     "name": "stdout",
     "output_type": "stream",
     "text": [
      "+--------+--------------------+---------------------+------------------+----------+------------+------------+---------------+-------------+-----------+-----+-------+----------+------------+---------+---------------------+------------+------------+---------+--------------------+\n",
      "|VendorID|lpep_pickup_datetime|lpep_dropoff_datetime|store_and_fwd_flag|RatecodeID|PULocationID|DOLocationID|passenger_count|trip_distance|fare_amount|extra|mta_tax|tip_amount|tolls_amount|ehail_fee|improvement_surcharge|total_amount|payment_type|trip_type|congestion_surcharge|\n",
      "+--------+--------------------+---------------------+------------------+----------+------------+------------+---------------+-------------+-----------+-----+-------+----------+------------+---------+---------------------+------------+------------+---------+--------------------+\n",
      "|       2| 2020-01-18 14:54:39|  2020-01-18 15:16:34|                 N|         1|          66|         161|              1|         6.95|       23.0|  0.0|    0.5|      5.31|         0.0|     null|                  0.3|       31.86|           1|        1|                2.75|\n",
      "|       2| 2020-01-21 17:55:07|  2020-01-21 18:10:20|                 N|         1|          74|          42|              1|         1.61|       11.0|  1.0|    0.5|       0.0|         0.0|     null|                  0.3|        12.8|           2|        1|                 0.0|\n",
      "|       2| 2020-01-24 08:15:41|  2020-01-24 08:29:22|                 N|         1|          82|         173|              1|         2.05|       11.0|  0.0|    0.5|       0.0|         0.0|     null|                  0.3|        11.8|           2|        1|                 0.0|\n",
      "|    null| 2020-01-29 14:18:00|  2020-01-29 14:37:00|              null|      null|         205|          95|           null|         5.32|      29.56| 2.75|    0.0|       0.0|         0.0|     null|                  0.3|       32.61|        null|     null|                null|\n",
      "|       2| 2020-01-05 21:54:45|  2020-01-05 22:05:14|                 N|         1|          65|          49|              1|         1.94|        9.0|  0.5|    0.5|      2.06|         0.0|     null|                  0.3|       12.36|           1|        1|                 0.0|\n",
      "|    null| 2020-01-07 05:18:00|  2020-01-07 05:44:00|              null|      null|         136|         107|           null|        12.49|      32.77|  0.0|    0.0|       0.0|         0.0|     null|                  0.3|       33.07|        null|     null|                null|\n",
      "|       2| 2020-01-11 14:06:26|  2020-01-11 14:16:31|                 N|         1|          31|         241|              1|         2.08|        9.5|  0.0|    0.5|      3.09|         0.0|     null|                  0.3|       13.39|           1|        1|                 0.0|\n",
      "|    null| 2020-01-22 12:42:00|  2020-01-22 12:55:00|              null|      null|         155|          39|           null|         2.99|      23.79| 2.75|    0.0|       0.0|         0.0|     null|                  0.3|       26.84|        null|     null|                null|\n",
      "|       2| 2020-01-10 20:32:24|  2020-01-10 20:48:05|                 N|         1|          74|         166|              5|         2.31|       11.5|  0.5|    0.5|       0.1|         0.0|     null|                  0.3|        12.9|           1|        1|                 0.0|\n",
      "|       1| 2020-01-21 16:09:22|  2020-01-21 16:30:17|                 N|         1|         244|         142|              1|          5.8|       20.5| 3.75|    0.5|       0.0|         0.0|     null|                  0.3|       25.05|           2|        1|                2.75|\n",
      "|       2| 2020-01-17 10:56:55|  2020-01-17 11:04:27|                 N|         1|           7|         223|              1|         1.62|        7.5|  0.0|    0.5|      1.66|         0.0|     null|                  0.3|        9.96|           1|        1|                 0.0|\n",
      "|       2| 2020-01-16 07:34:58|  2020-01-16 07:51:29|                 N|         1|          74|         243|              6|         4.99|       18.0|  0.0|    0.5|       0.0|         0.0|     null|                  0.3|        18.8|           2|        1|                 0.0|\n",
      "|    null| 2020-01-03 14:37:00|  2020-01-03 14:57:00|              null|      null|          61|          52|           null|         2.92|      14.38|  0.0|    0.0|       0.0|         0.0|     null|                  0.3|       14.68|        null|     null|                null|\n",
      "|       2| 2020-01-19 02:36:01|  2020-01-19 02:45:58|                 N|         5|          65|          49|              2|         1.79|       35.0|  0.0|    0.0|     10.59|         0.0|     null|                  0.3|       45.89|           1|        2|                 0.0|\n",
      "|       2| 2020-01-07 15:35:53|  2020-01-07 15:59:53|                 N|         1|          82|         162|              1|         5.07|       19.0|  0.0|    0.5|       0.0|         0.0|     null|                  0.3|       22.55|           2|        1|                2.75|\n",
      "|       2| 2020-01-16 19:19:56|  2020-01-16 19:24:55|                 N|         1|          75|         236|              1|         0.97|        5.5|  1.0|    0.5|       0.0|         0.0|     null|                  0.3|       10.05|           2|        1|                2.75|\n",
      "|    null| 2020-01-08 12:02:00|  2020-01-08 12:20:00|              null|      null|         127|          42|           null|         4.96|      21.01| 2.75|    0.0|       0.0|         0.0|     null|                  0.3|       24.06|        null|     null|                null|\n",
      "|       2| 2020-01-29 18:21:27|  2020-01-29 18:22:10|                 N|         1|          14|          14|              1|         0.32|        3.0|  1.0|    0.5|       0.0|         0.0|     null|                  0.3|         4.8|           2|        1|                 0.0|\n",
      "|       2| 2020-01-31 09:28:46|  2020-01-31 09:37:24|                 N|         1|         134|         130|              1|         1.49|        8.5|  0.0|    0.5|       2.0|         0.0|     null|                  0.3|        11.3|           1|        1|                 0.0|\n",
      "|       2| 2020-01-26 17:52:06|  2020-01-26 18:18:05|                 N|         1|         133|          22|              5|         3.94|       18.0|  0.0|    0.5|       2.0|         0.0|     null|                  0.3|       22.75|           1|        1|                 0.0|\n",
      "+--------+--------------------+---------------------+------------------+----------+------------+------------+---------------+-------------+-----------+-----+-------+----------+------------+---------+---------------------+------------+------------+---------+--------------------+\n",
      "only showing top 20 rows\n",
      "\n"
     ]
    }
   ],
   "source": [
    "df_green.show()"
   ]
  },
  {
   "cell_type": "code",
   "execution_count": 8,
   "id": "13e1441f",
   "metadata": {},
   "outputs": [
    {
     "name": "stdout",
     "output_type": "stream",
     "text": [
      "root\n",
      " |-- VendorID: integer (nullable = true)\n",
      " |-- lpep_pickup_datetime: timestamp (nullable = true)\n",
      " |-- lpep_dropoff_datetime: timestamp (nullable = true)\n",
      " |-- store_and_fwd_flag: string (nullable = true)\n",
      " |-- RatecodeID: integer (nullable = true)\n",
      " |-- PULocationID: integer (nullable = true)\n",
      " |-- DOLocationID: integer (nullable = true)\n",
      " |-- passenger_count: integer (nullable = true)\n",
      " |-- trip_distance: double (nullable = true)\n",
      " |-- fare_amount: double (nullable = true)\n",
      " |-- extra: double (nullable = true)\n",
      " |-- mta_tax: double (nullable = true)\n",
      " |-- tip_amount: double (nullable = true)\n",
      " |-- tolls_amount: double (nullable = true)\n",
      " |-- ehail_fee: double (nullable = true)\n",
      " |-- improvement_surcharge: double (nullable = true)\n",
      " |-- total_amount: double (nullable = true)\n",
      " |-- payment_type: integer (nullable = true)\n",
      " |-- trip_type: integer (nullable = true)\n",
      " |-- congestion_surcharge: double (nullable = true)\n",
      "\n"
     ]
    }
   ],
   "source": [
    "df_green.printSchema()"
   ]
  },
  {
   "cell_type": "code",
   "execution_count": 9,
   "id": "63a147ed",
   "metadata": {},
   "outputs": [],
   "source": [
    "#We read our file\n",
    "df_yellow = spark.read \\\n",
    "            .parquet(\"./data/pq/yellow/*/*\")"
   ]
  },
  {
   "cell_type": "code",
   "execution_count": 10,
   "id": "17c5d0e9",
   "metadata": {},
   "outputs": [
    {
     "name": "stdout",
     "output_type": "stream",
     "text": [
      "+--------+--------------------+---------------------+---------------+-------------+----------+------------------+------------+------------+------------+-----------+-----+-------+----------+------------+---------------------+------------+--------------------+\n",
      "|VendorID|tpep_pickup_datetime|tpep_dropoff_datetime|passenger_count|trip_distance|RatecodeID|store_and_fwd_flag|PULocationID|DOLocationID|payment_type|fare_amount|extra|mta_tax|tip_amount|tolls_amount|improvement_surcharge|total_amount|congestion_surcharge|\n",
      "+--------+--------------------+---------------------+---------------+-------------+----------+------------------+------------+------------+------------+-----------+-----+-------+----------+------------+---------------------+------------+--------------------+\n",
      "|       2| 2020-01-04 22:00:19|  2020-01-04 22:03:50|              1|         0.47|         1|                 N|         234|         107|           2|        4.5|  0.5|    0.5|       0.0|         0.0|                  0.3|         8.3|                 2.5|\n",
      "|       1| 2020-01-09 09:35:33|  2020-01-09 09:50:18|              1|          1.7|         1|                 N|         141|          75|           1|       11.0|  2.5|    0.5|      2.85|         0.0|                  0.3|       17.15|                 2.5|\n",
      "|       2| 2020-01-19 11:23:11|  2020-01-19 11:32:31|              5|         1.19|         1|                 N|         186|          48|           1|        7.5|  0.0|    0.5|      2.16|         0.0|                  0.3|       12.96|                 2.5|\n",
      "|       2| 2020-01-16 17:39:03|  2020-01-16 18:01:04|              1|         1.68|         1|                 N|          90|         230|           1|       14.0|  1.0|    0.5|       2.0|         0.0|                  0.3|        20.3|                 2.5|\n",
      "|       2| 2020-01-26 09:03:30|  2020-01-26 09:11:10|              1|         1.52|         1|                 N|         238|         142|           1|        8.0|  0.0|    0.5|       1.2|         0.0|                  0.3|        12.5|                 2.5|\n",
      "|       2| 2020-01-11 17:54:50|  2020-01-11 18:04:56|              1|         2.28|         1|                 N|         262|         142|           1|        9.5|  0.0|    0.5|      2.56|         0.0|                  0.3|       15.36|                 2.5|\n",
      "|       1| 2020-01-26 12:58:51|  2020-01-26 13:04:14|              2|          0.6|         1|                 N|          79|          79|           2|        5.5|  2.5|    0.5|       0.0|         0.0|                  0.3|         8.8|                 2.5|\n",
      "|       2| 2020-01-14 20:04:22|  2020-01-14 20:12:23|              1|         1.46|         1|                 N|          90|         170|           2|        7.5|  0.5|    0.5|       0.0|         0.0|                  0.3|        11.3|                 2.5|\n",
      "|       2| 2020-01-01 19:25:50|  2020-01-01 19:37:50|              1|          3.1|         1|                 N|          48|         236|           1|       11.5|  0.0|    0.5|      2.96|         0.0|                  0.3|       17.76|                 2.5|\n",
      "|       2| 2020-01-06 10:34:22|  2020-01-06 11:20:43|              1|        10.19|         5|                 N|         223|         265|           1|      120.0|  0.0|    0.5|       0.0|         0.0|                  0.3|       123.3|                 2.5|\n",
      "|       2| 2020-01-08 23:00:18|  2020-01-08 23:03:42|              1|         0.82|         1|                 N|         161|          43|           1|        4.5|  0.5|    0.5|      1.66|         0.0|                  0.3|        9.96|                 2.5|\n",
      "|    null| 2020-01-13 16:47:12|  2020-01-13 17:41:25|           null|        24.71|      null|              null|         231|         155|        null|       29.6| 2.75|    0.0|       0.0|        6.12|                  0.3|       38.77|                 0.0|\n",
      "|       1| 2020-01-24 22:19:10|  2020-01-24 22:43:38|              1|          7.7|         1|                 N|         114|         181|           1|       25.0|  3.0|    0.5|      5.75|         0.0|                  0.3|       34.55|                 2.5|\n",
      "|       2| 2020-01-22 23:59:33|  2020-01-23 00:10:58|              1|         0.98|         1|                 N|         230|          48|           1|        8.5|  0.5|    0.5|       0.1|         0.0|                  0.3|        12.4|                 2.5|\n",
      "|       1| 2020-01-14 00:39:16|  2020-01-14 00:45:46|              3|          2.0|         1|                 N|         162|         146|           2|        8.0|  3.0|    0.5|       0.0|         0.0|                  0.3|        11.8|                 2.5|\n",
      "|    null| 2020-01-15 16:23:24|  2020-01-15 16:43:50|           null|         4.54|      null|              null|         107|         226|        null|      17.85| 2.75|    0.0|       0.0|        6.12|                  0.3|       27.02|                 0.0|\n",
      "|       2| 2020-01-16 18:16:21|  2020-01-16 18:29:22|              4|         1.41|         1|                 N|         232|         113|           1|        9.5|  1.0|    0.5|      2.76|         0.0|                  0.3|       16.56|                 2.5|\n",
      "|       1| 2020-01-30 14:47:25|  2020-01-30 14:51:36|              1|          0.5|         1|                 N|          48|          50|           2|        4.5|  2.5|    0.5|       0.0|         0.0|                  0.3|         7.8|                 2.5|\n",
      "|       2| 2020-01-13 12:32:34|  2020-01-13 12:41:44|              1|         1.75|         1|                 N|          48|         143|           1|        8.0|  0.0|    0.5|      2.26|         0.0|                  0.3|       13.56|                 2.5|\n",
      "|       1| 2020-01-16 23:34:04|  2020-01-16 23:39:45|              4|          0.8|         1|                 N|          79|         249|           2|        5.5|  3.0|    0.5|       0.0|         0.0|                  0.3|         9.3|                 2.5|\n",
      "+--------+--------------------+---------------------+---------------+-------------+----------+------------------+------------+------------+------------+-----------+-----+-------+----------+------------+---------------------+------------+--------------------+\n",
      "only showing top 20 rows\n",
      "\n"
     ]
    }
   ],
   "source": [
    "df_yellow.show()"
   ]
  },
  {
   "cell_type": "code",
   "execution_count": 12,
   "id": "2675f8f4",
   "metadata": {},
   "outputs": [
    {
     "name": "stdout",
     "output_type": "stream",
     "text": [
      "root\n",
      " |-- VendorID: integer (nullable = true)\n",
      " |-- tpep_pickup_datetime: timestamp (nullable = true)\n",
      " |-- tpep_dropoff_datetime: timestamp (nullable = true)\n",
      " |-- passenger_count: integer (nullable = true)\n",
      " |-- trip_distance: double (nullable = true)\n",
      " |-- RatecodeID: integer (nullable = true)\n",
      " |-- store_and_fwd_flag: string (nullable = true)\n",
      " |-- PULocationID: integer (nullable = true)\n",
      " |-- DOLocationID: integer (nullable = true)\n",
      " |-- payment_type: integer (nullable = true)\n",
      " |-- fare_amount: double (nullable = true)\n",
      " |-- extra: double (nullable = true)\n",
      " |-- mta_tax: double (nullable = true)\n",
      " |-- tip_amount: double (nullable = true)\n",
      " |-- tolls_amount: double (nullable = true)\n",
      " |-- improvement_surcharge: double (nullable = true)\n",
      " |-- total_amount: double (nullable = true)\n",
      " |-- congestion_surcharge: double (nullable = true)\n",
      "\n"
     ]
    }
   ],
   "source": [
    "df_yellow.printSchema()"
   ]
  },
  {
   "cell_type": "code",
   "execution_count": 16,
   "id": "1b483e5f",
   "metadata": {},
   "outputs": [],
   "source": [
    "df_green = df_green \\\n",
    "            .withColumnRenamed('lpep_pickup_datetime','pickup_datetime') \\\n",
    "            .withColumnRenamed('lpep_dropoff_datetime','dropoff_datetime')"
   ]
  },
  {
   "cell_type": "code",
   "execution_count": 17,
   "id": "58498a22",
   "metadata": {},
   "outputs": [],
   "source": [
    "df_yellow = df_yellow \\\n",
    "            .withColumnRenamed('tpep_pickup_datetime','pickup_datetime') \\\n",
    "            .withColumnRenamed('tpep_dropoff_datetime','dropoff_datetime')"
   ]
  },
  {
   "cell_type": "code",
   "execution_count": 18,
   "id": "14c809f1",
   "metadata": {},
   "outputs": [
    {
     "data": {
      "text/plain": [
       "['VendorID',\n",
       " 'pickup_datetime',\n",
       " 'dropoff_datetime',\n",
       " 'store_and_fwd_flag',\n",
       " 'RatecodeID',\n",
       " 'PULocationID',\n",
       " 'DOLocationID',\n",
       " 'passenger_count',\n",
       " 'trip_distance',\n",
       " 'fare_amount',\n",
       " 'extra',\n",
       " 'mta_tax',\n",
       " 'tip_amount',\n",
       " 'tolls_amount',\n",
       " 'ehail_fee',\n",
       " 'improvement_surcharge',\n",
       " 'total_amount',\n",
       " 'payment_type',\n",
       " 'trip_type',\n",
       " 'congestion_surcharge']"
      ]
     },
     "execution_count": 18,
     "metadata": {},
     "output_type": "execute_result"
    }
   ],
   "source": [
    "df_green.columns"
   ]
  },
  {
   "cell_type": "code",
   "execution_count": 19,
   "id": "26151323",
   "metadata": {},
   "outputs": [
    {
     "data": {
      "text/plain": [
       "['VendorID',\n",
       " 'pickup_datetime',\n",
       " 'dropoff_datetime',\n",
       " 'passenger_count',\n",
       " 'trip_distance',\n",
       " 'RatecodeID',\n",
       " 'store_and_fwd_flag',\n",
       " 'PULocationID',\n",
       " 'DOLocationID',\n",
       " 'payment_type',\n",
       " 'fare_amount',\n",
       " 'extra',\n",
       " 'mta_tax',\n",
       " 'tip_amount',\n",
       " 'tolls_amount',\n",
       " 'improvement_surcharge',\n",
       " 'total_amount',\n",
       " 'congestion_surcharge']"
      ]
     },
     "execution_count": 19,
     "metadata": {},
     "output_type": "execute_result"
    }
   ],
   "source": [
    "df_yellow.columns"
   ]
  },
  {
   "cell_type": "code",
   "execution_count": 21,
   "id": "4398738d",
   "metadata": {},
   "outputs": [],
   "source": [
    "common_columns = []\n",
    "yellow_columns = set(df_yellow.columns)\n",
    "\n",
    "for col in df_green.columns:\n",
    "    if col in yellow_columns:\n",
    "        common_columns.append(col)"
   ]
  },
  {
   "cell_type": "code",
   "execution_count": 22,
   "id": "353b99d0",
   "metadata": {},
   "outputs": [
    {
     "data": {
      "text/plain": [
       "['VendorID',\n",
       " 'pickup_datetime',\n",
       " 'dropoff_datetime',\n",
       " 'store_and_fwd_flag',\n",
       " 'RatecodeID',\n",
       " 'PULocationID',\n",
       " 'DOLocationID',\n",
       " 'passenger_count',\n",
       " 'trip_distance',\n",
       " 'fare_amount',\n",
       " 'extra',\n",
       " 'mta_tax',\n",
       " 'tip_amount',\n",
       " 'tolls_amount',\n",
       " 'improvement_surcharge',\n",
       " 'total_amount',\n",
       " 'payment_type',\n",
       " 'congestion_surcharge']"
      ]
     },
     "execution_count": 22,
     "metadata": {},
     "output_type": "execute_result"
    }
   ],
   "source": [
    "common_columns"
   ]
  },
  {
   "cell_type": "code",
   "execution_count": 20,
   "id": "f52391fe",
   "metadata": {},
   "outputs": [
    {
     "data": {
      "text/plain": [
       "{'DOLocationID',\n",
       " 'PULocationID',\n",
       " 'RatecodeID',\n",
       " 'VendorID',\n",
       " 'congestion_surcharge',\n",
       " 'dropoff_datetime',\n",
       " 'extra',\n",
       " 'fare_amount',\n",
       " 'improvement_surcharge',\n",
       " 'mta_tax',\n",
       " 'passenger_count',\n",
       " 'payment_type',\n",
       " 'pickup_datetime',\n",
       " 'store_and_fwd_flag',\n",
       " 'tip_amount',\n",
       " 'tolls_amount',\n",
       " 'total_amount',\n",
       " 'trip_distance'}"
      ]
     },
     "execution_count": 20,
     "metadata": {},
     "output_type": "execute_result"
    }
   ],
   "source": [
    "set(df_green.columns) & set(df_yellow.columns)"
   ]
  },
  {
   "cell_type": "code",
   "execution_count": 24,
   "id": "60594bed",
   "metadata": {},
   "outputs": [],
   "source": [
    "from pyspark.sql import functions as F"
   ]
  },
  {
   "cell_type": "code",
   "execution_count": 26,
   "id": "4d2b371f",
   "metadata": {},
   "outputs": [],
   "source": [
    "df_green_sel = df_green \\\n",
    "                .select(common_columns) \\\n",
    "                .withColumn('service_type',F.lit('green'))"
   ]
  },
  {
   "cell_type": "code",
   "execution_count": 28,
   "id": "34580796",
   "metadata": {},
   "outputs": [
    {
     "data": {
      "text/plain": [
       "DataFrame[VendorID: int, pickup_datetime: timestamp, dropoff_datetime: timestamp, store_and_fwd_flag: string, RatecodeID: int, PULocationID: int, DOLocationID: int, passenger_count: int, trip_distance: double, fare_amount: double, extra: double, mta_tax: double, tip_amount: double, tolls_amount: double, improvement_surcharge: double, total_amount: double, payment_type: int, congestion_surcharge: double, service_type: string]"
      ]
     },
     "execution_count": 28,
     "metadata": {},
     "output_type": "execute_result"
    }
   ],
   "source": [
    "df_green_sel"
   ]
  },
  {
   "cell_type": "code",
   "execution_count": 29,
   "id": "1ea820f1",
   "metadata": {},
   "outputs": [],
   "source": [
    "df_yellow_sel = df_yellow \\\n",
    "                .select(common_columns) \\\n",
    "                .withColumn('service_type',F.lit('yellow'))"
   ]
  },
  {
   "cell_type": "code",
   "execution_count": 30,
   "id": "b56799df",
   "metadata": {},
   "outputs": [
    {
     "data": {
      "text/plain": [
       "DataFrame[VendorID: int, pickup_datetime: timestamp, dropoff_datetime: timestamp, store_and_fwd_flag: string, RatecodeID: int, PULocationID: int, DOLocationID: int, passenger_count: int, trip_distance: double, fare_amount: double, extra: double, mta_tax: double, tip_amount: double, tolls_amount: double, improvement_surcharge: double, total_amount: double, payment_type: int, congestion_surcharge: double, service_type: string]"
      ]
     },
     "execution_count": 30,
     "metadata": {},
     "output_type": "execute_result"
    }
   ],
   "source": [
    "df_yellow_sel"
   ]
  },
  {
   "cell_type": "code",
   "execution_count": 31,
   "id": "314aabd8",
   "metadata": {},
   "outputs": [],
   "source": [
    "df_trips_data = df_green_sel.unionAll(df_yellow_sel)"
   ]
  },
  {
   "cell_type": "code",
   "execution_count": 32,
   "id": "eda1879c",
   "metadata": {},
   "outputs": [
    {
     "name": "stdout",
     "output_type": "stream",
     "text": [
      "+------------+--------+\n",
      "|service_type|   count|\n",
      "+------------+--------+\n",
      "|       green| 2304517|\n",
      "|      yellow|36827684|\n",
      "+------------+--------+\n",
      "\n"
     ]
    }
   ],
   "source": [
    "df_trips_data.groupby('service_type').count().show()"
   ]
  },
  {
   "cell_type": "code",
   "execution_count": 33,
   "id": "5915da07",
   "metadata": {},
   "outputs": [
    {
     "name": "stderr",
     "output_type": "stream",
     "text": [
      "C:\\tools\\spark-3.3.2-bin-hadoop3\\python\\pyspark\\sql\\dataframe.py:229: FutureWarning: Deprecated in 2.0, use createOrReplaceTempView instead.\n",
      "  warnings.warn(\"Deprecated in 2.0, use createOrReplaceTempView instead.\", FutureWarning)\n"
     ]
    }
   ],
   "source": [
    "df_trips_data.registerTempTable(\"trips_data\")"
   ]
  },
  {
   "cell_type": "code",
   "execution_count": 36,
   "id": "d56155a0",
   "metadata": {},
   "outputs": [
    {
     "name": "stdout",
     "output_type": "stream",
     "text": [
      "+------------+--------+\n",
      "|service_type|   count|\n",
      "+------------+--------+\n",
      "|       green| 2304517|\n",
      "|      yellow|36827684|\n",
      "+------------+--------+\n",
      "\n"
     ]
    }
   ],
   "source": [
    "spark.sql(\"\"\"\n",
    "SELECT service_type,\n",
    "        count(1) as count\n",
    "FROM\n",
    "    trips_data\n",
    "GROUP BY service_type\n",
    "\"\"\").show()"
   ]
  },
  {
   "cell_type": "code",
   "execution_count": 37,
   "id": "2ee00cd2",
   "metadata": {},
   "outputs": [],
   "source": [
    "df_result = spark.sql(\"\"\"\n",
    "SELECT \n",
    "    -- Reveneue grouping \n",
    "    PULocationID AS revenue_zone,\n",
    "    date_trunc('month', pickup_datetime) AS revenue_month, \n",
    "    service_type, \n",
    "\n",
    "    -- Revenue calculation \n",
    "    SUM(fare_amount) AS revenue_monthly_fare,\n",
    "    SUM(extra) AS revenue_monthly_extra,\n",
    "    SUM(mta_tax) AS revenue_monthly_mta_tax,\n",
    "    SUM(tip_amount) AS revenue_monthly_tip_amount,\n",
    "    SUM(tolls_amount) AS revenue_monthly_tolls_amount,\n",
    "    SUM(improvement_surcharge) AS revenue_monthly_improvement_surcharge,\n",
    "    SUM(total_amount) AS revenue_monthly_total_amount,\n",
    "    SUM(congestion_surcharge) AS revenue_monthly_congestion_surcharge,\n",
    "\n",
    "    -- Additional calculations\n",
    "    AVG(passenger_count) AS avg_montly_passenger_count,\n",
    "    AVG(trip_distance) AS avg_montly_trip_distance\n",
    "FROM\n",
    "    trips_data\n",
    "GROUP BY\n",
    "    1, 2, 3\n",
    "\"\"\")"
   ]
  },
  {
   "cell_type": "code",
   "execution_count": 40,
   "id": "b0527be2",
   "metadata": {},
   "outputs": [
    {
     "name": "stdout",
     "output_type": "stream",
     "text": [
      "+------------+-------------------+------------+--------------------+---------------------+-----------------------+--------------------------+----------------------------+-------------------------------------+----------------------------+------------------------------------+--------------------------+------------------------+\n",
      "|revenue_zone|      revenue_month|service_type|revenue_monthly_fare|revenue_monthly_extra|revenue_monthly_mta_tax|revenue_monthly_tip_amount|revenue_monthly_tolls_amount|revenue_monthly_improvement_surcharge|revenue_monthly_total_amount|revenue_monthly_congestion_surcharge|avg_montly_passenger_count|avg_montly_trip_distance|\n",
      "+------------+-------------------+------------+--------------------+---------------------+-----------------------+--------------------------+----------------------------+-------------------------------------+----------------------------+------------------------------------+--------------------------+------------------------+\n",
      "|         164|2020-01-01 00:00:00|       green|  1139.5300000000002|                68.75|                    2.5|                       0.0|          116.28000000000003|                   10.800000000000004|                     1337.86|                                 0.0|                       1.0|       8.912222222222223|\n",
      "|         162|2020-01-01 00:00:00|       green|             2281.46|               145.75|                    9.0|                     11.52|          137.44000000000003|                   20.700000000000028|           2605.870000000001|                                 0.0|                       1.0|       9.524927536231884|\n",
      "|         116|2019-12-01 00:00:00|       green|               21.59|                  1.0|                    1.0|                      4.95|                         0.0|                   0.8999999999999999|          29.439999999999998|                                 0.0|                       1.0|      0.6366666666666666|\n",
      "|         265|2020-02-01 00:00:00|       green|  12431.599999999991|               359.09|                  118.0|                    353.03|           461.3600000000002|                    98.69999999999965|           13827.27999999999|                                2.75|        1.5217391304347827|        8.64527472527472|\n",
      "|         130|2019-12-01 00:00:00|       green|                34.0|                  2.0|                    2.0|                      2.56|                         0.0|                                  1.2|          41.760000000000005|                                 0.0|                       1.0|                  2.0225|\n",
      "|         138|2020-02-01 00:00:00|       green|              982.34|                 6.75|                   17.5|                    143.64|                       18.36|                   15.300000000000004|          1189.3899999999996|                                 5.5|                       1.3|       2.475686274509804|\n",
      "|         155|2020-01-01 00:00:00|       green|  25022.440000000082|              1798.25|                  212.0|                      9.01|          429.11000000000035|                   255.00000000000395|          27730.509999999977|                                2.75|        1.2418300653594772|       5.510752475247514|\n",
      "|          98|2020-01-01 00:00:00|       green|   5543.489999999995|                344.5|                   38.0|                      6.46|          109.64000000000003|                    60.89999999999978|           6110.440000000002|                                 5.5|         1.173913043478261|       5.632169811320751|\n",
      "|         115|2020-01-01 00:00:00|       green|  1960.1399999999996|                 29.0|                   14.0|                       0.0|           434.5200000000002|                   11.100000000000005|          2448.7599999999998|                                 0.0|                      1.52|      14.539487179487178|\n",
      "|         194|2020-01-01 00:00:00|       green|  1151.5000000000002|                 41.5|                   11.5|                     11.14|           201.9600000000001|                    9.900000000000002|                      1442.4|                                11.0|        1.2857142857142858|       7.282142857142857|\n",
      "|         243|2019-12-01 00:00:00|       green|               13.99|                  0.0|                    0.0|                       1.0|                         0.0|                                  0.3|                       15.29|                                 0.0|                       1.0|                     0.0|\n",
      "|         116|2020-02-01 00:00:00|       green|   77899.19999999995|              3196.25|                 2770.5|         6215.789999999997|          1176.9699999999998|                    1809.299999999897|           95437.61000000354|                             2694.25|         1.196932299012694|       2.854020003226331|\n",
      "|          95|2020-01-01 00:00:00|       green|  165389.12000000046|               8057.5|                 6076.0|        13427.379999999983|           2529.819999999975|                    4000.500000000965|           200177.0199999787|                               722.5|        1.3752864157119475|      2.7894981577008098|\n",
      "|         179|2020-02-01 00:00:00|       green|  30993.810000000063|               1776.0|                 1028.0|                   2440.61|           403.9200000000002|                    706.2000000000122|           37867.83999999955|                              508.75|        1.4434865900383143|      2.8016645754914267|\n",
      "|          77|2020-02-01 00:00:00|       green|  16452.800000000007|               1370.0|                  103.5|                      6.62|           591.0700000000003|                   161.09999999999917|           18690.93999999998|                                 0.0|        1.1851851851851851|      6.5498299319727895|\n",
      "|         198|2020-02-01 00:00:00|       green|   8626.359999999991|                739.5|                   62.5|                    119.16|          189.44000000000003|                    96.89999999999972|           9847.160000000009|                                16.5|        1.2190476190476192|        4.81840579710145|\n",
      "|         171|2020-02-01 00:00:00|       green|  11996.220000000003|               830.25|                   38.5|                     51.14|          402.60000000000014|                   114.89999999999954|                    13443.81|                                8.25|        1.2884615384615385|        7.25451776649746|\n",
      "|          73|2020-02-01 00:00:00|       green|  2853.6799999999994|               208.25|                   17.0|                     27.72|                       55.08|                    30.90000000000003|           3196.530000000001|                                 0.0|        1.3076923076923077|       5.247727272727273|\n",
      "|         120|2020-02-01 00:00:00|       green|              695.38|                29.25|                   10.0|                     20.24|                       12.24|                    8.999999999999996|           795.3599999999999|                                22.0|        1.3043478260869565|       6.536333333333332|\n",
      "|         191|2020-01-01 00:00:00|       green|   24836.62000000008|              1235.25|                  144.0|                      9.97|           411.5300000000003|                   218.40000000000256|          26858.519999999964|                                2.75|        1.2651162790697674|       8.111508951406641|\n",
      "+------------+-------------------+------------+--------------------+---------------------+-----------------------+--------------------------+----------------------------+-------------------------------------+----------------------------+------------------------------------+--------------------------+------------------------+\n",
      "only showing top 20 rows\n",
      "\n"
     ]
    }
   ],
   "source": [
    "df_result.show()"
   ]
  },
  {
   "cell_type": "code",
   "execution_count": 42,
   "id": "6dc1c568",
   "metadata": {},
   "outputs": [],
   "source": [
    "df_result.coalesce(1).write.parquet('data/report/revenue/', mode='overwrite')"
   ]
  },
  {
   "cell_type": "code",
   "execution_count": 1,
   "id": "7441bb7d",
   "metadata": {},
   "outputs": [
    {
     "ename": "NameError",
     "evalue": "name 'types' is not defined",
     "output_type": "error",
     "traceback": [
      "\u001b[1;31m---------------------------------------------------------------------------\u001b[0m",
      "\u001b[1;31mNameError\u001b[0m                                 Traceback (most recent call last)",
      "\u001b[1;32m~\\AppData\\Local\\Temp/ipykernel_9840/1907413837.py\u001b[0m in \u001b[0;36m<module>\u001b[1;34m\u001b[0m\n\u001b[1;32m----> 1\u001b[1;33m schema = types.StructType([\n\u001b[0m\u001b[0;32m      2\u001b[0m     \u001b[0mtypes\u001b[0m\u001b[1;33m.\u001b[0m\u001b[0mStructField\u001b[0m\u001b[1;33m(\u001b[0m\u001b[1;34m'hvfhs_license_num'\u001b[0m\u001b[1;33m,\u001b[0m \u001b[0mtypes\u001b[0m\u001b[1;33m.\u001b[0m\u001b[0mStringType\u001b[0m\u001b[1;33m(\u001b[0m\u001b[1;33m)\u001b[0m\u001b[1;33m,\u001b[0m \u001b[1;32mTrue\u001b[0m\u001b[1;33m)\u001b[0m\u001b[1;33m,\u001b[0m\u001b[1;33m\u001b[0m\u001b[1;33m\u001b[0m\u001b[0m\n\u001b[0;32m      3\u001b[0m     \u001b[0mtypes\u001b[0m\u001b[1;33m.\u001b[0m\u001b[0mStructField\u001b[0m\u001b[1;33m(\u001b[0m\u001b[1;34m'dispatching_base_num'\u001b[0m\u001b[1;33m,\u001b[0m \u001b[0mtypes\u001b[0m\u001b[1;33m.\u001b[0m\u001b[0mStringType\u001b[0m\u001b[1;33m(\u001b[0m\u001b[1;33m)\u001b[0m\u001b[1;33m,\u001b[0m \u001b[1;32mTrue\u001b[0m\u001b[1;33m)\u001b[0m\u001b[1;33m,\u001b[0m\u001b[1;33m\u001b[0m\u001b[1;33m\u001b[0m\u001b[0m\n\u001b[0;32m      4\u001b[0m     \u001b[0mtypes\u001b[0m\u001b[1;33m.\u001b[0m\u001b[0mStructField\u001b[0m\u001b[1;33m(\u001b[0m\u001b[1;34m'pickup_datetime'\u001b[0m\u001b[1;33m,\u001b[0m \u001b[0mtypes\u001b[0m\u001b[1;33m.\u001b[0m\u001b[0mTimestampType\u001b[0m\u001b[1;33m(\u001b[0m\u001b[1;33m)\u001b[0m\u001b[1;33m,\u001b[0m \u001b[1;32mTrue\u001b[0m\u001b[1;33m)\u001b[0m\u001b[1;33m,\u001b[0m\u001b[1;33m\u001b[0m\u001b[1;33m\u001b[0m\u001b[0m\n\u001b[0;32m      5\u001b[0m     \u001b[0mtypes\u001b[0m\u001b[1;33m.\u001b[0m\u001b[0mStructField\u001b[0m\u001b[1;33m(\u001b[0m\u001b[1;34m'dropoff_datetime'\u001b[0m\u001b[1;33m,\u001b[0m \u001b[0mtypes\u001b[0m\u001b[1;33m.\u001b[0m\u001b[0mTimestampType\u001b[0m\u001b[1;33m(\u001b[0m\u001b[1;33m)\u001b[0m\u001b[1;33m,\u001b[0m \u001b[1;32mTrue\u001b[0m\u001b[1;33m)\u001b[0m\u001b[1;33m,\u001b[0m\u001b[1;33m\u001b[0m\u001b[1;33m\u001b[0m\u001b[0m\n",
      "\u001b[1;31mNameError\u001b[0m: name 'types' is not defined"
     ]
    }
   ],
   "source": [
    "schema = types.StructType([\n",
    "    types.StructField('hvfhs_license_num', types.StringType(), True),\n",
    "    types.StructField('dispatching_base_num', types.StringType(), True),\n",
    "    types.StructField('pickup_datetime', types.TimestampType(), True),\n",
    "    types.StructField('dropoff_datetime', types.TimestampType(), True),\n",
    "    types.StructField('PULocationID', types.IntegerType(), True),\n",
    "    types.StructField('DOLocationID', types.IntegerType(), True),\n",
    "    types.StructField('SR_Flag', types.StringType(), True)\n",
    "])"
   ]
  },
  {
   "cell_type": "code",
   "execution_count": null,
   "id": "96ce68ec",
   "metadata": {},
   "outputs": [],
   "source": [
    "df = spark.read \\\n",
    "    .option(\"header\", \"true\") \\\n",
    "    .schema(schema) \\\n",
    "    .csv('./data/homework_data/fhv_tripdata_2019-10.csv')\n",
    "\n",
    "\n",
    "df.write.parquet('data/homework/pq/fhvhv/', mode='overwrite')"
   ]
  }
 ],
 "metadata": {
  "kernelspec": {
   "display_name": "Python 3 (ipykernel)",
   "language": "python",
   "name": "python3"
  },
  "language_info": {
   "codemirror_mode": {
    "name": "ipython",
    "version": 3
   },
   "file_extension": ".py",
   "mimetype": "text/x-python",
   "name": "python",
   "nbconvert_exporter": "python",
   "pygments_lexer": "ipython3",
   "version": "3.9.7"
  }
 },
 "nbformat": 4,
 "nbformat_minor": 5
}
