{
 "cells": [
  {
   "cell_type": "code",
   "execution_count": 1,
   "id": "0de1f0f5-0b9b-4454-8c98-2cc465e84493",
   "metadata": {},
   "outputs": [],
   "source": [
    "#importing pandas\n",
    "import pandas as pd\n",
    "#controlling the output format\n",
    "\n",
    "pd.set_option('display.max_columns',10)\n",
    "pd.set_option('display.max_rows',10)\n",
    "pd.set_option('display.width',60)\n",
    "pd.set_option('display.notebook_repr_html',True)"
   ]
  },
  {
   "cell_type": "code",
   "execution_count": 2,
   "id": "6c6fc8d2-af3c-4fd3-9d12-a628a5d1540c",
   "metadata": {},
   "outputs": [
    {
     "data": {
      "text/plain": [
       "0    1\n",
       "1    2\n",
       "2    3\n",
       "3    4\n",
       "4    5\n",
       "dtype: int64"
      ]
     },
     "execution_count": 2,
     "metadata": {},
     "output_type": "execute_result"
    }
   ],
   "source": [
    "#creating Series\n",
    "s = pd.Series([1,2,3,4,5])\n",
    "s"
   ]
  },
  {
   "cell_type": "code",
   "execution_count": 3,
   "id": "202a50c8-3c30-4e5e-b09b-283fcd12c468",
   "metadata": {},
   "outputs": [
    {
     "data": {
      "text/plain": [
       "2"
      ]
     },
     "execution_count": 3,
     "metadata": {},
     "output_type": "execute_result"
    }
   ],
   "source": [
    "#Accessing elements in the series\n",
    "s[1]"
   ]
  },
  {
   "cell_type": "code",
   "execution_count": 4,
   "id": "be4fb8d4-6309-4f3a-a487-e54609b7a6e7",
   "metadata": {},
   "outputs": [
    {
     "data": {
      "text/plain": [
       "2    3\n",
       "4    5\n",
       "dtype: int64"
      ]
     },
     "execution_count": 4,
     "metadata": {},
     "output_type": "execute_result"
    }
   ],
   "source": [
    "#accessing multiple values in the series\n",
    "s[[2,4]]"
   ]
  },
  {
   "cell_type": "code",
   "execution_count": 5,
   "id": "9c2e7f09-5420-4c8d-ae7f-d605ab6d84e7",
   "metadata": {},
   "outputs": [
    {
     "data": {
      "text/plain": [
       "a    3\n",
       "b    2\n",
       "c    1\n",
       "d    4\n",
       "e    5\n",
       "dtype: int64"
      ]
     },
     "execution_count": 5,
     "metadata": {},
     "output_type": "execute_result"
    }
   ],
   "source": [
    "#A series object can be created using a user defined index by using the Index parameter\n",
    "a = pd.Series([3,2,1,4,5],index = ['a','b','c','d','e'])\n",
    "a"
   ]
  },
  {
   "cell_type": "code",
   "execution_count": 6,
   "id": "4df5d613-4a01-42fd-8fc8-769c677e21cf",
   "metadata": {},
   "outputs": [
    {
     "data": {
      "text/plain": [
       "b    2\n",
       "e    5\n",
       "dtype: int64"
      ]
     },
     "execution_count": 6,
     "metadata": {},
     "output_type": "execute_result"
    }
   ],
   "source": [
    "#now we can access using the alphanumeric index\n",
    "a[['b','e']]"
   ]
  },
  {
   "cell_type": "code",
   "execution_count": 7,
   "id": "c811fe19-bac0-4ee3-ae8c-9de59e15fa53",
   "metadata": {},
   "outputs": [
    {
     "name": "stderr",
     "output_type": "stream",
     "text": [
      "C:\\Users\\pc\\AppData\\Local\\Temp\\ipykernel_4940\\3558103326.py:2: FutureWarning: Series.__getitem__ treating keys as positions is deprecated. In a future version, integer keys will always be treated as labels (consistent with DataFrame behavior). To access a value by position, use `ser.iloc[pos]`\n",
      "  a[[1,2]]\n"
     ]
    },
    {
     "data": {
      "text/plain": [
       "b    2\n",
       "c    1\n",
       "dtype: int64"
      ]
     },
     "execution_count": 7,
     "metadata": {},
     "output_type": "execute_result"
    }
   ],
   "source": [
    "#passing a list of integers to a Series of a non integer index will look up based upon 0-based index like an array\n",
    "a[[1,2]]"
   ]
  },
  {
   "cell_type": "code",
   "execution_count": 8,
   "id": "79a6a9cf-1c79-4cad-bb8d-3109c30f7698",
   "metadata": {},
   "outputs": [
    {
     "data": {
      "text/plain": [
       "Index(['a', 'b', 'c', 'd', 'e'], dtype='object')"
      ]
     },
     "execution_count": 8,
     "metadata": {},
     "output_type": "execute_result"
    }
   ],
   "source": [
    "#we can examine the index of a series using the index property\n",
    "a.index\n"
   ]
  },
  {
   "cell_type": "code",
   "execution_count": 9,
   "id": "4f7ca2a5-b2e7-434f-a707-cdbfc7a4d0c7",
   "metadata": {},
   "outputs": [
    {
     "data": {
      "text/plain": [
       "DatetimeIndex(['2023-01-01', '2023-01-02', '2023-01-03',\n",
       "               '2023-01-04', '2023-01-05', '2023-01-06'],\n",
       "              dtype='datetime64[ns]', freq='D')"
      ]
     },
     "execution_count": 9,
     "metadata": {},
     "output_type": "execute_result"
    }
   ],
   "source": [
    "#create an index who's index is a series of dates between the specified dates\n",
    "dates = pd.date_range('2023-01-01','2023-01-06')\n",
    "dates"
   ]
  },
  {
   "cell_type": "code",
   "execution_count": 10,
   "id": "94cbb491-4c41-4c6d-84e7-3d2009370553",
   "metadata": {},
   "outputs": [],
   "source": [
    "#the above has created a special index that is DatetimeIndex\n",
    "#Create a series which will represent temperatures for each date in the series\n",
    "temps = pd.Series([80,82,85,90,83,87],index=dates)"
   ]
  },
  {
   "cell_type": "code",
   "execution_count": 11,
   "id": "617b773e-ec41-4651-ba51-98dea0928195",
   "metadata": {},
   "outputs": [
    {
     "data": {
      "text/plain": [
       "2023-01-01    80\n",
       "2023-01-02    82\n",
       "2023-01-03    85\n",
       "2023-01-04    90\n",
       "2023-01-05    83\n",
       "2023-01-06    87\n",
       "Freq: D, dtype: int64"
      ]
     },
     "execution_count": 11,
     "metadata": {},
     "output_type": "execute_result"
    }
   ],
   "source": [
    "temps"
   ]
  },
  {
   "cell_type": "code",
   "execution_count": 12,
   "id": "82a05ede-e65d-4c36-9d47-df05ed98472f",
   "metadata": {},
   "outputs": [
    {
     "data": {
      "text/plain": [
       "83"
      ]
     },
     "execution_count": 12,
     "metadata": {},
     "output_type": "execute_result"
    }
   ],
   "source": [
    "# Looking up temperature of a specific date by:\n",
    "temps['2023-01-05']"
   ]
  },
  {
   "cell_type": "code",
   "execution_count": 13,
   "id": "9fa418ad-d971-481b-be59-34827e8b6860",
   "metadata": {},
   "outputs": [
    {
     "data": {
      "text/plain": [
       "2023-01-01    10\n",
       "2023-01-02     7\n",
       "2023-01-03    16\n",
       "2023-01-04     7\n",
       "2023-01-05     4\n",
       "2023-01-06    10\n",
       "Freq: D, dtype: int64"
      ]
     },
     "execution_count": 13,
     "metadata": {},
     "output_type": "execute_result"
    }
   ],
   "source": [
    "temps1 = pd.Series([70,75,69,83,79,77],index = dates)\n",
    "#calculate the difference on those matching lables\n",
    "temp_diff = temps-temps1\n",
    "temp_diff"
   ]
  },
  {
   "cell_type": "code",
   "execution_count": 14,
   "id": "d16ec68d-e804-458c-8f0d-4f80a31b22cc",
   "metadata": {},
   "outputs": [
    {
     "name": "stderr",
     "output_type": "stream",
     "text": [
      "C:\\Users\\pc\\AppData\\Local\\Temp\\ipykernel_4940\\1202203360.py:2: FutureWarning: Series.__getitem__ treating keys as positions is deprecated. In a future version, integer keys will always be treated as labels (consistent with DataFrame behavior). To access a value by position, use `ser.iloc[pos]`\n",
      "  temp_diff[0]\n"
     ]
    },
    {
     "data": {
      "text/plain": [
       "10"
      ]
     },
     "execution_count": 14,
     "metadata": {},
     "output_type": "execute_result"
    }
   ],
   "source": [
    "#since the index is a non-integer we can also use the 0-based index to access values like so:\n",
    "temp_diff[0]"
   ]
  },
  {
   "cell_type": "code",
   "execution_count": 15,
   "id": "fe1f0eeb-5003-41c9-b1f3-1e85c04a3eee",
   "metadata": {},
   "outputs": [
    {
     "data": {
      "text/plain": [
       "9.0"
      ]
     },
     "execution_count": 15,
     "metadata": {},
     "output_type": "execute_result"
    }
   ],
   "source": [
    "#finding the mean\n",
    "temp_diff.mean()"
   ]
  },
  {
   "cell_type": "code",
   "execution_count": 16,
   "id": "189b62a8-3394-4a97-8453-b218a81fbdc0",
   "metadata": {},
   "outputs": [],
   "source": [
    "#Pandas DataFrame.\n",
    "#in a Series only one value can be associated with a certain index if we wanted multiple values to be associated with an index we can use a DataFrame\n",
    "#Each series will be a columns in a dataframe\n"
   ]
  },
  {
   "cell_type": "code",
   "execution_count": 17,
   "id": "c9886f1b-d54e-435f-8c7f-b291941fb561",
   "metadata": {},
   "outputs": [
    {
     "data": {
      "text/html": [
       "<div>\n",
       "<style scoped>\n",
       "    .dataframe tbody tr th:only-of-type {\n",
       "        vertical-align: middle;\n",
       "    }\n",
       "\n",
       "    .dataframe tbody tr th {\n",
       "        vertical-align: top;\n",
       "    }\n",
       "\n",
       "    .dataframe thead th {\n",
       "        text-align: right;\n",
       "    }\n",
       "</style>\n",
       "<table border=\"1\" class=\"dataframe\">\n",
       "  <thead>\n",
       "    <tr style=\"text-align: right;\">\n",
       "      <th></th>\n",
       "      <th>Nairobi</th>\n",
       "      <th>Kiambu</th>\n",
       "    </tr>\n",
       "  </thead>\n",
       "  <tbody>\n",
       "    <tr>\n",
       "      <th>2023-01-01</th>\n",
       "      <td>80</td>\n",
       "      <td>70</td>\n",
       "    </tr>\n",
       "    <tr>\n",
       "      <th>2023-01-02</th>\n",
       "      <td>82</td>\n",
       "      <td>75</td>\n",
       "    </tr>\n",
       "    <tr>\n",
       "      <th>2023-01-03</th>\n",
       "      <td>85</td>\n",
       "      <td>69</td>\n",
       "    </tr>\n",
       "    <tr>\n",
       "      <th>2023-01-04</th>\n",
       "      <td>90</td>\n",
       "      <td>83</td>\n",
       "    </tr>\n",
       "    <tr>\n",
       "      <th>2023-01-05</th>\n",
       "      <td>83</td>\n",
       "      <td>79</td>\n",
       "    </tr>\n",
       "    <tr>\n",
       "      <th>2023-01-06</th>\n",
       "      <td>87</td>\n",
       "      <td>77</td>\n",
       "    </tr>\n",
       "  </tbody>\n",
       "</table>\n",
       "</div>"
      ],
      "text/plain": [
       "            Nairobi  Kiambu\n",
       "2023-01-01       80      70\n",
       "2023-01-02       82      75\n",
       "2023-01-03       85      69\n",
       "2023-01-04       90      83\n",
       "2023-01-05       83      79\n",
       "2023-01-06       87      77"
      ]
     },
     "execution_count": 17,
     "metadata": {},
     "output_type": "execute_result"
    }
   ],
   "source": [
    "#creating a Dataframe from the two series and giving them column names\n",
    "temps_df = pd.DataFrame({\n",
    "    \"Nairobi\" : temps,\n",
    "    \"Kiambu\" : temps1\n",
    "})\n",
    "temps_df"
   ]
  },
  {
   "cell_type": "code",
   "execution_count": 18,
   "id": "8695ad39-94bb-4d7c-b81d-e4e5ef027bb8",
   "metadata": {},
   "outputs": [
    {
     "data": {
      "text/plain": [
       "2023-01-01    80\n",
       "2023-01-02    82\n",
       "2023-01-03    85\n",
       "2023-01-04    90\n",
       "2023-01-05    83\n",
       "2023-01-06    87\n",
       "Freq: D, Name: Nairobi, dtype: int64"
      ]
     },
     "execution_count": 18,
     "metadata": {},
     "output_type": "execute_result"
    }
   ],
   "source": [
    "#columns in a Dataframe can be accessed using an indexer with the name of column or a list of column names\n",
    "temps_df[\"Nairobi\"]"
   ]
  },
  {
   "cell_type": "code",
   "execution_count": 19,
   "id": "613bb023-a60c-4e0c-b2e5-246f5e3a7736",
   "metadata": {},
   "outputs": [
    {
     "data": {
      "text/plain": [
       "2023-01-01    70\n",
       "2023-01-02    75\n",
       "2023-01-03    69\n",
       "2023-01-04    83\n",
       "2023-01-05    79\n",
       "2023-01-06    77\n",
       "Freq: D, Name: Kiambu, dtype: int64"
      ]
     },
     "execution_count": 19,
     "metadata": {},
     "output_type": "execute_result"
    }
   ],
   "source": [
    "temps_df[\"Kiambu\"]"
   ]
  },
  {
   "cell_type": "code",
   "execution_count": 20,
   "id": "209580f4-3575-4418-a58e-56b1030d5609",
   "metadata": {},
   "outputs": [
    {
     "data": {
      "text/html": [
       "<div>\n",
       "<style scoped>\n",
       "    .dataframe tbody tr th:only-of-type {\n",
       "        vertical-align: middle;\n",
       "    }\n",
       "\n",
       "    .dataframe tbody tr th {\n",
       "        vertical-align: top;\n",
       "    }\n",
       "\n",
       "    .dataframe thead th {\n",
       "        text-align: right;\n",
       "    }\n",
       "</style>\n",
       "<table border=\"1\" class=\"dataframe\">\n",
       "  <thead>\n",
       "    <tr style=\"text-align: right;\">\n",
       "      <th></th>\n",
       "      <th>Nairobi</th>\n",
       "      <th>Kiambu</th>\n",
       "    </tr>\n",
       "  </thead>\n",
       "  <tbody>\n",
       "    <tr>\n",
       "      <th>2023-01-01</th>\n",
       "      <td>80</td>\n",
       "      <td>70</td>\n",
       "    </tr>\n",
       "    <tr>\n",
       "      <th>2023-01-02</th>\n",
       "      <td>82</td>\n",
       "      <td>75</td>\n",
       "    </tr>\n",
       "    <tr>\n",
       "      <th>2023-01-03</th>\n",
       "      <td>85</td>\n",
       "      <td>69</td>\n",
       "    </tr>\n",
       "    <tr>\n",
       "      <th>2023-01-04</th>\n",
       "      <td>90</td>\n",
       "      <td>83</td>\n",
       "    </tr>\n",
       "    <tr>\n",
       "      <th>2023-01-05</th>\n",
       "      <td>83</td>\n",
       "      <td>79</td>\n",
       "    </tr>\n",
       "    <tr>\n",
       "      <th>2023-01-06</th>\n",
       "      <td>87</td>\n",
       "      <td>77</td>\n",
       "    </tr>\n",
       "  </tbody>\n",
       "</table>\n",
       "</div>"
      ],
      "text/plain": [
       "            Nairobi  Kiambu\n",
       "2023-01-01       80      70\n",
       "2023-01-02       82      75\n",
       "2023-01-03       85      69\n",
       "2023-01-04       90      83\n",
       "2023-01-05       83      79\n",
       "2023-01-06       87      77"
      ]
     },
     "execution_count": 20,
     "metadata": {},
     "output_type": "execute_result"
    }
   ],
   "source": [
    "temps_df[[\"Nairobi\",\"Kiambu\"]]"
   ]
  },
  {
   "cell_type": "code",
   "execution_count": 21,
   "id": "6e11dd2e-c041-4794-adb1-528961a37bf8",
   "metadata": {},
   "outputs": [
    {
     "data": {
      "text/plain": [
       "2023-01-01    80\n",
       "2023-01-02    82\n",
       "2023-01-03    85\n",
       "2023-01-04    90\n",
       "2023-01-05    83\n",
       "2023-01-06    87\n",
       "Freq: D, Name: Nairobi, dtype: int64"
      ]
     },
     "execution_count": 21,
     "metadata": {},
     "output_type": "execute_result"
    }
   ],
   "source": [
    "temps_df.Nairobi"
   ]
  },
  {
   "cell_type": "code",
   "execution_count": 22,
   "id": "2ba24ac9-234c-4b52-bb4b-21e046b46aae",
   "metadata": {},
   "outputs": [
    {
     "data": {
      "text/plain": [
       "2023-01-01    70\n",
       "2023-01-02    75\n",
       "2023-01-03    69\n",
       "2023-01-04    83\n",
       "2023-01-05    79\n",
       "2023-01-06    77\n",
       "Freq: D, Name: Kiambu, dtype: int64"
      ]
     },
     "execution_count": 22,
     "metadata": {},
     "output_type": "execute_result"
    }
   ],
   "source": [
    "temps_df.Kiambu"
   ]
  },
  {
   "cell_type": "code",
   "execution_count": 23,
   "id": "d56a8fca-f57c-4cdf-a8dd-462c52f922dc",
   "metadata": {},
   "outputs": [
    {
     "data": {
      "text/plain": [
       "2023-01-01    10\n",
       "2023-01-02     7\n",
       "2023-01-03    16\n",
       "2023-01-04     7\n",
       "2023-01-05     4\n",
       "2023-01-06    10\n",
       "Freq: D, dtype: int64"
      ]
     },
     "execution_count": 23,
     "metadata": {},
     "output_type": "execute_result"
    }
   ],
   "source": [
    "temps_df.Nairobi - temps_df.Kiambu"
   ]
  },
  {
   "cell_type": "code",
   "execution_count": 24,
   "id": "5e479725-754a-413d-bb61-805ae0115ece",
   "metadata": {},
   "outputs": [],
   "source": [
    "temps_df[\"Differences\"] = temps_df.Nairobi - temps_df.Kiambu"
   ]
  },
  {
   "cell_type": "code",
   "execution_count": 25,
   "id": "4dfbbd92-1b1b-4ac4-8412-ae1a7f833f76",
   "metadata": {},
   "outputs": [
    {
     "data": {
      "text/html": [
       "<div>\n",
       "<style scoped>\n",
       "    .dataframe tbody tr th:only-of-type {\n",
       "        vertical-align: middle;\n",
       "    }\n",
       "\n",
       "    .dataframe tbody tr th {\n",
       "        vertical-align: top;\n",
       "    }\n",
       "\n",
       "    .dataframe thead th {\n",
       "        text-align: right;\n",
       "    }\n",
       "</style>\n",
       "<table border=\"1\" class=\"dataframe\">\n",
       "  <thead>\n",
       "    <tr style=\"text-align: right;\">\n",
       "      <th></th>\n",
       "      <th>Nairobi</th>\n",
       "      <th>Kiambu</th>\n",
       "      <th>Differences</th>\n",
       "    </tr>\n",
       "  </thead>\n",
       "  <tbody>\n",
       "    <tr>\n",
       "      <th>2023-01-01</th>\n",
       "      <td>80</td>\n",
       "      <td>70</td>\n",
       "      <td>10</td>\n",
       "    </tr>\n",
       "    <tr>\n",
       "      <th>2023-01-02</th>\n",
       "      <td>82</td>\n",
       "      <td>75</td>\n",
       "      <td>7</td>\n",
       "    </tr>\n",
       "    <tr>\n",
       "      <th>2023-01-03</th>\n",
       "      <td>85</td>\n",
       "      <td>69</td>\n",
       "      <td>16</td>\n",
       "    </tr>\n",
       "    <tr>\n",
       "      <th>2023-01-04</th>\n",
       "      <td>90</td>\n",
       "      <td>83</td>\n",
       "      <td>7</td>\n",
       "    </tr>\n",
       "    <tr>\n",
       "      <th>2023-01-05</th>\n",
       "      <td>83</td>\n",
       "      <td>79</td>\n",
       "      <td>4</td>\n",
       "    </tr>\n",
       "    <tr>\n",
       "      <th>2023-01-06</th>\n",
       "      <td>87</td>\n",
       "      <td>77</td>\n",
       "      <td>10</td>\n",
       "    </tr>\n",
       "  </tbody>\n",
       "</table>\n",
       "</div>"
      ],
      "text/plain": [
       "            Nairobi  Kiambu  Differences\n",
       "2023-01-01       80      70           10\n",
       "2023-01-02       82      75            7\n",
       "2023-01-03       85      69           16\n",
       "2023-01-04       90      83            7\n",
       "2023-01-05       83      79            4\n",
       "2023-01-06       87      77           10"
      ]
     },
     "execution_count": 25,
     "metadata": {},
     "output_type": "execute_result"
    }
   ],
   "source": [
    "temps_df"
   ]
  },
  {
   "cell_type": "code",
   "execution_count": 26,
   "id": "141fb51a-5433-448c-a50a-75121474cbc3",
   "metadata": {},
   "outputs": [
    {
     "data": {
      "text/plain": [
       "Index(['Nairobi', 'Kiambu', 'Differences'], dtype='object')"
      ]
     },
     "execution_count": 26,
     "metadata": {},
     "output_type": "execute_result"
    }
   ],
   "source": [
    "#Names of columns in the Dataframe are accessible via the columns property\n",
    "temps_df.columns"
   ]
  },
  {
   "cell_type": "code",
   "execution_count": 27,
   "id": "e206823a-cf92-4d8d-9e2a-9c62d4c730e8",
   "metadata": {},
   "outputs": [
    {
     "data": {
      "text/plain": [
       "2023-01-01    10\n",
       "2023-01-02     7\n",
       "2023-01-03    16\n",
       "2023-01-04     7\n",
       "2023-01-05     4\n",
       "2023-01-06    10\n",
       "Freq: D, Name: Differences, dtype: int64"
      ]
     },
     "execution_count": 27,
     "metadata": {},
     "output_type": "execute_result"
    }
   ],
   "source": [
    "# Accessing values in a columns can be done using the following way\n",
    "temps_df.Differences[:]"
   ]
  },
  {
   "cell_type": "code",
   "execution_count": 28,
   "id": "5c4f03fe-e136-4b66-85c6-96ec49cc9609",
   "metadata": {},
   "outputs": [
    {
     "data": {
      "text/plain": [
       "2023-01-02     7\n",
       "2023-01-03    16\n",
       "Freq: D, Name: Differences, dtype: int64"
      ]
     },
     "execution_count": 28,
     "metadata": {},
     "output_type": "execute_result"
    }
   ],
   "source": [
    "temps_df.Differences[1:3]"
   ]
  },
  {
   "cell_type": "code",
   "execution_count": 29,
   "id": "537cad25-6307-4b1b-af1d-f31be93ce1db",
   "metadata": {},
   "outputs": [
    {
     "data": {
      "text/plain": [
       "Nairobi        82\n",
       "Kiambu         75\n",
       "Differences     7\n",
       "Name: 2023-01-02 00:00:00, dtype: int64"
      ]
     },
     "execution_count": 29,
     "metadata": {},
     "output_type": "execute_result"
    }
   ],
   "source": [
    "#To retrieve Entire columns from the Dataframe one can use the .loc and .iloc property\n",
    "# .loc ensures that the look up is by index.\n",
    "# .iloc ensures that the look up is by the 0-based position\n",
    "temps_df.iloc[1]"
   ]
  },
  {
   "cell_type": "code",
   "execution_count": 30,
   "id": "79dc2461-d473-438c-9172-0c7f62ec95df",
   "metadata": {},
   "outputs": [
    {
     "data": {
      "text/plain": [
       "Nairobi        85\n",
       "Kiambu         69\n",
       "Differences    16\n",
       "Name: 2023-01-03 00:00:00, dtype: int64"
      ]
     },
     "execution_count": 30,
     "metadata": {},
     "output_type": "execute_result"
    }
   ],
   "source": [
    "#retrieving using the index label \n",
    "temps_df.loc['2023-01-03']"
   ]
  },
  {
   "cell_type": "code",
   "execution_count": 31,
   "id": "fb15cbab-4c6b-48bf-90a5-a5374139ced9",
   "metadata": {},
   "outputs": [
    {
     "data": {
      "text/plain": [
       "2023-01-02    7\n",
       "2023-01-04    7\n",
       "2023-01-05    4\n",
       "Name: Differences, dtype: int64"
      ]
     },
     "execution_count": 31,
     "metadata": {},
     "output_type": "execute_result"
    }
   ],
   "source": [
    "temps_df.iloc[[1,3,4]].Differences"
   ]
  },
  {
   "cell_type": "code",
   "execution_count": 32,
   "id": "624cef4a-7d8a-4be3-a456-e74387250e68",
   "metadata": {},
   "outputs": [
    {
     "data": {
      "text/plain": [
       "2023-01-01    True\n",
       "2023-01-02    True\n",
       "2023-01-03    True\n",
       "2023-01-04    True\n",
       "2023-01-05    True\n",
       "2023-01-06    True\n",
       "Freq: D, Name: Nairobi, dtype: bool"
      ]
     },
     "execution_count": 32,
     "metadata": {},
     "output_type": "execute_result"
    }
   ],
   "source": [
    "# Rows of a data frame can be selected based on the logical expression that is applied to the data in each row\n",
    "temps_df.Nairobi >60"
   ]
  },
  {
   "cell_type": "code",
   "execution_count": 33,
   "id": "779d298d-6a18-42ed-8687-b7b396249866",
   "metadata": {},
   "outputs": [
    {
     "data": {
      "text/plain": [
       "2023-01-01    False\n",
       "2023-01-02     True\n",
       "2023-01-03     True\n",
       "2023-01-04     True\n",
       "2023-01-05     True\n",
       "2023-01-06     True\n",
       "Freq: D, Name: Nairobi, dtype: bool"
      ]
     },
     "execution_count": 33,
     "metadata": {},
     "output_type": "execute_result"
    }
   ],
   "source": [
    "temps_df.Nairobi>80"
   ]
  },
  {
   "cell_type": "code",
   "execution_count": 34,
   "id": "b98b22df-41cb-4ee3-9f4b-a1734360cc05",
   "metadata": {},
   "outputs": [
    {
     "data": {
      "text/html": [
       "<div>\n",
       "<style scoped>\n",
       "    .dataframe tbody tr th:only-of-type {\n",
       "        vertical-align: middle;\n",
       "    }\n",
       "\n",
       "    .dataframe tbody tr th {\n",
       "        vertical-align: top;\n",
       "    }\n",
       "\n",
       "    .dataframe thead th {\n",
       "        text-align: right;\n",
       "    }\n",
       "</style>\n",
       "<table border=\"1\" class=\"dataframe\">\n",
       "  <thead>\n",
       "    <tr style=\"text-align: right;\">\n",
       "      <th></th>\n",
       "      <th>Nairobi</th>\n",
       "      <th>Kiambu</th>\n",
       "      <th>Differences</th>\n",
       "    </tr>\n",
       "  </thead>\n",
       "  <tbody>\n",
       "    <tr>\n",
       "      <th>2023-01-02</th>\n",
       "      <td>82</td>\n",
       "      <td>75</td>\n",
       "      <td>7</td>\n",
       "    </tr>\n",
       "    <tr>\n",
       "      <th>2023-01-03</th>\n",
       "      <td>85</td>\n",
       "      <td>69</td>\n",
       "      <td>16</td>\n",
       "    </tr>\n",
       "    <tr>\n",
       "      <th>2023-01-04</th>\n",
       "      <td>90</td>\n",
       "      <td>83</td>\n",
       "      <td>7</td>\n",
       "    </tr>\n",
       "    <tr>\n",
       "      <th>2023-01-05</th>\n",
       "      <td>83</td>\n",
       "      <td>79</td>\n",
       "      <td>4</td>\n",
       "    </tr>\n",
       "    <tr>\n",
       "      <th>2023-01-06</th>\n",
       "      <td>87</td>\n",
       "      <td>77</td>\n",
       "      <td>10</td>\n",
       "    </tr>\n",
       "  </tbody>\n",
       "</table>\n",
       "</div>"
      ],
      "text/plain": [
       "            Nairobi  Kiambu  Differences\n",
       "2023-01-02       82      75            7\n",
       "2023-01-03       85      69           16\n",
       "2023-01-04       90      83            7\n",
       "2023-01-05       83      79            4\n",
       "2023-01-06       87      77           10"
      ]
     },
     "execution_count": 34,
     "metadata": {},
     "output_type": "execute_result"
    }
   ],
   "source": [
    "#This will return where Nairobi's temperature is greater than 80\n",
    "temps_df[temps_df.Nairobi>80]"
   ]
  },
  {
   "cell_type": "code",
   "execution_count": 35,
   "id": "40ef7f8c-ccfa-417d-9d19-bbf900bbcefd",
   "metadata": {},
   "outputs": [],
   "source": [
    "import zipfile\n",
    "with zipfile.ZipFile('./archive.zip','r') as z:\n",
    "    z.extractall('./data')"
   ]
  },
  {
   "cell_type": "code",
   "execution_count": 36,
   "id": "117df938-41a4-4198-8d6a-64ad6cb360bf",
   "metadata": {},
   "outputs": [],
   "source": [
    "#Reading a file using pandas\n",
    "df = pd.read_csv('./data/housing_price_dataset.csv')"
   ]
  },
  {
   "cell_type": "code",
   "execution_count": 37,
   "id": "4cb4da73-c933-4778-8678-ebce3f9e7c10",
   "metadata": {},
   "outputs": [
    {
     "data": {
      "text/html": [
       "<div>\n",
       "<style scoped>\n",
       "    .dataframe tbody tr th:only-of-type {\n",
       "        vertical-align: middle;\n",
       "    }\n",
       "\n",
       "    .dataframe tbody tr th {\n",
       "        vertical-align: top;\n",
       "    }\n",
       "\n",
       "    .dataframe thead th {\n",
       "        text-align: right;\n",
       "    }\n",
       "</style>\n",
       "<table border=\"1\" class=\"dataframe\">\n",
       "  <thead>\n",
       "    <tr style=\"text-align: right;\">\n",
       "      <th></th>\n",
       "      <th>SquareFeet</th>\n",
       "      <th>Bedrooms</th>\n",
       "      <th>Bathrooms</th>\n",
       "      <th>Neighborhood</th>\n",
       "      <th>YearBuilt</th>\n",
       "      <th>Price</th>\n",
       "    </tr>\n",
       "  </thead>\n",
       "  <tbody>\n",
       "    <tr>\n",
       "      <th>0</th>\n",
       "      <td>2126</td>\n",
       "      <td>4</td>\n",
       "      <td>1</td>\n",
       "      <td>Rural</td>\n",
       "      <td>1969</td>\n",
       "      <td>215355.283618</td>\n",
       "    </tr>\n",
       "    <tr>\n",
       "      <th>1</th>\n",
       "      <td>2459</td>\n",
       "      <td>3</td>\n",
       "      <td>2</td>\n",
       "      <td>Rural</td>\n",
       "      <td>1980</td>\n",
       "      <td>195014.221626</td>\n",
       "    </tr>\n",
       "    <tr>\n",
       "      <th>2</th>\n",
       "      <td>1860</td>\n",
       "      <td>2</td>\n",
       "      <td>1</td>\n",
       "      <td>Suburb</td>\n",
       "      <td>1970</td>\n",
       "      <td>306891.012076</td>\n",
       "    </tr>\n",
       "    <tr>\n",
       "      <th>3</th>\n",
       "      <td>2294</td>\n",
       "      <td>2</td>\n",
       "      <td>1</td>\n",
       "      <td>Urban</td>\n",
       "      <td>1996</td>\n",
       "      <td>206786.787153</td>\n",
       "    </tr>\n",
       "    <tr>\n",
       "      <th>4</th>\n",
       "      <td>2130</td>\n",
       "      <td>5</td>\n",
       "      <td>2</td>\n",
       "      <td>Suburb</td>\n",
       "      <td>2001</td>\n",
       "      <td>272436.239065</td>\n",
       "    </tr>\n",
       "  </tbody>\n",
       "</table>\n",
       "</div>"
      ],
      "text/plain": [
       "   SquareFeet  Bedrooms  Bathrooms Neighborhood  \\\n",
       "0        2126         4          1        Rural   \n",
       "1        2459         3          2        Rural   \n",
       "2        1860         2          1       Suburb   \n",
       "3        2294         2          1        Urban   \n",
       "4        2130         5          2       Suburb   \n",
       "\n",
       "   YearBuilt          Price  \n",
       "0       1969  215355.283618  \n",
       "1       1980  195014.221626  \n",
       "2       1970  306891.012076  \n",
       "3       1996  206786.787153  \n",
       "4       2001  272436.239065  "
      ]
     },
     "execution_count": 37,
     "metadata": {},
     "output_type": "execute_result"
    }
   ],
   "source": [
    "df.head()"
   ]
  },
  {
   "cell_type": "code",
   "execution_count": 38,
   "id": "f0c4e6d6-0c10-493d-98c4-ff8772a82a56",
   "metadata": {},
   "outputs": [
    {
     "data": {
      "text/plain": [
       "2126"
      ]
     },
     "execution_count": 38,
     "metadata": {},
     "output_type": "execute_result"
    }
   ],
   "source": [
    "df[\"SquareFeet\"][0]"
   ]
  },
  {
   "cell_type": "code",
   "execution_count": 39,
   "id": "90410291-f3aa-4f46-bb05-dfc9a966373b",
   "metadata": {},
   "outputs": [
    {
     "data": {
      "text/plain": [
       "RangeIndex(start=0, stop=50000, step=1)"
      ]
     },
     "execution_count": 39,
     "metadata": {},
     "output_type": "execute_result"
    }
   ],
   "source": [
    "df.index"
   ]
  },
  {
   "cell_type": "code",
   "execution_count": 40,
   "id": "9c1ba46a-88b9-4b0b-8719-9669b81f07aa",
   "metadata": {},
   "outputs": [
    {
     "data": {
      "text/plain": [
       "(50000, 6)"
      ]
     },
     "execution_count": 40,
     "metadata": {},
     "output_type": "execute_result"
    }
   ],
   "source": [
    "df.shape"
   ]
  },
  {
   "cell_type": "code",
   "execution_count": 41,
   "id": "9ed29f22-838b-43e8-b882-83a3652b18c7",
   "metadata": {},
   "outputs": [
    {
     "data": {
      "text/plain": [
       "0    11\n",
       "1    12\n",
       "2    13\n",
       "3    14\n",
       "4    15\n",
       "dtype: int64"
      ]
     },
     "execution_count": 41,
     "metadata": {},
     "output_type": "execute_result"
    }
   ],
   "source": [
    "#Creating Series from python lists, numpy functions and dictionaries\n",
    "a = pd.Series([11,12,13,14,15])\n",
    "a"
   ]
  },
  {
   "cell_type": "code",
   "execution_count": 42,
   "id": "0306e0d3-20ad-499b-9e8e-584cd086bb16",
   "metadata": {},
   "outputs": [
    {
     "data": {
      "text/plain": [
       "0    a\n",
       "1    b\n",
       "2    c\n",
       "3    d\n",
       "4    e\n",
       "dtype: object"
      ]
     },
     "execution_count": 42,
     "metadata": {},
     "output_type": "execute_result"
    }
   ],
   "source": [
    "#creating using a list function\n",
    "b = pd.Series(list('abcde'))\n",
    "b"
   ]
  },
  {
   "cell_type": "code",
   "execution_count": 43,
   "id": "6ec5f884-e133-4298-9de1-13c041bdbb71",
   "metadata": {},
   "outputs": [
    {
     "data": {
      "text/plain": [
       "0    4\n",
       "1    5\n",
       "2    6\n",
       "3    7\n",
       "4    8\n",
       "5    9\n",
       "dtype: int32"
      ]
     },
     "execution_count": 43,
     "metadata": {},
     "output_type": "execute_result"
    }
   ],
   "source": [
    "#forming using numpy functions\n",
    "#np.arange generates number between the specified (in this case 4 and 10 ) 4 is inclusive while 10 is exclusive\n",
    "import numpy as np\n",
    "c = pd.Series(np.arange(4,10))\n",
    "c"
   ]
  },
  {
   "cell_type": "code",
   "execution_count": 44,
   "id": "57c3417c-5786-452e-8e95-96bd70ac61b0",
   "metadata": {},
   "outputs": [
    {
     "data": {
      "text/plain": [
       "0    5.000000\n",
       "1    5.666667\n",
       "2    6.333333\n",
       "3    7.000000\n",
       "4    7.666667\n",
       "5    8.333333\n",
       "6    9.000000\n",
       "dtype: float64"
      ]
     },
     "execution_count": 44,
     "metadata": {},
     "output_type": "execute_result"
    }
   ],
   "source": [
    "#linspace on the other hand works like arange although we can specify the number we want numpy to generate for us\n",
    "d = pd.Series(np.linspace(5,9,7))\n",
    "d"
   ]
  },
  {
   "cell_type": "code",
   "execution_count": 45,
   "id": "6d141590-3104-44bc-a766-a0748bddc5d4",
   "metadata": {},
   "outputs": [],
   "source": [
    "#Generating random numbers in python\n",
    "np.random.seed(2024)\n",
    "e = pd.Series(np.random.normal(size=5))"
   ]
  },
  {
   "cell_type": "code",
   "execution_count": 46,
   "id": "6f96fc4f-b27b-4f69-8cbc-e2fa5b8783d1",
   "metadata": {},
   "outputs": [
    {
     "data": {
      "text/plain": [
       "0    1.668047\n",
       "1    0.737348\n",
       "2   -0.201538\n",
       "3   -0.150912\n",
       "4    0.916052\n",
       "dtype: float64"
      ]
     },
     "execution_count": 46,
     "metadata": {},
     "output_type": "execute_result"
    }
   ],
   "source": [
    "e"
   ]
  },
  {
   "cell_type": "code",
   "execution_count": 47,
   "id": "956ef188-354c-4eae-bd67-c7658b5c97e0",
   "metadata": {},
   "outputs": [
    {
     "data": {
      "text/plain": [
       "array([ 1.66804732,  0.73734773, -0.20153776, -0.15091195,  0.91605181])"
      ]
     },
     "execution_count": 47,
     "metadata": {},
     "output_type": "execute_result"
    }
   ],
   "source": [
    "#There are propertis that we can explore\n",
    "e.values"
   ]
  },
  {
   "cell_type": "code",
   "execution_count": 48,
   "id": "a194d3b3-ac10-4dcb-97f4-698f66dabbb2",
   "metadata": {},
   "outputs": [
    {
     "data": {
      "text/plain": [
       "RangeIndex(start=0, stop=5, step=1)"
      ]
     },
     "execution_count": 48,
     "metadata": {},
     "output_type": "execute_result"
    }
   ],
   "source": [
    "e.index"
   ]
  },
  {
   "cell_type": "code",
   "execution_count": 49,
   "id": "c8ade70c-94dc-4bda-9bf0-f212a0372cf2",
   "metadata": {},
   "outputs": [
    {
     "data": {
      "text/plain": [
       "(5,)"
      ]
     },
     "execution_count": 49,
     "metadata": {},
     "output_type": "execute_result"
    }
   ],
   "source": [
    "e.shape\n"
   ]
  },
  {
   "cell_type": "code",
   "execution_count": 50,
   "id": "ac9836b6-701f-414a-9ceb-f5b8d5612b40",
   "metadata": {},
   "outputs": [
    {
     "data": {
      "text/plain": [
       "(50000, 6)"
      ]
     },
     "execution_count": 50,
     "metadata": {},
     "output_type": "execute_result"
    }
   ],
   "source": [
    "df.shape"
   ]
  },
  {
   "cell_type": "code",
   "execution_count": 51,
   "id": "dc423d43-0e62-4afb-a9c2-5860492e1917",
   "metadata": {},
   "outputs": [
    {
     "data": {
      "text/plain": [
       "a    1\n",
       "b    2\n",
       "c    3\n",
       "d    4\n",
       "e    5\n",
       "f    6\n",
       "g    7\n",
       "h    8\n",
       "i    9\n",
       "dtype: int32"
      ]
     },
     "execution_count": 51,
     "metadata": {},
     "output_type": "execute_result"
    }
   ],
   "source": [
    "# A ten items series\n",
    "\n",
    "f = pd.Series(np.arange(1,10),\n",
    "              index = list('abcdefghi'\n",
    "                          ))\n",
    "f"
   ]
  },
  {
   "cell_type": "code",
   "execution_count": 52,
   "id": "2f3fa172-9df8-4499-95ad-8c74d8e42055",
   "metadata": {},
   "outputs": [
    {
     "data": {
      "text/plain": [
       "1"
      ]
     },
     "execution_count": 52,
     "metadata": {},
     "output_type": "execute_result"
    }
   ],
   "source": [
    "f['a']"
   ]
  },
  {
   "cell_type": "code",
   "execution_count": 53,
   "id": "8550404f-84e6-4713-a840-db164c39656f",
   "metadata": {},
   "outputs": [
    {
     "data": {
      "text/plain": [
       "c    3\n",
       "g    7\n",
       "dtype: int32"
      ]
     },
     "execution_count": 53,
     "metadata": {},
     "output_type": "execute_result"
    }
   ],
   "source": [
    "f[['c','g']]"
   ]
  },
  {
   "cell_type": "code",
   "execution_count": 54,
   "id": "fa638711-181b-4508-898e-605971b367a9",
   "metadata": {},
   "outputs": [
    {
     "data": {
      "text/plain": [
       "2"
      ]
     },
     "execution_count": 54,
     "metadata": {},
     "output_type": "execute_result"
    }
   ],
   "source": [
    "f.loc['b']"
   ]
  },
  {
   "cell_type": "code",
   "execution_count": 55,
   "id": "e31d5ff1-b783-46e3-a811-a4433615a659",
   "metadata": {},
   "outputs": [
    {
     "data": {
      "text/plain": [
       "c    3\n",
       "d    4\n",
       "dtype: int32"
      ]
     },
     "execution_count": 55,
     "metadata": {},
     "output_type": "execute_result"
    }
   ],
   "source": [
    "f.iloc[[2,3]]"
   ]
  },
  {
   "cell_type": "code",
   "execution_count": 56,
   "id": "cb399ef3-889b-45d6-84ea-2af056c96d42",
   "metadata": {},
   "outputs": [
    {
     "name": "stderr",
     "output_type": "stream",
     "text": [
      "C:\\Users\\pc\\AppData\\Local\\Temp\\ipykernel_4940\\2104776895.py:1: FutureWarning: Series.__getitem__ treating keys as positions is deprecated. In a future version, integer keys will always be treated as labels (consistent with DataFrame behavior). To access a value by position, use `ser.iloc[pos]`\n",
      "  f[[2,3]]\n"
     ]
    },
    {
     "data": {
      "text/plain": [
       "c    3\n",
       "d    4\n",
       "dtype: int32"
      ]
     },
     "execution_count": 56,
     "metadata": {},
     "output_type": "execute_result"
    }
   ],
   "source": [
    "f[[2,3]]"
   ]
  },
  {
   "cell_type": "code",
   "execution_count": 57,
   "id": "a2868783-c32c-4d99-8bc7-979d52106493",
   "metadata": {},
   "outputs": [
    {
     "ename": "KeyError",
     "evalue": "\"['k'] not in index\"",
     "output_type": "error",
     "traceback": [
      "\u001b[1;31m---------------------------------------------------------------------------\u001b[0m",
      "\u001b[1;31mKeyError\u001b[0m                                  Traceback (most recent call last)",
      "Cell \u001b[1;32mIn[57], line 1\u001b[0m\n\u001b[1;32m----> 1\u001b[0m \u001b[43mf\u001b[49m\u001b[38;5;241;43m.\u001b[39;49m\u001b[43mloc\u001b[49m\u001b[43m[\u001b[49m\u001b[43m[\u001b[49m\u001b[38;5;124;43m'\u001b[39;49m\u001b[38;5;124;43ma\u001b[39;49m\u001b[38;5;124;43m'\u001b[39;49m\u001b[43m,\u001b[49m\u001b[38;5;124;43m'\u001b[39;49m\u001b[38;5;124;43mk\u001b[39;49m\u001b[38;5;124;43m'\u001b[39;49m\u001b[43m]\u001b[49m\u001b[43m]\u001b[49m\n",
      "File \u001b[1;32m~\\anaconda3\\envs\\myfedha\\Lib\\site-packages\\pandas\\core\\indexing.py:1153\u001b[0m, in \u001b[0;36m_LocationIndexer.__getitem__\u001b[1;34m(self, key)\u001b[0m\n\u001b[0;32m   1150\u001b[0m axis \u001b[38;5;241m=\u001b[39m \u001b[38;5;28mself\u001b[39m\u001b[38;5;241m.\u001b[39maxis \u001b[38;5;129;01mor\u001b[39;00m \u001b[38;5;241m0\u001b[39m\n\u001b[0;32m   1152\u001b[0m maybe_callable \u001b[38;5;241m=\u001b[39m com\u001b[38;5;241m.\u001b[39mapply_if_callable(key, \u001b[38;5;28mself\u001b[39m\u001b[38;5;241m.\u001b[39mobj)\n\u001b[1;32m-> 1153\u001b[0m \u001b[38;5;28;01mreturn\u001b[39;00m \u001b[38;5;28;43mself\u001b[39;49m\u001b[38;5;241;43m.\u001b[39;49m\u001b[43m_getitem_axis\u001b[49m\u001b[43m(\u001b[49m\u001b[43mmaybe_callable\u001b[49m\u001b[43m,\u001b[49m\u001b[43m \u001b[49m\u001b[43maxis\u001b[49m\u001b[38;5;241;43m=\u001b[39;49m\u001b[43maxis\u001b[49m\u001b[43m)\u001b[49m\n",
      "File \u001b[1;32m~\\anaconda3\\envs\\myfedha\\Lib\\site-packages\\pandas\\core\\indexing.py:1382\u001b[0m, in \u001b[0;36m_LocIndexer._getitem_axis\u001b[1;34m(self, key, axis)\u001b[0m\n\u001b[0;32m   1379\u001b[0m     \u001b[38;5;28;01mif\u001b[39;00m \u001b[38;5;28mhasattr\u001b[39m(key, \u001b[38;5;124m\"\u001b[39m\u001b[38;5;124mndim\u001b[39m\u001b[38;5;124m\"\u001b[39m) \u001b[38;5;129;01mand\u001b[39;00m key\u001b[38;5;241m.\u001b[39mndim \u001b[38;5;241m>\u001b[39m \u001b[38;5;241m1\u001b[39m:\n\u001b[0;32m   1380\u001b[0m         \u001b[38;5;28;01mraise\u001b[39;00m \u001b[38;5;167;01mValueError\u001b[39;00m(\u001b[38;5;124m\"\u001b[39m\u001b[38;5;124mCannot index with multidimensional key\u001b[39m\u001b[38;5;124m\"\u001b[39m)\n\u001b[1;32m-> 1382\u001b[0m     \u001b[38;5;28;01mreturn\u001b[39;00m \u001b[38;5;28;43mself\u001b[39;49m\u001b[38;5;241;43m.\u001b[39;49m\u001b[43m_getitem_iterable\u001b[49m\u001b[43m(\u001b[49m\u001b[43mkey\u001b[49m\u001b[43m,\u001b[49m\u001b[43m \u001b[49m\u001b[43maxis\u001b[49m\u001b[38;5;241;43m=\u001b[39;49m\u001b[43maxis\u001b[49m\u001b[43m)\u001b[49m\n\u001b[0;32m   1384\u001b[0m \u001b[38;5;66;03m# nested tuple slicing\u001b[39;00m\n\u001b[0;32m   1385\u001b[0m \u001b[38;5;28;01mif\u001b[39;00m is_nested_tuple(key, labels):\n",
      "File \u001b[1;32m~\\anaconda3\\envs\\myfedha\\Lib\\site-packages\\pandas\\core\\indexing.py:1322\u001b[0m, in \u001b[0;36m_LocIndexer._getitem_iterable\u001b[1;34m(self, key, axis)\u001b[0m\n\u001b[0;32m   1319\u001b[0m \u001b[38;5;28mself\u001b[39m\u001b[38;5;241m.\u001b[39m_validate_key(key, axis)\n\u001b[0;32m   1321\u001b[0m \u001b[38;5;66;03m# A collection of keys\u001b[39;00m\n\u001b[1;32m-> 1322\u001b[0m keyarr, indexer \u001b[38;5;241m=\u001b[39m \u001b[38;5;28;43mself\u001b[39;49m\u001b[38;5;241;43m.\u001b[39;49m\u001b[43m_get_listlike_indexer\u001b[49m\u001b[43m(\u001b[49m\u001b[43mkey\u001b[49m\u001b[43m,\u001b[49m\u001b[43m \u001b[49m\u001b[43maxis\u001b[49m\u001b[43m)\u001b[49m\n\u001b[0;32m   1323\u001b[0m \u001b[38;5;28;01mreturn\u001b[39;00m \u001b[38;5;28mself\u001b[39m\u001b[38;5;241m.\u001b[39mobj\u001b[38;5;241m.\u001b[39m_reindex_with_indexers(\n\u001b[0;32m   1324\u001b[0m     {axis: [keyarr, indexer]}, copy\u001b[38;5;241m=\u001b[39m\u001b[38;5;28;01mTrue\u001b[39;00m, allow_dups\u001b[38;5;241m=\u001b[39m\u001b[38;5;28;01mTrue\u001b[39;00m\n\u001b[0;32m   1325\u001b[0m )\n",
      "File \u001b[1;32m~\\anaconda3\\envs\\myfedha\\Lib\\site-packages\\pandas\\core\\indexing.py:1520\u001b[0m, in \u001b[0;36m_LocIndexer._get_listlike_indexer\u001b[1;34m(self, key, axis)\u001b[0m\n\u001b[0;32m   1517\u001b[0m ax \u001b[38;5;241m=\u001b[39m \u001b[38;5;28mself\u001b[39m\u001b[38;5;241m.\u001b[39mobj\u001b[38;5;241m.\u001b[39m_get_axis(axis)\n\u001b[0;32m   1518\u001b[0m axis_name \u001b[38;5;241m=\u001b[39m \u001b[38;5;28mself\u001b[39m\u001b[38;5;241m.\u001b[39mobj\u001b[38;5;241m.\u001b[39m_get_axis_name(axis)\n\u001b[1;32m-> 1520\u001b[0m keyarr, indexer \u001b[38;5;241m=\u001b[39m \u001b[43max\u001b[49m\u001b[38;5;241;43m.\u001b[39;49m\u001b[43m_get_indexer_strict\u001b[49m\u001b[43m(\u001b[49m\u001b[43mkey\u001b[49m\u001b[43m,\u001b[49m\u001b[43m \u001b[49m\u001b[43maxis_name\u001b[49m\u001b[43m)\u001b[49m\n\u001b[0;32m   1522\u001b[0m \u001b[38;5;28;01mreturn\u001b[39;00m keyarr, indexer\n",
      "File \u001b[1;32m~\\anaconda3\\envs\\myfedha\\Lib\\site-packages\\pandas\\core\\indexes\\base.py:6115\u001b[0m, in \u001b[0;36mIndex._get_indexer_strict\u001b[1;34m(self, key, axis_name)\u001b[0m\n\u001b[0;32m   6112\u001b[0m \u001b[38;5;28;01melse\u001b[39;00m:\n\u001b[0;32m   6113\u001b[0m     keyarr, indexer, new_indexer \u001b[38;5;241m=\u001b[39m \u001b[38;5;28mself\u001b[39m\u001b[38;5;241m.\u001b[39m_reindex_non_unique(keyarr)\n\u001b[1;32m-> 6115\u001b[0m \u001b[38;5;28;43mself\u001b[39;49m\u001b[38;5;241;43m.\u001b[39;49m\u001b[43m_raise_if_missing\u001b[49m\u001b[43m(\u001b[49m\u001b[43mkeyarr\u001b[49m\u001b[43m,\u001b[49m\u001b[43m \u001b[49m\u001b[43mindexer\u001b[49m\u001b[43m,\u001b[49m\u001b[43m \u001b[49m\u001b[43maxis_name\u001b[49m\u001b[43m)\u001b[49m\n\u001b[0;32m   6117\u001b[0m keyarr \u001b[38;5;241m=\u001b[39m \u001b[38;5;28mself\u001b[39m\u001b[38;5;241m.\u001b[39mtake(indexer)\n\u001b[0;32m   6118\u001b[0m \u001b[38;5;28;01mif\u001b[39;00m \u001b[38;5;28misinstance\u001b[39m(key, Index):\n\u001b[0;32m   6119\u001b[0m     \u001b[38;5;66;03m# GH 42790 - Preserve name from an Index\u001b[39;00m\n",
      "File \u001b[1;32m~\\anaconda3\\envs\\myfedha\\Lib\\site-packages\\pandas\\core\\indexes\\base.py:6179\u001b[0m, in \u001b[0;36mIndex._raise_if_missing\u001b[1;34m(self, key, indexer, axis_name)\u001b[0m\n\u001b[0;32m   6176\u001b[0m     \u001b[38;5;28;01mraise\u001b[39;00m \u001b[38;5;167;01mKeyError\u001b[39;00m(\u001b[38;5;124mf\u001b[39m\u001b[38;5;124m\"\u001b[39m\u001b[38;5;124mNone of [\u001b[39m\u001b[38;5;132;01m{\u001b[39;00mkey\u001b[38;5;132;01m}\u001b[39;00m\u001b[38;5;124m] are in the [\u001b[39m\u001b[38;5;132;01m{\u001b[39;00maxis_name\u001b[38;5;132;01m}\u001b[39;00m\u001b[38;5;124m]\u001b[39m\u001b[38;5;124m\"\u001b[39m)\n\u001b[0;32m   6178\u001b[0m not_found \u001b[38;5;241m=\u001b[39m \u001b[38;5;28mlist\u001b[39m(ensure_index(key)[missing_mask\u001b[38;5;241m.\u001b[39mnonzero()[\u001b[38;5;241m0\u001b[39m]]\u001b[38;5;241m.\u001b[39munique())\n\u001b[1;32m-> 6179\u001b[0m \u001b[38;5;28;01mraise\u001b[39;00m \u001b[38;5;167;01mKeyError\u001b[39;00m(\u001b[38;5;124mf\u001b[39m\u001b[38;5;124m\"\u001b[39m\u001b[38;5;132;01m{\u001b[39;00mnot_found\u001b[38;5;132;01m}\u001b[39;00m\u001b[38;5;124m not in index\u001b[39m\u001b[38;5;124m\"\u001b[39m)\n",
      "\u001b[1;31mKeyError\u001b[0m: \"['k'] not in index\""
     ]
    }
   ],
   "source": [
    "f.loc[['a','k']]"
   ]
  },
  {
   "cell_type": "code",
   "execution_count": 58,
   "id": "f701df33-6388-4d27-b0b5-e79a5495d1d6",
   "metadata": {},
   "outputs": [
    {
     "data": {
      "text/plain": [
       "a    1\n",
       "b    2\n",
       "c    3\n",
       "d    4\n",
       "e    5\n",
       "f    6\n",
       "g    7\n",
       "h    8\n",
       "i    9\n",
       "dtype: int32"
      ]
     },
     "execution_count": 58,
     "metadata": {},
     "output_type": "execute_result"
    }
   ],
   "source": [
    "#slicing Data \n",
    "f[:]"
   ]
  },
  {
   "cell_type": "code",
   "execution_count": 64,
   "id": "f1aaae71-4e5f-475e-a765-8cb8eb658266",
   "metadata": {},
   "outputs": [
    {
     "data": {
      "text/plain": [
       "f    6\n",
       "g    7\n",
       "h    8\n",
       "i    9\n",
       "dtype: int32"
      ]
     },
     "execution_count": 64,
     "metadata": {},
     "output_type": "execute_result"
    }
   ],
   "source": [
    "f.iloc[-4:]"
   ]
  },
  {
   "cell_type": "code",
   "execution_count": 66,
   "id": "fb83b05a-cc8f-408c-a9cf-36e3764c203b",
   "metadata": {},
   "outputs": [
    {
     "data": {
      "text/plain": [
       "e    5\n",
       "c    3\n",
       "a    1\n",
       "dtype: int32"
      ]
     },
     "execution_count": 66,
     "metadata": {},
     "output_type": "execute_result"
    }
   ],
   "source": [
    "# This will start with the value at index 4 and subtract index by 2 and returining that value\n",
    "f.iloc[4::-2]"
   ]
  },
  {
   "cell_type": "code",
   "execution_count": 67,
   "id": "1eee2e9a-53dd-42c7-9a3f-df946f884fc6",
   "metadata": {},
   "outputs": [
    {
     "data": {
      "text/plain": [
       "b    2\n",
       "c    3\n",
       "dtype: int32"
      ]
     },
     "execution_count": 67,
     "metadata": {},
     "output_type": "execute_result"
    }
   ],
   "source": [
    "#it is also possible to index a non integer index\n",
    "f[1:3]"
   ]
  },
  {
   "cell_type": "code",
   "execution_count": 68,
   "id": "7b19687b-c0ec-4cc8-a87f-95252d35d2ed",
   "metadata": {},
   "outputs": [],
   "source": [
    "# modifying an index in place\n",
    "f['a'] = 20"
   ]
  },
  {
   "cell_type": "code",
   "execution_count": 69,
   "id": "ced81c31-b908-40a3-a4d1-04ce827df9d5",
   "metadata": {},
   "outputs": [
    {
     "data": {
      "text/plain": [
       "a    20\n",
       "b     2\n",
       "c     3\n",
       "d     4\n",
       "e     5\n",
       "f     6\n",
       "g     7\n",
       "h     8\n",
       "i     9\n",
       "dtype: int32"
      ]
     },
     "execution_count": 69,
     "metadata": {},
     "output_type": "execute_result"
    }
   ],
   "source": [
    "f"
   ]
  },
  {
   "cell_type": "code",
   "execution_count": 72,
   "id": "0c776eed-9574-4409-a0b6-29fa560b2ebd",
   "metadata": {},
   "outputs": [
    {
     "data": {
      "text/html": [
       "<div>\n",
       "<style scoped>\n",
       "    .dataframe tbody tr th:only-of-type {\n",
       "        vertical-align: middle;\n",
       "    }\n",
       "\n",
       "    .dataframe tbody tr th {\n",
       "        vertical-align: top;\n",
       "    }\n",
       "\n",
       "    .dataframe thead th {\n",
       "        text-align: right;\n",
       "    }\n",
       "</style>\n",
       "<table border=\"1\" class=\"dataframe\">\n",
       "  <thead>\n",
       "    <tr style=\"text-align: right;\">\n",
       "      <th></th>\n",
       "      <th>0</th>\n",
       "      <th>1</th>\n",
       "    </tr>\n",
       "  </thead>\n",
       "  <tbody>\n",
       "    <tr>\n",
       "      <th>0</th>\n",
       "      <td>11</td>\n",
       "      <td>12</td>\n",
       "    </tr>\n",
       "    <tr>\n",
       "      <th>1</th>\n",
       "      <td>13</td>\n",
       "      <td>14</td>\n",
       "    </tr>\n",
       "  </tbody>\n",
       "</table>\n",
       "</div>"
      ],
      "text/plain": [
       "    0   1\n",
       "0  11  12\n",
       "1  13  14"
      ]
     },
     "execution_count": 72,
     "metadata": {},
     "output_type": "execute_result"
    }
   ],
   "source": [
    "#Create a DataFrame from a 2-D Array\n",
    "df_1 = pd.DataFrame(np.array([[11,12],\n",
    "                             [13,14]]))\n",
    "df_1"
   ]
  },
  {
   "cell_type": "code",
   "execution_count": 76,
   "id": "e4f4a53b-4c18-420b-b2cc-0039a6d54d12",
   "metadata": {},
   "outputs": [],
   "source": [
    "df = pd.DataFrame(np.array([[80,89],[72,80]]),columns = [\"Kiambu\",\"Nairobi\"])"
   ]
  },
  {
   "cell_type": "code",
   "execution_count": 77,
   "id": "9c79e874-4b8f-4fb2-acd8-35cc2a9d3020",
   "metadata": {},
   "outputs": [
    {
     "data": {
      "text/html": [
       "<div>\n",
       "<style scoped>\n",
       "    .dataframe tbody tr th:only-of-type {\n",
       "        vertical-align: middle;\n",
       "    }\n",
       "\n",
       "    .dataframe tbody tr th {\n",
       "        vertical-align: top;\n",
       "    }\n",
       "\n",
       "    .dataframe thead th {\n",
       "        text-align: right;\n",
       "    }\n",
       "</style>\n",
       "<table border=\"1\" class=\"dataframe\">\n",
       "  <thead>\n",
       "    <tr style=\"text-align: right;\">\n",
       "      <th></th>\n",
       "      <th>Kiambu</th>\n",
       "      <th>Nairobi</th>\n",
       "    </tr>\n",
       "  </thead>\n",
       "  <tbody>\n",
       "    <tr>\n",
       "      <th>0</th>\n",
       "      <td>80</td>\n",
       "      <td>89</td>\n",
       "    </tr>\n",
       "    <tr>\n",
       "      <th>1</th>\n",
       "      <td>72</td>\n",
       "      <td>80</td>\n",
       "    </tr>\n",
       "  </tbody>\n",
       "</table>\n",
       "</div>"
      ],
      "text/plain": [
       "   Kiambu  Nairobi\n",
       "0      80       89\n",
       "1      72       80"
      ]
     },
     "execution_count": 77,
     "metadata": {},
     "output_type": "execute_result"
    }
   ],
   "source": [
    "df"
   ]
  },
  {
   "cell_type": "code",
   "execution_count": 78,
   "id": "e728c0b9-e063-4e01-bc27-12663c2811c4",
   "metadata": {},
   "outputs": [
    {
     "data": {
      "text/plain": [
       "2"
      ]
     },
     "execution_count": 78,
     "metadata": {},
     "output_type": "execute_result"
    }
   ],
   "source": [
    "# To find the length or the number of rows we can use the len function\n",
    "len(df)"
   ]
  },
  {
   "cell_type": "code",
   "execution_count": 79,
   "id": "a5d018ba-2c8d-481a-8fc3-e2d09568e127",
   "metadata": {},
   "outputs": [
    {
     "data": {
      "text/plain": [
       "(2, 2)"
      ]
     },
     "execution_count": 79,
     "metadata": {},
     "output_type": "execute_result"
    }
   ],
   "source": [
    "# We can also find the dimensionality which is the number of rows * the Number of the columns\n",
    "df.shape"
   ]
  },
  {
   "cell_type": "code",
   "execution_count": 81,
   "id": "371add98-efbe-4405-ba73-f6427e6112d1",
   "metadata": {},
   "outputs": [
    {
     "data": {
      "text/plain": [
       "Kiambu     76.0\n",
       "Nairobi    84.5\n",
       "dtype: float64"
      ]
     },
     "execution_count": 81,
     "metadata": {},
     "output_type": "execute_result"
    }
   ],
   "source": [
    "df.mean()"
   ]
  },
  {
   "cell_type": "code",
   "execution_count": 82,
   "id": "cb5f83f5-7f58-41de-9b2d-a786981be22e",
   "metadata": {},
   "outputs": [
    {
     "data": {
      "text/plain": [
       "Kiambu     152\n",
       "Nairobi    169\n",
       "dtype: int64"
      ]
     },
     "execution_count": 82,
     "metadata": {},
     "output_type": "execute_result"
    }
   ],
   "source": [
    "df.sum()"
   ]
  },
  {
   "cell_type": "code",
   "execution_count": 83,
   "id": "682fda08-3469-4731-9b24-89d8c99ff299",
   "metadata": {},
   "outputs": [
    {
     "data": {
      "text/plain": [
       "{'Nairobi': [23, 12, 45], 'Limuru': [43, 12, 42]}"
      ]
     },
     "execution_count": 83,
     "metadata": {},
     "output_type": "execute_result"
    }
   ],
   "source": [
    "# Creating a DataFrame from a python Dictionary\n",
    "temps_1 = [23,12,45]\n",
    "temps_2 = [43,12,42]\n",
    "towns = [\"Nairobi\",\"Limuru\"]\n",
    "dic = {\n",
    "    towns[0] : temps_1,\n",
    "    towns[1] : temps_2\n",
    "}\n",
    "dic"
   ]
  },
  {
   "cell_type": "code",
   "execution_count": 84,
   "id": "a01b4280-22d3-4aa5-b88b-1ecd61b99a9a",
   "metadata": {},
   "outputs": [],
   "source": [
    "df_2 = pd.DataFrame(dic)"
   ]
  },
  {
   "cell_type": "code",
   "execution_count": 85,
   "id": "928bae64-6b95-4002-bbf2-2b3a35b64aa9",
   "metadata": {},
   "outputs": [
    {
     "data": {
      "text/html": [
       "<div>\n",
       "<style scoped>\n",
       "    .dataframe tbody tr th:only-of-type {\n",
       "        vertical-align: middle;\n",
       "    }\n",
       "\n",
       "    .dataframe tbody tr th {\n",
       "        vertical-align: top;\n",
       "    }\n",
       "\n",
       "    .dataframe thead th {\n",
       "        text-align: right;\n",
       "    }\n",
       "</style>\n",
       "<table border=\"1\" class=\"dataframe\">\n",
       "  <thead>\n",
       "    <tr style=\"text-align: right;\">\n",
       "      <th></th>\n",
       "      <th>Nairobi</th>\n",
       "      <th>Limuru</th>\n",
       "    </tr>\n",
       "  </thead>\n",
       "  <tbody>\n",
       "    <tr>\n",
       "      <th>0</th>\n",
       "      <td>23</td>\n",
       "      <td>43</td>\n",
       "    </tr>\n",
       "    <tr>\n",
       "      <th>1</th>\n",
       "      <td>12</td>\n",
       "      <td>12</td>\n",
       "    </tr>\n",
       "    <tr>\n",
       "      <th>2</th>\n",
       "      <td>45</td>\n",
       "      <td>42</td>\n",
       "    </tr>\n",
       "  </tbody>\n",
       "</table>\n",
       "</div>"
      ],
      "text/plain": [
       "   Nairobi  Limuru\n",
       "0       23      43\n",
       "1       12      12\n",
       "2       45      42"
      ]
     },
     "execution_count": 85,
     "metadata": {},
     "output_type": "execute_result"
    }
   ],
   "source": [
    "df_2"
   ]
  },
  {
   "cell_type": "code",
   "execution_count": 91,
   "id": "48d141f3-7f9a-4ab1-99f4-65db02703452",
   "metadata": {},
   "outputs": [],
   "source": [
    "temps_at_time1 = pd.Series([89,78,90,32])\n",
    "temps_at_time2 = pd.Series([39,68,90,52])\n",
    "df = pd.DataFrame([temps_at_time1,temps_at_time2])"
   ]
  },
  {
   "cell_type": "code",
   "execution_count": 92,
   "id": "48207770-78fb-4d04-8b7a-e6e3b5bacb2b",
   "metadata": {},
   "outputs": [
    {
     "data": {
      "text/html": [
       "<div>\n",
       "<style scoped>\n",
       "    .dataframe tbody tr th:only-of-type {\n",
       "        vertical-align: middle;\n",
       "    }\n",
       "\n",
       "    .dataframe tbody tr th {\n",
       "        vertical-align: top;\n",
       "    }\n",
       "\n",
       "    .dataframe thead th {\n",
       "        text-align: right;\n",
       "    }\n",
       "</style>\n",
       "<table border=\"1\" class=\"dataframe\">\n",
       "  <thead>\n",
       "    <tr style=\"text-align: right;\">\n",
       "      <th></th>\n",
       "      <th>0</th>\n",
       "      <th>1</th>\n",
       "      <th>2</th>\n",
       "      <th>3</th>\n",
       "    </tr>\n",
       "  </thead>\n",
       "  <tbody>\n",
       "    <tr>\n",
       "      <th>0</th>\n",
       "      <td>89</td>\n",
       "      <td>78</td>\n",
       "      <td>90</td>\n",
       "      <td>32</td>\n",
       "    </tr>\n",
       "    <tr>\n",
       "      <th>1</th>\n",
       "      <td>39</td>\n",
       "      <td>68</td>\n",
       "      <td>90</td>\n",
       "      <td>52</td>\n",
       "    </tr>\n",
       "  </tbody>\n",
       "</table>\n",
       "</div>"
      ],
      "text/plain": [
       "    0   1   2   3\n",
       "0  89  78  90  32\n",
       "1  39  68  90  52"
      ]
     },
     "execution_count": 92,
     "metadata": {},
     "output_type": "execute_result"
    }
   ],
   "source": [
    "df"
   ]
  },
  {
   "cell_type": "code",
   "execution_count": 94,
   "id": "3a5871c5-d1a8-4379-9b26-19754c56a341",
   "metadata": {},
   "outputs": [
    {
     "data": {
      "text/html": [
       "<div>\n",
       "<style scoped>\n",
       "    .dataframe tbody tr th:only-of-type {\n",
       "        vertical-align: middle;\n",
       "    }\n",
       "\n",
       "    .dataframe tbody tr th {\n",
       "        vertical-align: top;\n",
       "    }\n",
       "\n",
       "    .dataframe thead th {\n",
       "        text-align: right;\n",
       "    }\n",
       "</style>\n",
       "<table border=\"1\" class=\"dataframe\">\n",
       "  <thead>\n",
       "    <tr style=\"text-align: right;\">\n",
       "      <th></th>\n",
       "      <th>0</th>\n",
       "      <th>1</th>\n",
       "      <th>2</th>\n",
       "      <th>3</th>\n",
       "    </tr>\n",
       "  </thead>\n",
       "  <tbody>\n",
       "    <tr>\n",
       "      <th>0</th>\n",
       "      <td>89</td>\n",
       "      <td>78</td>\n",
       "      <td>90</td>\n",
       "      <td>32</td>\n",
       "    </tr>\n",
       "    <tr>\n",
       "      <th>1</th>\n",
       "      <td>39</td>\n",
       "      <td>68</td>\n",
       "      <td>90</td>\n",
       "      <td>52</td>\n",
       "    </tr>\n",
       "  </tbody>\n",
       "</table>\n",
       "</div>"
      ],
      "text/plain": [
       "    0   1   2   3\n",
       "0  89  78  90  32\n",
       "1  39  68  90  52"
      ]
     },
     "execution_count": 94,
     "metadata": {},
     "output_type": "execute_result"
    }
   ],
   "source": [
    "df_3 = pd.DataFrame([temps_at_time1,temps_at_time2])\n",
    "df_3"
   ]
  },
  {
   "cell_type": "code",
   "execution_count": 96,
   "id": "b61ab8ea-cb55-4574-89e4-6cdb9f1adb00",
   "metadata": {},
   "outputs": [],
   "source": [
    " df.columns = [\"Mombasa\",\"Kitui\",\"Muranga\",\"Juja\"]"
   ]
  },
  {
   "cell_type": "code",
   "execution_count": 97,
   "id": "4f24692c-7c4d-4ba9-9a59-6ecc3793083c",
   "metadata": {},
   "outputs": [
    {
     "data": {
      "text/html": [
       "<div>\n",
       "<style scoped>\n",
       "    .dataframe tbody tr th:only-of-type {\n",
       "        vertical-align: middle;\n",
       "    }\n",
       "\n",
       "    .dataframe tbody tr th {\n",
       "        vertical-align: top;\n",
       "    }\n",
       "\n",
       "    .dataframe thead th {\n",
       "        text-align: right;\n",
       "    }\n",
       "</style>\n",
       "<table border=\"1\" class=\"dataframe\">\n",
       "  <thead>\n",
       "    <tr style=\"text-align: right;\">\n",
       "      <th></th>\n",
       "      <th>Mombasa</th>\n",
       "      <th>Kitui</th>\n",
       "      <th>Muranga</th>\n",
       "      <th>Juja</th>\n",
       "    </tr>\n",
       "  </thead>\n",
       "  <tbody>\n",
       "    <tr>\n",
       "      <th>0</th>\n",
       "      <td>89</td>\n",
       "      <td>78</td>\n",
       "      <td>90</td>\n",
       "      <td>32</td>\n",
       "    </tr>\n",
       "    <tr>\n",
       "      <th>1</th>\n",
       "      <td>39</td>\n",
       "      <td>68</td>\n",
       "      <td>90</td>\n",
       "      <td>52</td>\n",
       "    </tr>\n",
       "  </tbody>\n",
       "</table>\n",
       "</div>"
      ],
      "text/plain": [
       "   Mombasa  Kitui  Muranga  Juja\n",
       "0       89     78       90    32\n",
       "1       39     68       90    52"
      ]
     },
     "execution_count": 97,
     "metadata": {},
     "output_type": "execute_result"
    }
   ],
   "source": [
    "df"
   ]
  },
  {
   "cell_type": "code",
   "execution_count": 98,
   "id": "f04b5cc2-685d-42d6-9dd6-efebcd20166e",
   "metadata": {},
   "outputs": [],
   "source": [
    "df_4 = pd.DataFrame([temps_at_time1,temps_at_time2],\n",
    "                   columns = [\"Mombasa\",\"Kitui\",\"Muranga\",\"Juja\"])"
   ]
  },
  {
   "cell_type": "code",
   "execution_count": 99,
   "id": "a75a9d3d-1606-404c-8df5-f220476eba0e",
   "metadata": {},
   "outputs": [
    {
     "data": {
      "text/html": [
       "<div>\n",
       "<style scoped>\n",
       "    .dataframe tbody tr th:only-of-type {\n",
       "        vertical-align: middle;\n",
       "    }\n",
       "\n",
       "    .dataframe tbody tr th {\n",
       "        vertical-align: top;\n",
       "    }\n",
       "\n",
       "    .dataframe thead th {\n",
       "        text-align: right;\n",
       "    }\n",
       "</style>\n",
       "<table border=\"1\" class=\"dataframe\">\n",
       "  <thead>\n",
       "    <tr style=\"text-align: right;\">\n",
       "      <th></th>\n",
       "      <th>Mombasa</th>\n",
       "      <th>Kitui</th>\n",
       "      <th>Muranga</th>\n",
       "      <th>Juja</th>\n",
       "    </tr>\n",
       "  </thead>\n",
       "  <tbody>\n",
       "    <tr>\n",
       "      <th>0</th>\n",
       "      <td>NaN</td>\n",
       "      <td>NaN</td>\n",
       "      <td>NaN</td>\n",
       "      <td>NaN</td>\n",
       "    </tr>\n",
       "    <tr>\n",
       "      <th>1</th>\n",
       "      <td>NaN</td>\n",
       "      <td>NaN</td>\n",
       "      <td>NaN</td>\n",
       "      <td>NaN</td>\n",
       "    </tr>\n",
       "  </tbody>\n",
       "</table>\n",
       "</div>"
      ],
      "text/plain": [
       "   Mombasa  Kitui  Muranga  Juja\n",
       "0      NaN    NaN      NaN   NaN\n",
       "1      NaN    NaN      NaN   NaN"
      ]
     },
     "execution_count": 99,
     "metadata": {},
     "output_type": "execute_result"
    }
   ],
   "source": [
    "df_4"
   ]
  },
  {
   "cell_type": "code",
   "execution_count": 100,
   "id": "8bc70b59-cc9c-48e4-b5cc-f149bdb97992",
   "metadata": {},
   "outputs": [
    {
     "data": {
      "text/html": [
       "<div>\n",
       "<style scoped>\n",
       "    .dataframe tbody tr th:only-of-type {\n",
       "        vertical-align: middle;\n",
       "    }\n",
       "\n",
       "    .dataframe tbody tr th {\n",
       "        vertical-align: top;\n",
       "    }\n",
       "\n",
       "    .dataframe thead th {\n",
       "        text-align: right;\n",
       "    }\n",
       "</style>\n",
       "<table border=\"1\" class=\"dataframe\">\n",
       "  <thead>\n",
       "    <tr style=\"text-align: right;\">\n",
       "      <th></th>\n",
       "      <th>Mombasa</th>\n",
       "      <th>Kitui</th>\n",
       "      <th>Muranga</th>\n",
       "      <th>Juja</th>\n",
       "    </tr>\n",
       "  </thead>\n",
       "  <tbody>\n",
       "    <tr>\n",
       "      <th>0</th>\n",
       "      <td>89</td>\n",
       "      <td>78</td>\n",
       "      <td>90</td>\n",
       "      <td>32</td>\n",
       "    </tr>\n",
       "    <tr>\n",
       "      <th>1</th>\n",
       "      <td>39</td>\n",
       "      <td>68</td>\n",
       "      <td>90</td>\n",
       "      <td>52</td>\n",
       "    </tr>\n",
       "  </tbody>\n",
       "</table>\n",
       "</div>"
      ],
      "text/plain": [
       "   Mombasa  Kitui  Muranga  Juja\n",
       "0       89     78       90    32\n",
       "1       39     68       90    52"
      ]
     },
     "execution_count": 100,
     "metadata": {},
     "output_type": "execute_result"
    }
   ],
   "source": [
    "# To rectify this we can use the columns property\n",
    "df_5 = pd.DataFrame([temps_at_time1,temps_at_time2])\n",
    "df_5.columns = [\"Mombasa\",\"Kitui\",\"Muranga\",\"Juja\"]\n",
    "df_5"
   ]
  },
  {
   "cell_type": "code",
   "execution_count": 102,
   "id": "9244e423-aa06-466f-a228-ab0fabd9cd5d",
   "metadata": {},
   "outputs": [],
   "source": [
    "# Manipulating the DataFrame structure\n",
    "## RENAMING COLUMNS ##\n",
    "df = pd.read_csv(\"./data/housing_price_dataset.csv\")"
   ]
  },
  {
   "cell_type": "code",
   "execution_count": 103,
   "id": "4c801be9-3798-415a-acac-4d00b269dec0",
   "metadata": {},
   "outputs": [
    {
     "data": {
      "text/plain": [
       "Index(['SquareFeet', 'Bedrooms', 'Bathrooms',\n",
       "       'Neighborhood', 'YearBuilt', 'Price'],\n",
       "      dtype='object')"
      ]
     },
     "execution_count": 103,
     "metadata": {},
     "output_type": "execute_result"
    }
   ],
   "source": [
    "df.columns"
   ]
  },
  {
   "cell_type": "code",
   "execution_count": 104,
   "id": "77ca41ce-c212-448c-a83c-fb4759f1fb2e",
   "metadata": {},
   "outputs": [],
   "source": [
    "df = df.rename(columns = { 'Bedrooms' : 'BedRooms'})"
   ]
  },
  {
   "cell_type": "code",
   "execution_count": 105,
   "id": "f83db286-ef28-49f3-9330-48d916ee3447",
   "metadata": {},
   "outputs": [
    {
     "data": {
      "text/plain": [
       "Index(['SquareFeet', 'BedRooms', 'Bathrooms',\n",
       "       'Neighborhood', 'YearBuilt', 'Price'],\n",
       "      dtype='object')"
      ]
     },
     "execution_count": 105,
     "metadata": {},
     "output_type": "execute_result"
    }
   ],
   "source": [
    "df.columns\n"
   ]
  },
  {
   "cell_type": "code",
   "execution_count": 106,
   "id": "1d7e902b-c8e5-4a51-9e90-a50dfbf3859e",
   "metadata": {},
   "outputs": [
    {
     "data": {
      "text/html": [
       "<div>\n",
       "<style scoped>\n",
       "    .dataframe tbody tr th:only-of-type {\n",
       "        vertical-align: middle;\n",
       "    }\n",
       "\n",
       "    .dataframe tbody tr th {\n",
       "        vertical-align: top;\n",
       "    }\n",
       "\n",
       "    .dataframe thead th {\n",
       "        text-align: right;\n",
       "    }\n",
       "</style>\n",
       "<table border=\"1\" class=\"dataframe\">\n",
       "  <thead>\n",
       "    <tr style=\"text-align: right;\">\n",
       "      <th></th>\n",
       "      <th>SquareFeet</th>\n",
       "      <th>BedRooms</th>\n",
       "      <th>Bathrooms</th>\n",
       "      <th>Neighborhood</th>\n",
       "      <th>YearBuilt</th>\n",
       "      <th>Price</th>\n",
       "    </tr>\n",
       "  </thead>\n",
       "  <tbody>\n",
       "    <tr>\n",
       "      <th>0</th>\n",
       "      <td>2126</td>\n",
       "      <td>4</td>\n",
       "      <td>1</td>\n",
       "      <td>Rural</td>\n",
       "      <td>1969</td>\n",
       "      <td>215355.283618</td>\n",
       "    </tr>\n",
       "    <tr>\n",
       "      <th>1</th>\n",
       "      <td>2459</td>\n",
       "      <td>3</td>\n",
       "      <td>2</td>\n",
       "      <td>Rural</td>\n",
       "      <td>1980</td>\n",
       "      <td>195014.221626</td>\n",
       "    </tr>\n",
       "    <tr>\n",
       "      <th>2</th>\n",
       "      <td>1860</td>\n",
       "      <td>2</td>\n",
       "      <td>1</td>\n",
       "      <td>Suburb</td>\n",
       "      <td>1970</td>\n",
       "      <td>306891.012076</td>\n",
       "    </tr>\n",
       "    <tr>\n",
       "      <th>3</th>\n",
       "      <td>2294</td>\n",
       "      <td>2</td>\n",
       "      <td>1</td>\n",
       "      <td>Urban</td>\n",
       "      <td>1996</td>\n",
       "      <td>206786.787153</td>\n",
       "    </tr>\n",
       "    <tr>\n",
       "      <th>4</th>\n",
       "      <td>2130</td>\n",
       "      <td>5</td>\n",
       "      <td>2</td>\n",
       "      <td>Suburb</td>\n",
       "      <td>2001</td>\n",
       "      <td>272436.239065</td>\n",
       "    </tr>\n",
       "  </tbody>\n",
       "</table>\n",
       "</div>"
      ],
      "text/plain": [
       "   SquareFeet  BedRooms  Bathrooms Neighborhood  \\\n",
       "0        2126         4          1        Rural   \n",
       "1        2459         3          2        Rural   \n",
       "2        1860         2          1       Suburb   \n",
       "3        2294         2          1        Urban   \n",
       "4        2130         5          2       Suburb   \n",
       "\n",
       "   YearBuilt          Price  \n",
       "0       1969  215355.283618  \n",
       "1       1980  195014.221626  \n",
       "2       1970  306891.012076  \n",
       "3       1996  206786.787153  \n",
       "4       2001  272436.239065  "
      ]
     },
     "execution_count": 106,
     "metadata": {},
     "output_type": "execute_result"
    }
   ],
   "source": [
    "df.head()"
   ]
  },
  {
   "cell_type": "code",
   "execution_count": 107,
   "id": "b141db45-48d8-4915-b789-98665d1674e5",
   "metadata": {},
   "outputs": [],
   "source": [
    "# to make the change in-place without having to make a copy we can:\n",
    "df.rename(columns = {'Bathrooms':'BathRooms'},inplace=True)"
   ]
  },
  {
   "cell_type": "code",
   "execution_count": 108,
   "id": "c36d21ec-afa8-495a-8625-e50b39f61464",
   "metadata": {},
   "outputs": [
    {
     "data": {
      "text/plain": [
       "Index(['SquareFeet', 'BedRooms', 'BathRooms',\n",
       "       'Neighborhood', 'YearBuilt', 'Price'],\n",
       "      dtype='object')"
      ]
     },
     "execution_count": 108,
     "metadata": {},
     "output_type": "execute_result"
    }
   ],
   "source": [
    "df.columns"
   ]
  },
  {
   "cell_type": "code",
   "execution_count": 109,
   "id": "e7ec3eba-389a-468c-802d-49a47156efdf",
   "metadata": {},
   "outputs": [
    {
     "data": {
      "text/html": [
       "<div>\n",
       "<style scoped>\n",
       "    .dataframe tbody tr th:only-of-type {\n",
       "        vertical-align: middle;\n",
       "    }\n",
       "\n",
       "    .dataframe tbody tr th {\n",
       "        vertical-align: top;\n",
       "    }\n",
       "\n",
       "    .dataframe thead th {\n",
       "        text-align: right;\n",
       "    }\n",
       "</style>\n",
       "<table border=\"1\" class=\"dataframe\">\n",
       "  <thead>\n",
       "    <tr style=\"text-align: right;\">\n",
       "      <th></th>\n",
       "      <th>SquareFeet</th>\n",
       "      <th>BedRooms</th>\n",
       "      <th>BathRooms</th>\n",
       "      <th>Neighborhood</th>\n",
       "      <th>YearBuilt</th>\n",
       "      <th>Price</th>\n",
       "    </tr>\n",
       "  </thead>\n",
       "  <tbody>\n",
       "    <tr>\n",
       "      <th>0</th>\n",
       "      <td>2126</td>\n",
       "      <td>4</td>\n",
       "      <td>1</td>\n",
       "      <td>Rural</td>\n",
       "      <td>1969</td>\n",
       "      <td>215355.283618</td>\n",
       "    </tr>\n",
       "    <tr>\n",
       "      <th>1</th>\n",
       "      <td>2459</td>\n",
       "      <td>3</td>\n",
       "      <td>2</td>\n",
       "      <td>Rural</td>\n",
       "      <td>1980</td>\n",
       "      <td>195014.221626</td>\n",
       "    </tr>\n",
       "    <tr>\n",
       "      <th>2</th>\n",
       "      <td>1860</td>\n",
       "      <td>2</td>\n",
       "      <td>1</td>\n",
       "      <td>Suburb</td>\n",
       "      <td>1970</td>\n",
       "      <td>306891.012076</td>\n",
       "    </tr>\n",
       "    <tr>\n",
       "      <th>3</th>\n",
       "      <td>2294</td>\n",
       "      <td>2</td>\n",
       "      <td>1</td>\n",
       "      <td>Urban</td>\n",
       "      <td>1996</td>\n",
       "      <td>206786.787153</td>\n",
       "    </tr>\n",
       "    <tr>\n",
       "      <th>4</th>\n",
       "      <td>2130</td>\n",
       "      <td>5</td>\n",
       "      <td>2</td>\n",
       "      <td>Suburb</td>\n",
       "      <td>2001</td>\n",
       "      <td>272436.239065</td>\n",
       "    </tr>\n",
       "    <tr>\n",
       "      <th>...</th>\n",
       "      <td>...</td>\n",
       "      <td>...</td>\n",
       "      <td>...</td>\n",
       "      <td>...</td>\n",
       "      <td>...</td>\n",
       "      <td>...</td>\n",
       "    </tr>\n",
       "    <tr>\n",
       "      <th>49995</th>\n",
       "      <td>1282</td>\n",
       "      <td>5</td>\n",
       "      <td>3</td>\n",
       "      <td>Rural</td>\n",
       "      <td>1975</td>\n",
       "      <td>100080.865895</td>\n",
       "    </tr>\n",
       "    <tr>\n",
       "      <th>49996</th>\n",
       "      <td>2854</td>\n",
       "      <td>2</td>\n",
       "      <td>2</td>\n",
       "      <td>Suburb</td>\n",
       "      <td>1988</td>\n",
       "      <td>374507.656727</td>\n",
       "    </tr>\n",
       "    <tr>\n",
       "      <th>49997</th>\n",
       "      <td>2979</td>\n",
       "      <td>5</td>\n",
       "      <td>3</td>\n",
       "      <td>Suburb</td>\n",
       "      <td>1962</td>\n",
       "      <td>384110.555590</td>\n",
       "    </tr>\n",
       "    <tr>\n",
       "      <th>49998</th>\n",
       "      <td>2596</td>\n",
       "      <td>5</td>\n",
       "      <td>2</td>\n",
       "      <td>Rural</td>\n",
       "      <td>1984</td>\n",
       "      <td>380512.685957</td>\n",
       "    </tr>\n",
       "    <tr>\n",
       "      <th>49999</th>\n",
       "      <td>1572</td>\n",
       "      <td>5</td>\n",
       "      <td>3</td>\n",
       "      <td>Rural</td>\n",
       "      <td>2011</td>\n",
       "      <td>221618.583218</td>\n",
       "    </tr>\n",
       "  </tbody>\n",
       "</table>\n",
       "<p>50000 rows × 6 columns</p>\n",
       "</div>"
      ],
      "text/plain": [
       "       SquareFeet  BedRooms  BathRooms Neighborhood  \\\n",
       "0            2126         4          1        Rural   \n",
       "1            2459         3          2        Rural   \n",
       "2            1860         2          1       Suburb   \n",
       "3            2294         2          1        Urban   \n",
       "4            2130         5          2       Suburb   \n",
       "...           ...       ...        ...          ...   \n",
       "49995        1282         5          3        Rural   \n",
       "49996        2854         2          2       Suburb   \n",
       "49997        2979         5          3       Suburb   \n",
       "49998        2596         5          2        Rural   \n",
       "49999        1572         5          3        Rural   \n",
       "\n",
       "       YearBuilt          Price  \n",
       "0           1969  215355.283618  \n",
       "1           1980  195014.221626  \n",
       "2           1970  306891.012076  \n",
       "3           1996  206786.787153  \n",
       "4           2001  272436.239065  \n",
       "...          ...            ...  \n",
       "49995       1975  100080.865895  \n",
       "49996       1988  374507.656727  \n",
       "49997       1962  384110.555590  \n",
       "49998       1984  380512.685957  \n",
       "49999       2011  221618.583218  \n",
       "\n",
       "[50000 rows x 6 columns]"
      ]
     },
     "execution_count": 109,
     "metadata": {},
     "output_type": "execute_result"
    }
   ],
   "source": [
    "df[:]"
   ]
  },
  {
   "cell_type": "code",
   "execution_count": 110,
   "id": "2bc457f4-38b5-4d0c-9004-b8057aad9e53",
   "metadata": {},
   "outputs": [
    {
     "data": {
      "text/html": [
       "<div>\n",
       "<style scoped>\n",
       "    .dataframe tbody tr th:only-of-type {\n",
       "        vertical-align: middle;\n",
       "    }\n",
       "\n",
       "    .dataframe tbody tr th {\n",
       "        vertical-align: top;\n",
       "    }\n",
       "\n",
       "    .dataframe thead th {\n",
       "        text-align: right;\n",
       "    }\n",
       "</style>\n",
       "<table border=\"1\" class=\"dataframe\">\n",
       "  <thead>\n",
       "    <tr style=\"text-align: right;\">\n",
       "      <th></th>\n",
       "      <th>SquareFeet</th>\n",
       "      <th>BedRooms</th>\n",
       "      <th>BathRooms</th>\n",
       "      <th>Neighborhood</th>\n",
       "      <th>YearBuilt</th>\n",
       "      <th>Price</th>\n",
       "    </tr>\n",
       "  </thead>\n",
       "  <tbody>\n",
       "    <tr>\n",
       "      <th>0</th>\n",
       "      <td>2126</td>\n",
       "      <td>4</td>\n",
       "      <td>1</td>\n",
       "      <td>Rural</td>\n",
       "      <td>1969</td>\n",
       "      <td>215355.283618</td>\n",
       "    </tr>\n",
       "    <tr>\n",
       "      <th>1</th>\n",
       "      <td>2459</td>\n",
       "      <td>3</td>\n",
       "      <td>2</td>\n",
       "      <td>Rural</td>\n",
       "      <td>1980</td>\n",
       "      <td>195014.221626</td>\n",
       "    </tr>\n",
       "    <tr>\n",
       "      <th>2</th>\n",
       "      <td>1860</td>\n",
       "      <td>2</td>\n",
       "      <td>1</td>\n",
       "      <td>Suburb</td>\n",
       "      <td>1970</td>\n",
       "      <td>306891.012076</td>\n",
       "    </tr>\n",
       "    <tr>\n",
       "      <th>3</th>\n",
       "      <td>2294</td>\n",
       "      <td>2</td>\n",
       "      <td>1</td>\n",
       "      <td>Urban</td>\n",
       "      <td>1996</td>\n",
       "      <td>206786.787153</td>\n",
       "    </tr>\n",
       "    <tr>\n",
       "      <th>4</th>\n",
       "      <td>2130</td>\n",
       "      <td>5</td>\n",
       "      <td>2</td>\n",
       "      <td>Suburb</td>\n",
       "      <td>2001</td>\n",
       "      <td>272436.239065</td>\n",
       "    </tr>\n",
       "  </tbody>\n",
       "</table>\n",
       "</div>"
      ],
      "text/plain": [
       "   SquareFeet  BedRooms  BathRooms Neighborhood  \\\n",
       "0        2126         4          1        Rural   \n",
       "1        2459         3          2        Rural   \n",
       "2        1860         2          1       Suburb   \n",
       "3        2294         2          1        Urban   \n",
       "4        2130         5          2       Suburb   \n",
       "\n",
       "   YearBuilt          Price  \n",
       "0       1969  215355.283618  \n",
       "1       1980  195014.221626  \n",
       "2       1970  306891.012076  \n",
       "3       1996  206786.787153  \n",
       "4       2001  272436.239065  "
      ]
     },
     "execution_count": 110,
     "metadata": {},
     "output_type": "execute_result"
    }
   ],
   "source": [
    "df[:5]"
   ]
  },
  {
   "cell_type": "code",
   "execution_count": 112,
   "id": "fbd99130-3b61-4f1f-b7e3-16972b83f905",
   "metadata": {},
   "outputs": [],
   "source": [
    "#Adding new columns\n",
    "df[\"RoundedPrice\"] = df.Price.round()"
   ]
  },
  {
   "cell_type": "code",
   "execution_count": 113,
   "id": "26db5ae6-88ac-4369-ada0-075d0b6babbc",
   "metadata": {},
   "outputs": [
    {
     "data": {
      "text/plain": [
       "Index(['SquareFeet', 'BedRooms', 'BathRooms',\n",
       "       'Neighborhood', 'YearBuilt', 'Price',\n",
       "       'RoundedPrice'],\n",
       "      dtype='object')"
      ]
     },
     "execution_count": 113,
     "metadata": {},
     "output_type": "execute_result"
    }
   ],
   "source": [
    "df.columns"
   ]
  },
  {
   "cell_type": "code",
   "execution_count": 114,
   "id": "f205d009-ed34-4578-a1e2-9bbc025ff024",
   "metadata": {},
   "outputs": [
    {
     "data": {
      "text/html": [
       "<div>\n",
       "<style scoped>\n",
       "    .dataframe tbody tr th:only-of-type {\n",
       "        vertical-align: middle;\n",
       "    }\n",
       "\n",
       "    .dataframe tbody tr th {\n",
       "        vertical-align: top;\n",
       "    }\n",
       "\n",
       "    .dataframe thead th {\n",
       "        text-align: right;\n",
       "    }\n",
       "</style>\n",
       "<table border=\"1\" class=\"dataframe\">\n",
       "  <thead>\n",
       "    <tr style=\"text-align: right;\">\n",
       "      <th></th>\n",
       "      <th>SquareFeet</th>\n",
       "      <th>BedRooms</th>\n",
       "      <th>BathRooms</th>\n",
       "      <th>Neighborhood</th>\n",
       "      <th>YearBuilt</th>\n",
       "      <th>Price</th>\n",
       "      <th>RoundedPrice</th>\n",
       "    </tr>\n",
       "  </thead>\n",
       "  <tbody>\n",
       "    <tr>\n",
       "      <th>0</th>\n",
       "      <td>2126</td>\n",
       "      <td>4</td>\n",
       "      <td>1</td>\n",
       "      <td>Rural</td>\n",
       "      <td>1969</td>\n",
       "      <td>215355.283618</td>\n",
       "      <td>215355.0</td>\n",
       "    </tr>\n",
       "    <tr>\n",
       "      <th>1</th>\n",
       "      <td>2459</td>\n",
       "      <td>3</td>\n",
       "      <td>2</td>\n",
       "      <td>Rural</td>\n",
       "      <td>1980</td>\n",
       "      <td>195014.221626</td>\n",
       "      <td>195014.0</td>\n",
       "    </tr>\n",
       "    <tr>\n",
       "      <th>2</th>\n",
       "      <td>1860</td>\n",
       "      <td>2</td>\n",
       "      <td>1</td>\n",
       "      <td>Suburb</td>\n",
       "      <td>1970</td>\n",
       "      <td>306891.012076</td>\n",
       "      <td>306891.0</td>\n",
       "    </tr>\n",
       "    <tr>\n",
       "      <th>3</th>\n",
       "      <td>2294</td>\n",
       "      <td>2</td>\n",
       "      <td>1</td>\n",
       "      <td>Urban</td>\n",
       "      <td>1996</td>\n",
       "      <td>206786.787153</td>\n",
       "      <td>206787.0</td>\n",
       "    </tr>\n",
       "    <tr>\n",
       "      <th>4</th>\n",
       "      <td>2130</td>\n",
       "      <td>5</td>\n",
       "      <td>2</td>\n",
       "      <td>Suburb</td>\n",
       "      <td>2001</td>\n",
       "      <td>272436.239065</td>\n",
       "      <td>272436.0</td>\n",
       "    </tr>\n",
       "  </tbody>\n",
       "</table>\n",
       "</div>"
      ],
      "text/plain": [
       "   SquareFeet  BedRooms  BathRooms Neighborhood  \\\n",
       "0        2126         4          1        Rural   \n",
       "1        2459         3          2        Rural   \n",
       "2        1860         2          1       Suburb   \n",
       "3        2294         2          1        Urban   \n",
       "4        2130         5          2       Suburb   \n",
       "\n",
       "   YearBuilt          Price  RoundedPrice  \n",
       "0       1969  215355.283618      215355.0  \n",
       "1       1980  195014.221626      195014.0  \n",
       "2       1970  306891.012076      306891.0  \n",
       "3       1996  206786.787153      206787.0  \n",
       "4       2001  272436.239065      272436.0  "
      ]
     },
     "execution_count": 114,
     "metadata": {},
     "output_type": "execute_result"
    }
   ],
   "source": [
    "df[:5]"
   ]
  },
  {
   "cell_type": "code",
   "execution_count": 115,
   "id": "46df5f71-1d0e-49d7-bfa0-ce6c895775c9",
   "metadata": {},
   "outputs": [],
   "source": [
    "df.insert(6,'PER',0.0)"
   ]
  },
  {
   "cell_type": "code",
   "execution_count": 116,
   "id": "09619250-a045-49ee-bbd3-97adcb567b39",
   "metadata": {},
   "outputs": [
    {
     "data": {
      "text/plain": [
       "Index(['SquareFeet', 'BedRooms', 'BathRooms',\n",
       "       'Neighborhood', 'YearBuilt', 'Price', 'PER',\n",
       "       'RoundedPrice'],\n",
       "      dtype='object')"
      ]
     },
     "execution_count": 116,
     "metadata": {},
     "output_type": "execute_result"
    }
   ],
   "source": [
    "df.columns"
   ]
  },
  {
   "cell_type": "code",
   "execution_count": 118,
   "id": "44647245-68f3-4a2f-a742-afa10cd4bbb0",
   "metadata": {},
   "outputs": [
    {
     "data": {
      "text/html": [
       "<div>\n",
       "<style scoped>\n",
       "    .dataframe tbody tr th:only-of-type {\n",
       "        vertical-align: middle;\n",
       "    }\n",
       "\n",
       "    .dataframe tbody tr th {\n",
       "        vertical-align: top;\n",
       "    }\n",
       "\n",
       "    .dataframe thead th {\n",
       "        text-align: right;\n",
       "    }\n",
       "</style>\n",
       "<table border=\"1\" class=\"dataframe\">\n",
       "  <thead>\n",
       "    <tr style=\"text-align: right;\">\n",
       "      <th></th>\n",
       "      <th>SquareFeet</th>\n",
       "      <th>BedRooms</th>\n",
       "      <th>BathRooms</th>\n",
       "      <th>Neighborhood</th>\n",
       "      <th>YearBuilt</th>\n",
       "      <th>Price</th>\n",
       "      <th>PER</th>\n",
       "      <th>RoundedPrice</th>\n",
       "    </tr>\n",
       "  </thead>\n",
       "  <tbody>\n",
       "    <tr>\n",
       "      <th>0</th>\n",
       "      <td>2126</td>\n",
       "      <td>4</td>\n",
       "      <td>1</td>\n",
       "      <td>Rural</td>\n",
       "      <td>1969</td>\n",
       "      <td>215355.283618</td>\n",
       "      <td>0.0</td>\n",
       "      <td>215355.0</td>\n",
       "    </tr>\n",
       "    <tr>\n",
       "      <th>1</th>\n",
       "      <td>2459</td>\n",
       "      <td>3</td>\n",
       "      <td>2</td>\n",
       "      <td>Rural</td>\n",
       "      <td>1980</td>\n",
       "      <td>195014.221626</td>\n",
       "      <td>0.0</td>\n",
       "      <td>195014.0</td>\n",
       "    </tr>\n",
       "    <tr>\n",
       "      <th>2</th>\n",
       "      <td>1860</td>\n",
       "      <td>2</td>\n",
       "      <td>1</td>\n",
       "      <td>Suburb</td>\n",
       "      <td>1970</td>\n",
       "      <td>306891.012076</td>\n",
       "      <td>0.0</td>\n",
       "      <td>306891.0</td>\n",
       "    </tr>\n",
       "  </tbody>\n",
       "</table>\n",
       "</div>"
      ],
      "text/plain": [
       "   SquareFeet  BedRooms  BathRooms Neighborhood  \\\n",
       "0        2126         4          1        Rural   \n",
       "1        2459         3          2        Rural   \n",
       "2        1860         2          1       Suburb   \n",
       "\n",
       "   YearBuilt          Price  PER  RoundedPrice  \n",
       "0       1969  215355.283618  0.0      215355.0  \n",
       "1       1980  195014.221626  0.0      195014.0  \n",
       "2       1970  306891.012076  0.0      306891.0  "
      ]
     },
     "execution_count": 118,
     "metadata": {},
     "output_type": "execute_result"
    }
   ],
   "source": [
    "df[:3]"
   ]
  },
  {
   "cell_type": "code",
   "execution_count": 119,
   "id": "f25ea261-147d-4045-83f2-f1b926163e5c",
   "metadata": {},
   "outputs": [
    {
     "data": {
      "text/html": [
       "<div>\n",
       "<style scoped>\n",
       "    .dataframe tbody tr th:only-of-type {\n",
       "        vertical-align: middle;\n",
       "    }\n",
       "\n",
       "    .dataframe tbody tr th {\n",
       "        vertical-align: top;\n",
       "    }\n",
       "\n",
       "    .dataframe thead th {\n",
       "        text-align: right;\n",
       "    }\n",
       "</style>\n",
       "<table border=\"1\" class=\"dataframe\">\n",
       "  <thead>\n",
       "    <tr style=\"text-align: right;\">\n",
       "      <th></th>\n",
       "      <th>SquareFeet</th>\n",
       "      <th>BedRooms</th>\n",
       "      <th>BathRooms</th>\n",
       "      <th>Neighborhood</th>\n",
       "      <th>YearBuilt</th>\n",
       "      <th>Price</th>\n",
       "      <th>RoundedPrice</th>\n",
       "    </tr>\n",
       "  </thead>\n",
       "  <tbody>\n",
       "    <tr>\n",
       "      <th>0</th>\n",
       "      <td>2126</td>\n",
       "      <td>4</td>\n",
       "      <td>1</td>\n",
       "      <td>Rural</td>\n",
       "      <td>1969</td>\n",
       "      <td>215355.283618</td>\n",
       "      <td>215355.0</td>\n",
       "    </tr>\n",
       "    <tr>\n",
       "      <th>1</th>\n",
       "      <td>2459</td>\n",
       "      <td>3</td>\n",
       "      <td>2</td>\n",
       "      <td>Rural</td>\n",
       "      <td>1980</td>\n",
       "      <td>195014.221626</td>\n",
       "      <td>195014.0</td>\n",
       "    </tr>\n",
       "    <tr>\n",
       "      <th>2</th>\n",
       "      <td>1860</td>\n",
       "      <td>2</td>\n",
       "      <td>1</td>\n",
       "      <td>Suburb</td>\n",
       "      <td>1970</td>\n",
       "      <td>306891.012076</td>\n",
       "      <td>306891.0</td>\n",
       "    </tr>\n",
       "    <tr>\n",
       "      <th>3</th>\n",
       "      <td>2294</td>\n",
       "      <td>2</td>\n",
       "      <td>1</td>\n",
       "      <td>Urban</td>\n",
       "      <td>1996</td>\n",
       "      <td>206786.787153</td>\n",
       "      <td>206787.0</td>\n",
       "    </tr>\n",
       "    <tr>\n",
       "      <th>4</th>\n",
       "      <td>2130</td>\n",
       "      <td>5</td>\n",
       "      <td>2</td>\n",
       "      <td>Suburb</td>\n",
       "      <td>2001</td>\n",
       "      <td>272436.239065</td>\n",
       "      <td>272436.0</td>\n",
       "    </tr>\n",
       "    <tr>\n",
       "      <th>...</th>\n",
       "      <td>...</td>\n",
       "      <td>...</td>\n",
       "      <td>...</td>\n",
       "      <td>...</td>\n",
       "      <td>...</td>\n",
       "      <td>...</td>\n",
       "      <td>...</td>\n",
       "    </tr>\n",
       "    <tr>\n",
       "      <th>49995</th>\n",
       "      <td>1282</td>\n",
       "      <td>5</td>\n",
       "      <td>3</td>\n",
       "      <td>Rural</td>\n",
       "      <td>1975</td>\n",
       "      <td>100080.865895</td>\n",
       "      <td>100081.0</td>\n",
       "    </tr>\n",
       "    <tr>\n",
       "      <th>49996</th>\n",
       "      <td>2854</td>\n",
       "      <td>2</td>\n",
       "      <td>2</td>\n",
       "      <td>Suburb</td>\n",
       "      <td>1988</td>\n",
       "      <td>374507.656727</td>\n",
       "      <td>374508.0</td>\n",
       "    </tr>\n",
       "    <tr>\n",
       "      <th>49997</th>\n",
       "      <td>2979</td>\n",
       "      <td>5</td>\n",
       "      <td>3</td>\n",
       "      <td>Suburb</td>\n",
       "      <td>1962</td>\n",
       "      <td>384110.555590</td>\n",
       "      <td>384111.0</td>\n",
       "    </tr>\n",
       "    <tr>\n",
       "      <th>49998</th>\n",
       "      <td>2596</td>\n",
       "      <td>5</td>\n",
       "      <td>2</td>\n",
       "      <td>Rural</td>\n",
       "      <td>1984</td>\n",
       "      <td>380512.685957</td>\n",
       "      <td>380513.0</td>\n",
       "    </tr>\n",
       "    <tr>\n",
       "      <th>49999</th>\n",
       "      <td>1572</td>\n",
       "      <td>5</td>\n",
       "      <td>3</td>\n",
       "      <td>Rural</td>\n",
       "      <td>2011</td>\n",
       "      <td>221618.583218</td>\n",
       "      <td>221619.0</td>\n",
       "    </tr>\n",
       "  </tbody>\n",
       "</table>\n",
       "<p>50000 rows × 7 columns</p>\n",
       "</div>"
      ],
      "text/plain": [
       "       SquareFeet  BedRooms  BathRooms Neighborhood  \\\n",
       "0            2126         4          1        Rural   \n",
       "1            2459         3          2        Rural   \n",
       "2            1860         2          1       Suburb   \n",
       "3            2294         2          1        Urban   \n",
       "4            2130         5          2       Suburb   \n",
       "...           ...       ...        ...          ...   \n",
       "49995        1282         5          3        Rural   \n",
       "49996        2854         2          2       Suburb   \n",
       "49997        2979         5          3       Suburb   \n",
       "49998        2596         5          2        Rural   \n",
       "49999        1572         5          3        Rural   \n",
       "\n",
       "       YearBuilt          Price  RoundedPrice  \n",
       "0           1969  215355.283618      215355.0  \n",
       "1           1980  195014.221626      195014.0  \n",
       "2           1970  306891.012076      306891.0  \n",
       "3           1996  206786.787153      206787.0  \n",
       "4           2001  272436.239065      272436.0  \n",
       "...          ...            ...           ...  \n",
       "49995       1975  100080.865895      100081.0  \n",
       "49996       1988  374507.656727      374508.0  \n",
       "49997       1962  384110.555590      384111.0  \n",
       "49998       1984  380512.685957      380513.0  \n",
       "49999       2011  221618.583218      221619.0  \n",
       "\n",
       "[50000 rows x 7 columns]"
      ]
     },
     "execution_count": 119,
     "metadata": {},
     "output_type": "execute_result"
    }
   ],
   "source": [
    "#Dropping columns from a dataFrame\n",
    "df.drop('PER',axis=1)"
   ]
  },
  {
   "cell_type": "code",
   "execution_count": 120,
   "id": "1f8857e0-66df-4a3c-bd90-c5235f49a9cb",
   "metadata": {},
   "outputs": [
    {
     "data": {
      "text/plain": [
       "Index(['SquareFeet', 'BedRooms', 'BathRooms',\n",
       "       'Neighborhood', 'YearBuilt', 'Price', 'PER',\n",
       "       'RoundedPrice'],\n",
       "      dtype='object')"
      ]
     },
     "execution_count": 120,
     "metadata": {},
     "output_type": "execute_result"
    }
   ],
   "source": [
    "df.columns"
   ]
  },
  {
   "cell_type": "code",
   "execution_count": 121,
   "id": "91c70aa4-c7df-40df-9ee6-535c659fd2d1",
   "metadata": {},
   "outputs": [],
   "source": [
    "df = df.drop('PER',axis=1)"
   ]
  },
  {
   "cell_type": "code",
   "execution_count": 122,
   "id": "f7ad49b2-947f-44a8-ae8c-5093f761b9af",
   "metadata": {},
   "outputs": [
    {
     "data": {
      "text/html": [
       "<div>\n",
       "<style scoped>\n",
       "    .dataframe tbody tr th:only-of-type {\n",
       "        vertical-align: middle;\n",
       "    }\n",
       "\n",
       "    .dataframe tbody tr th {\n",
       "        vertical-align: top;\n",
       "    }\n",
       "\n",
       "    .dataframe thead th {\n",
       "        text-align: right;\n",
       "    }\n",
       "</style>\n",
       "<table border=\"1\" class=\"dataframe\">\n",
       "  <thead>\n",
       "    <tr style=\"text-align: right;\">\n",
       "      <th></th>\n",
       "      <th>SquareFeet</th>\n",
       "      <th>BedRooms</th>\n",
       "      <th>BathRooms</th>\n",
       "      <th>Neighborhood</th>\n",
       "      <th>YearBuilt</th>\n",
       "      <th>Price</th>\n",
       "      <th>RoundedPrice</th>\n",
       "    </tr>\n",
       "  </thead>\n",
       "  <tbody>\n",
       "    <tr>\n",
       "      <th>0</th>\n",
       "      <td>2126</td>\n",
       "      <td>4</td>\n",
       "      <td>1</td>\n",
       "      <td>Rural</td>\n",
       "      <td>1969</td>\n",
       "      <td>215355.283618</td>\n",
       "      <td>215355.0</td>\n",
       "    </tr>\n",
       "    <tr>\n",
       "      <th>1</th>\n",
       "      <td>2459</td>\n",
       "      <td>3</td>\n",
       "      <td>2</td>\n",
       "      <td>Rural</td>\n",
       "      <td>1980</td>\n",
       "      <td>195014.221626</td>\n",
       "      <td>195014.0</td>\n",
       "    </tr>\n",
       "    <tr>\n",
       "      <th>2</th>\n",
       "      <td>1860</td>\n",
       "      <td>2</td>\n",
       "      <td>1</td>\n",
       "      <td>Suburb</td>\n",
       "      <td>1970</td>\n",
       "      <td>306891.012076</td>\n",
       "      <td>306891.0</td>\n",
       "    </tr>\n",
       "    <tr>\n",
       "      <th>3</th>\n",
       "      <td>2294</td>\n",
       "      <td>2</td>\n",
       "      <td>1</td>\n",
       "      <td>Urban</td>\n",
       "      <td>1996</td>\n",
       "      <td>206786.787153</td>\n",
       "      <td>206787.0</td>\n",
       "    </tr>\n",
       "    <tr>\n",
       "      <th>4</th>\n",
       "      <td>2130</td>\n",
       "      <td>5</td>\n",
       "      <td>2</td>\n",
       "      <td>Suburb</td>\n",
       "      <td>2001</td>\n",
       "      <td>272436.239065</td>\n",
       "      <td>272436.0</td>\n",
       "    </tr>\n",
       "    <tr>\n",
       "      <th>...</th>\n",
       "      <td>...</td>\n",
       "      <td>...</td>\n",
       "      <td>...</td>\n",
       "      <td>...</td>\n",
       "      <td>...</td>\n",
       "      <td>...</td>\n",
       "      <td>...</td>\n",
       "    </tr>\n",
       "    <tr>\n",
       "      <th>49995</th>\n",
       "      <td>1282</td>\n",
       "      <td>5</td>\n",
       "      <td>3</td>\n",
       "      <td>Rural</td>\n",
       "      <td>1975</td>\n",
       "      <td>100080.865895</td>\n",
       "      <td>100081.0</td>\n",
       "    </tr>\n",
       "    <tr>\n",
       "      <th>49996</th>\n",
       "      <td>2854</td>\n",
       "      <td>2</td>\n",
       "      <td>2</td>\n",
       "      <td>Suburb</td>\n",
       "      <td>1988</td>\n",
       "      <td>374507.656727</td>\n",
       "      <td>374508.0</td>\n",
       "    </tr>\n",
       "    <tr>\n",
       "      <th>49997</th>\n",
       "      <td>2979</td>\n",
       "      <td>5</td>\n",
       "      <td>3</td>\n",
       "      <td>Suburb</td>\n",
       "      <td>1962</td>\n",
       "      <td>384110.555590</td>\n",
       "      <td>384111.0</td>\n",
       "    </tr>\n",
       "    <tr>\n",
       "      <th>49998</th>\n",
       "      <td>2596</td>\n",
       "      <td>5</td>\n",
       "      <td>2</td>\n",
       "      <td>Rural</td>\n",
       "      <td>1984</td>\n",
       "      <td>380512.685957</td>\n",
       "      <td>380513.0</td>\n",
       "    </tr>\n",
       "    <tr>\n",
       "      <th>49999</th>\n",
       "      <td>1572</td>\n",
       "      <td>5</td>\n",
       "      <td>3</td>\n",
       "      <td>Rural</td>\n",
       "      <td>2011</td>\n",
       "      <td>221618.583218</td>\n",
       "      <td>221619.0</td>\n",
       "    </tr>\n",
       "  </tbody>\n",
       "</table>\n",
       "<p>50000 rows × 7 columns</p>\n",
       "</div>"
      ],
      "text/plain": [
       "       SquareFeet  BedRooms  BathRooms Neighborhood  \\\n",
       "0            2126         4          1        Rural   \n",
       "1            2459         3          2        Rural   \n",
       "2            1860         2          1       Suburb   \n",
       "3            2294         2          1        Urban   \n",
       "4            2130         5          2       Suburb   \n",
       "...           ...       ...        ...          ...   \n",
       "49995        1282         5          3        Rural   \n",
       "49996        2854         2          2       Suburb   \n",
       "49997        2979         5          3       Suburb   \n",
       "49998        2596         5          2        Rural   \n",
       "49999        1572         5          3        Rural   \n",
       "\n",
       "       YearBuilt          Price  RoundedPrice  \n",
       "0           1969  215355.283618      215355.0  \n",
       "1           1980  195014.221626      195014.0  \n",
       "2           1970  306891.012076      306891.0  \n",
       "3           1996  206786.787153      206787.0  \n",
       "4           2001  272436.239065      272436.0  \n",
       "...          ...            ...           ...  \n",
       "49995       1975  100080.865895      100081.0  \n",
       "49996       1988  374507.656727      374508.0  \n",
       "49997       1962  384110.555590      384111.0  \n",
       "49998       1984  380512.685957      380513.0  \n",
       "49999       2011  221618.583218      221619.0  \n",
       "\n",
       "[50000 rows x 7 columns]"
      ]
     },
     "execution_count": 122,
     "metadata": {},
     "output_type": "execute_result"
    }
   ],
   "source": [
    "df"
   ]
  },
  {
   "cell_type": "code",
   "execution_count": 123,
   "id": "a505d0be-e7e6-4ce6-9891-e710144770fc",
   "metadata": {},
   "outputs": [],
   "source": [
    "rounded = df.pop(\"RoundedPrice\")"
   ]
  },
  {
   "cell_type": "code",
   "execution_count": 124,
   "id": "196b06cf-8327-404b-a230-cd613e8bd942",
   "metadata": {},
   "outputs": [
    {
     "data": {
      "text/plain": [
       "0        215355.0\n",
       "1        195014.0\n",
       "2        306891.0\n",
       "3        206787.0\n",
       "4        272436.0\n",
       "           ...   \n",
       "49995    100081.0\n",
       "49996    374508.0\n",
       "49997    384111.0\n",
       "49998    380513.0\n",
       "49999    221619.0\n",
       "Name: RoundedPrice, Length: 50000, dtype: float64"
      ]
     },
     "execution_count": 124,
     "metadata": {},
     "output_type": "execute_result"
    }
   ],
   "source": [
    "rounded"
   ]
  },
  {
   "cell_type": "code",
   "execution_count": 125,
   "id": "d02b8e82-6c03-470b-8138-4d9e3d2dbcd3",
   "metadata": {},
   "outputs": [],
   "source": [
    "#pop will remove the last column but will return it as a series"
   ]
  },
  {
   "cell_type": "code",
   "execution_count": null,
   "id": "ebca89ff-f27c-4f71-9983-869dc56a36cc",
   "metadata": {},
   "outputs": [],
   "source": []
  }
 ],
 "metadata": {
  "kernelspec": {
   "display_name": "Python 3 (ipykernel)",
   "language": "python",
   "name": "python3"
  },
  "language_info": {
   "codemirror_mode": {
    "name": "ipython",
    "version": 3
   },
   "file_extension": ".py",
   "mimetype": "text/x-python",
   "name": "python",
   "nbconvert_exporter": "python",
   "pygments_lexer": "ipython3",
   "version": "3.12.0"
  }
 },
 "nbformat": 4,
 "nbformat_minor": 5
}
