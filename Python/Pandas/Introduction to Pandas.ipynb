{
 "cells": [
  {
   "cell_type": "code",
   "execution_count": 2,
   "id": "0de1f0f5-0b9b-4454-8c98-2cc465e84493",
   "metadata": {},
   "outputs": [],
   "source": [
    "#importing pandas\n",
    "import pandas as pd\n",
    "#controlling the output format\n",
    "\n",
    "pd.set_option('display.max_columns',10)\n",
    "pd.set_option('display.max_rows',10)\n",
    "pd.set_option('display.width',60)\n",
    "pd.set_option('display.notebook_repr_html',False)"
   ]
  },
  {
   "cell_type": "code",
   "execution_count": 5,
   "id": "6c6fc8d2-af3c-4fd3-9d12-a628a5d1540c",
   "metadata": {},
   "outputs": [
    {
     "data": {
      "text/plain": [
       "0    1\n",
       "1    2\n",
       "2    3\n",
       "3    4\n",
       "4    5\n",
       "dtype: int64"
      ]
     },
     "execution_count": 5,
     "metadata": {},
     "output_type": "execute_result"
    }
   ],
   "source": [
    "#creating Series\n",
    "s = pd.Series([1,2,3,4,5])\n",
    "s"
   ]
  },
  {
   "cell_type": "code",
   "execution_count": 6,
   "id": "202a50c8-3c30-4e5e-b09b-283fcd12c468",
   "metadata": {},
   "outputs": [
    {
     "data": {
      "text/plain": [
       "2"
      ]
     },
     "execution_count": 6,
     "metadata": {},
     "output_type": "execute_result"
    }
   ],
   "source": [
    "#Accessing elements in the series\n",
    "s[1]"
   ]
  },
  {
   "cell_type": "code",
   "execution_count": 7,
   "id": "be4fb8d4-6309-4f3a-a487-e54609b7a6e7",
   "metadata": {},
   "outputs": [
    {
     "data": {
      "text/plain": [
       "2    3\n",
       "4    5\n",
       "dtype: int64"
      ]
     },
     "execution_count": 7,
     "metadata": {},
     "output_type": "execute_result"
    }
   ],
   "source": [
    "#accessing multiple values in the series\n",
    "s[[2,4]]"
   ]
  },
  {
   "cell_type": "code",
   "execution_count": 8,
   "id": "9c2e7f09-5420-4c8d-ae7f-d605ab6d84e7",
   "metadata": {},
   "outputs": [
    {
     "data": {
      "text/plain": [
       "a    3\n",
       "b    2\n",
       "c    1\n",
       "d    4\n",
       "e    5\n",
       "dtype: int64"
      ]
     },
     "execution_count": 8,
     "metadata": {},
     "output_type": "execute_result"
    }
   ],
   "source": [
    "#A series object can be created using a user defined index by using the Index parameter\n",
    "a = pd.Series([3,2,1,4,5],index = ['a','b','c','d','e'])\n",
    "a"
   ]
  },
  {
   "cell_type": "code",
   "execution_count": 9,
   "id": "4df5d613-4a01-42fd-8fc8-769c677e21cf",
   "metadata": {},
   "outputs": [
    {
     "data": {
      "text/plain": [
       "b    2\n",
       "e    5\n",
       "dtype: int64"
      ]
     },
     "execution_count": 9,
     "metadata": {},
     "output_type": "execute_result"
    }
   ],
   "source": [
    "#now we can access using the alphanumeric index\n",
    "a[['b','e']]"
   ]
  },
  {
   "cell_type": "code",
   "execution_count": 10,
   "id": "c811fe19-bac0-4ee3-ae8c-9de59e15fa53",
   "metadata": {},
   "outputs": [
    {
     "name": "stderr",
     "output_type": "stream",
     "text": [
      "C:\\Users\\pc\\AppData\\Local\\Temp\\ipykernel_11688\\3558103326.py:2: FutureWarning: Series.__getitem__ treating keys as positions is deprecated. In a future version, integer keys will always be treated as labels (consistent with DataFrame behavior). To access a value by position, use `ser.iloc[pos]`\n",
      "  a[[1,2]]\n"
     ]
    },
    {
     "data": {
      "text/plain": [
       "b    2\n",
       "c    1\n",
       "dtype: int64"
      ]
     },
     "execution_count": 10,
     "metadata": {},
     "output_type": "execute_result"
    }
   ],
   "source": [
    "#passing a list of integers to a Series of a non integer index will look up based upon 0-based index like an array\n",
    "a[[1,2]]"
   ]
  },
  {
   "cell_type": "code",
   "execution_count": 12,
   "id": "79a6a9cf-1c79-4cad-bb8d-3109c30f7698",
   "metadata": {},
   "outputs": [
    {
     "data": {
      "text/plain": [
       "Index(['a', 'b', 'c', 'd', 'e'], dtype='object')"
      ]
     },
     "execution_count": 12,
     "metadata": {},
     "output_type": "execute_result"
    }
   ],
   "source": [
    "#we can examine the index of a series using the index property\n",
    "a.index\n"
   ]
  },
  {
   "cell_type": "code",
   "execution_count": 14,
   "id": "4f7ca2a5-b2e7-434f-a707-cdbfc7a4d0c7",
   "metadata": {},
   "outputs": [
    {
     "data": {
      "text/plain": [
       "DatetimeIndex(['2023-01-01', '2023-01-02', '2023-01-03',\n",
       "               '2023-01-04', '2023-01-05', '2023-01-06'],\n",
       "              dtype='datetime64[ns]', freq='D')"
      ]
     },
     "execution_count": 14,
     "metadata": {},
     "output_type": "execute_result"
    }
   ],
   "source": [
    "#create an index who's index is a series of dates between the specified dates\n",
    "dates = pd.date_range('2023-01-01','2023-01-06')\n",
    "dates"
   ]
  },
  {
   "cell_type": "code",
   "execution_count": 15,
   "id": "94cbb491-4c41-4c6d-84e7-3d2009370553",
   "metadata": {},
   "outputs": [],
   "source": [
    "#the above has created a special index that is DatetimeIndex\n",
    "#Create a series which will represent temperatures for each date in the series\n",
    "temps = pd.Series([80,82,85,90,83,87],index=dates)"
   ]
  },
  {
   "cell_type": "code",
   "execution_count": 16,
   "id": "617b773e-ec41-4651-ba51-98dea0928195",
   "metadata": {},
   "outputs": [
    {
     "data": {
      "text/plain": [
       "2023-01-01    80\n",
       "2023-01-02    82\n",
       "2023-01-03    85\n",
       "2023-01-04    90\n",
       "2023-01-05    83\n",
       "2023-01-06    87\n",
       "Freq: D, dtype: int64"
      ]
     },
     "execution_count": 16,
     "metadata": {},
     "output_type": "execute_result"
    }
   ],
   "source": [
    "temps"
   ]
  },
  {
   "cell_type": "code",
   "execution_count": 17,
   "id": "82a05ede-e65d-4c36-9d47-df05ed98472f",
   "metadata": {},
   "outputs": [
    {
     "data": {
      "text/plain": [
       "83"
      ]
     },
     "execution_count": 17,
     "metadata": {},
     "output_type": "execute_result"
    }
   ],
   "source": [
    "# Looking up temperature of a specific date by:\n",
    "temps['2023-01-05']"
   ]
  },
  {
   "cell_type": "code",
   "execution_count": 18,
   "id": "9fa418ad-d971-481b-be59-34827e8b6860",
   "metadata": {},
   "outputs": [
    {
     "data": {
      "text/plain": [
       "2023-01-01    10\n",
       "2023-01-02     7\n",
       "2023-01-03    16\n",
       "2023-01-04     7\n",
       "2023-01-05     4\n",
       "2023-01-06    10\n",
       "Freq: D, dtype: int64"
      ]
     },
     "execution_count": 18,
     "metadata": {},
     "output_type": "execute_result"
    }
   ],
   "source": [
    "temps1 = pd.Series([70,75,69,83,79,77],index = dates)\n",
    "#calculate the difference on those matching lables\n",
    "temp_diff = temps-temps1\n",
    "temp_diff"
   ]
  },
  {
   "cell_type": "code",
   "execution_count": 19,
   "id": "d16ec68d-e804-458c-8f0d-4f80a31b22cc",
   "metadata": {},
   "outputs": [
    {
     "name": "stderr",
     "output_type": "stream",
     "text": [
      "C:\\Users\\pc\\AppData\\Local\\Temp\\ipykernel_11688\\1202203360.py:2: FutureWarning: Series.__getitem__ treating keys as positions is deprecated. In a future version, integer keys will always be treated as labels (consistent with DataFrame behavior). To access a value by position, use `ser.iloc[pos]`\n",
      "  temp_diff[0]\n"
     ]
    },
    {
     "data": {
      "text/plain": [
       "10"
      ]
     },
     "execution_count": 19,
     "metadata": {},
     "output_type": "execute_result"
    }
   ],
   "source": [
    "#since the index is a non-integer we can also use the 0-based index to access values like so:\n",
    "temp_diff[0]"
   ]
  },
  {
   "cell_type": "code",
   "execution_count": 20,
   "id": "fe1f0eeb-5003-41c9-b1f3-1e85c04a3eee",
   "metadata": {},
   "outputs": [
    {
     "data": {
      "text/plain": [
       "9.0"
      ]
     },
     "execution_count": 20,
     "metadata": {},
     "output_type": "execute_result"
    }
   ],
   "source": [
    "#finding the mean\n",
    "temp_diff.mean()"
   ]
  },
  {
   "cell_type": "code",
   "execution_count": 21,
   "id": "189b62a8-3394-4a97-8453-b218a81fbdc0",
   "metadata": {},
   "outputs": [],
   "source": [
    "#Pandas DataFrame.\n",
    "#in a Series only one value can be associated with a certain index if we wanted multiple values to be associated with an index we can use a DataFrame\n",
    "#Each series will be a columns in a dataframe\n"
   ]
  },
  {
   "cell_type": "code",
   "execution_count": 22,
   "id": "c9886f1b-d54e-435f-8c7f-b291941fb561",
   "metadata": {},
   "outputs": [
    {
     "data": {
      "text/plain": [
       "            Nairobi  Kiambu\n",
       "2023-01-01       80      70\n",
       "2023-01-02       82      75\n",
       "2023-01-03       85      69\n",
       "2023-01-04       90      83\n",
       "2023-01-05       83      79\n",
       "2023-01-06       87      77"
      ]
     },
     "execution_count": 22,
     "metadata": {},
     "output_type": "execute_result"
    }
   ],
   "source": [
    "#creating a Dataframe from the two series and giving them column names\n",
    "temps_df = pd.DataFrame({\n",
    "    \"Nairobi\" : temps,\n",
    "    \"Kiambu\" : temps1\n",
    "})\n",
    "temps_df"
   ]
  },
  {
   "cell_type": "code",
   "execution_count": 25,
   "id": "8695ad39-94bb-4d7c-b81d-e4e5ef027bb8",
   "metadata": {},
   "outputs": [
    {
     "data": {
      "text/plain": [
       "2023-01-01    80\n",
       "2023-01-02    82\n",
       "2023-01-03    85\n",
       "2023-01-04    90\n",
       "2023-01-05    83\n",
       "2023-01-06    87\n",
       "Freq: D, Name: Nairobi, dtype: int64"
      ]
     },
     "execution_count": 25,
     "metadata": {},
     "output_type": "execute_result"
    }
   ],
   "source": [
    "#columns in a Dataframe can be accessed using an indexer with the name of column or a list of column names\n",
    "temps_df[\"Nairobi\"]"
   ]
  },
  {
   "cell_type": "code",
   "execution_count": 26,
   "id": "613bb023-a60c-4e0c-b2e5-246f5e3a7736",
   "metadata": {},
   "outputs": [
    {
     "data": {
      "text/plain": [
       "2023-01-01    70\n",
       "2023-01-02    75\n",
       "2023-01-03    69\n",
       "2023-01-04    83\n",
       "2023-01-05    79\n",
       "2023-01-06    77\n",
       "Freq: D, Name: Kiambu, dtype: int64"
      ]
     },
     "execution_count": 26,
     "metadata": {},
     "output_type": "execute_result"
    }
   ],
   "source": [
    "temps_df[\"Kiambu\"]"
   ]
  },
  {
   "cell_type": "code",
   "execution_count": 27,
   "id": "209580f4-3575-4418-a58e-56b1030d5609",
   "metadata": {},
   "outputs": [
    {
     "data": {
      "text/plain": [
       "            Nairobi  Kiambu\n",
       "2023-01-01       80      70\n",
       "2023-01-02       82      75\n",
       "2023-01-03       85      69\n",
       "2023-01-04       90      83\n",
       "2023-01-05       83      79\n",
       "2023-01-06       87      77"
      ]
     },
     "execution_count": 27,
     "metadata": {},
     "output_type": "execute_result"
    }
   ],
   "source": [
    "temps_df[[\"Nairobi\",\"Kiambu\"]]"
   ]
  },
  {
   "cell_type": "code",
   "execution_count": 28,
   "id": "6e11dd2e-c041-4794-adb1-528961a37bf8",
   "metadata": {},
   "outputs": [
    {
     "data": {
      "text/plain": [
       "2023-01-01    80\n",
       "2023-01-02    82\n",
       "2023-01-03    85\n",
       "2023-01-04    90\n",
       "2023-01-05    83\n",
       "2023-01-06    87\n",
       "Freq: D, Name: Nairobi, dtype: int64"
      ]
     },
     "execution_count": 28,
     "metadata": {},
     "output_type": "execute_result"
    }
   ],
   "source": [
    "temps_df.Nairobi"
   ]
  },
  {
   "cell_type": "code",
   "execution_count": 29,
   "id": "2ba24ac9-234c-4b52-bb4b-21e046b46aae",
   "metadata": {},
   "outputs": [
    {
     "data": {
      "text/plain": [
       "2023-01-01    70\n",
       "2023-01-02    75\n",
       "2023-01-03    69\n",
       "2023-01-04    83\n",
       "2023-01-05    79\n",
       "2023-01-06    77\n",
       "Freq: D, Name: Kiambu, dtype: int64"
      ]
     },
     "execution_count": 29,
     "metadata": {},
     "output_type": "execute_result"
    }
   ],
   "source": [
    "temps_df.Kiambu"
   ]
  },
  {
   "cell_type": "code",
   "execution_count": 30,
   "id": "d56a8fca-f57c-4cdf-a8dd-462c52f922dc",
   "metadata": {},
   "outputs": [
    {
     "data": {
      "text/plain": [
       "2023-01-01    10\n",
       "2023-01-02     7\n",
       "2023-01-03    16\n",
       "2023-01-04     7\n",
       "2023-01-05     4\n",
       "2023-01-06    10\n",
       "Freq: D, dtype: int64"
      ]
     },
     "execution_count": 30,
     "metadata": {},
     "output_type": "execute_result"
    }
   ],
   "source": [
    "temps_df.Nairobi - temps_df.Kiambu"
   ]
  },
  {
   "cell_type": "code",
   "execution_count": 31,
   "id": "5e479725-754a-413d-bb61-805ae0115ece",
   "metadata": {},
   "outputs": [],
   "source": [
    "temps_df[\"Differences\"] = temps_df.Nairobi - temps_df.Kiambu"
   ]
  },
  {
   "cell_type": "code",
   "execution_count": 32,
   "id": "4dfbbd92-1b1b-4ac4-8412-ae1a7f833f76",
   "metadata": {},
   "outputs": [
    {
     "data": {
      "text/plain": [
       "            Nairobi  Kiambu  Differences\n",
       "2023-01-01       80      70           10\n",
       "2023-01-02       82      75            7\n",
       "2023-01-03       85      69           16\n",
       "2023-01-04       90      83            7\n",
       "2023-01-05       83      79            4\n",
       "2023-01-06       87      77           10"
      ]
     },
     "execution_count": 32,
     "metadata": {},
     "output_type": "execute_result"
    }
   ],
   "source": [
    "temps_df"
   ]
  },
  {
   "cell_type": "code",
   "execution_count": 33,
   "id": "141fb51a-5433-448c-a50a-75121474cbc3",
   "metadata": {},
   "outputs": [
    {
     "data": {
      "text/plain": [
       "Index(['Nairobi', 'Kiambu', 'Differences'], dtype='object')"
      ]
     },
     "execution_count": 33,
     "metadata": {},
     "output_type": "execute_result"
    }
   ],
   "source": [
    "#Names of columns in the Dataframe are accessible via the columns property\n",
    "temps_df.columns"
   ]
  },
  {
   "cell_type": "code",
   "execution_count": 34,
   "id": "e206823a-cf92-4d8d-9e2a-9c62d4c730e8",
   "metadata": {},
   "outputs": [
    {
     "data": {
      "text/plain": [
       "2023-01-01    10\n",
       "2023-01-02     7\n",
       "2023-01-03    16\n",
       "2023-01-04     7\n",
       "2023-01-05     4\n",
       "2023-01-06    10\n",
       "Freq: D, Name: Differences, dtype: int64"
      ]
     },
     "execution_count": 34,
     "metadata": {},
     "output_type": "execute_result"
    }
   ],
   "source": [
    "# Accessing values in a columns can be done using the following way\n",
    "temps_df.Differences[:]"
   ]
  },
  {
   "cell_type": "code",
   "execution_count": 35,
   "id": "5c4f03fe-e136-4b66-85c6-96ec49cc9609",
   "metadata": {},
   "outputs": [
    {
     "data": {
      "text/plain": [
       "2023-01-02     7\n",
       "2023-01-03    16\n",
       "Freq: D, Name: Differences, dtype: int64"
      ]
     },
     "execution_count": 35,
     "metadata": {},
     "output_type": "execute_result"
    }
   ],
   "source": [
    "temps_df.Differences[1:3]"
   ]
  },
  {
   "cell_type": "code",
   "execution_count": 36,
   "id": "537cad25-6307-4b1b-af1d-f31be93ce1db",
   "metadata": {},
   "outputs": [
    {
     "data": {
      "text/plain": [
       "Nairobi        82\n",
       "Kiambu         75\n",
       "Differences     7\n",
       "Name: 2023-01-02 00:00:00, dtype: int64"
      ]
     },
     "execution_count": 36,
     "metadata": {},
     "output_type": "execute_result"
    }
   ],
   "source": [
    "#To retrieve Entire columns from the Dataframe one can use the .loc and .iloc property\n",
    "# .loc ensures that the look up is by index.\n",
    "# .iloc ensures that the look up is by the 0-based position\n",
    "temps_df.iloc[1]"
   ]
  },
  {
   "cell_type": "code",
   "execution_count": 39,
   "id": "79dc2461-d473-438c-9172-0c7f62ec95df",
   "metadata": {},
   "outputs": [
    {
     "data": {
      "text/plain": [
       "Nairobi        85\n",
       "Kiambu         69\n",
       "Differences    16\n",
       "Name: 2023-01-03 00:00:00, dtype: int64"
      ]
     },
     "execution_count": 39,
     "metadata": {},
     "output_type": "execute_result"
    }
   ],
   "source": [
    "#retrieving using the index label \n",
    "temps_df.loc['2023-01-03']"
   ]
  },
  {
   "cell_type": "code",
   "execution_count": 42,
   "id": "fb15cbab-4c6b-48bf-90a5-a5374139ced9",
   "metadata": {},
   "outputs": [
    {
     "data": {
      "text/plain": [
       "2023-01-02    7\n",
       "2023-01-04    7\n",
       "2023-01-05    4\n",
       "Name: Differences, dtype: int64"
      ]
     },
     "execution_count": 42,
     "metadata": {},
     "output_type": "execute_result"
    }
   ],
   "source": [
    "temps_df.iloc[[1,3,4]].Differences"
   ]
  },
  {
   "cell_type": "code",
   "execution_count": null,
   "id": "624cef4a-7d8a-4be3-a456-e74387250e68",
   "metadata": {},
   "outputs": [],
   "source": [
    "# Rows of "
   ]
  }
 ],
 "metadata": {
  "kernelspec": {
   "display_name": "Python 3 (ipykernel)",
   "language": "python",
   "name": "python3"
  },
  "language_info": {
   "codemirror_mode": {
    "name": "ipython",
    "version": 3
   },
   "file_extension": ".py",
   "mimetype": "text/x-python",
   "name": "python",
   "nbconvert_exporter": "python",
   "pygments_lexer": "ipython3",
   "version": "3.12.0"
  }
 },
 "nbformat": 4,
 "nbformat_minor": 5
}
