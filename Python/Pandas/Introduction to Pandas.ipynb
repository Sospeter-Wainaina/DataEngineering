{
 "cells": [
  {
   "cell_type": "code",
   "execution_count": 2,
   "id": "0de1f0f5-0b9b-4454-8c98-2cc465e84493",
   "metadata": {},
   "outputs": [],
   "source": [
    "#importing pandas\n",
    "import pandas as pd\n",
    "#controlling the output format\n",
    "\n",
    "pd.set_option('display.max_columns',10)\n",
    "pd.set_option('display.max_rows',10)\n",
    "pd.set_option('display.width',60)\n",
    "pd.set_option('display.notebook_repr_html',False)"
   ]
  },
  {
   "cell_type": "code",
   "execution_count": 5,
   "id": "6c6fc8d2-af3c-4fd3-9d12-a628a5d1540c",
   "metadata": {},
   "outputs": [
    {
     "data": {
      "text/plain": [
       "0    1\n",
       "1    2\n",
       "2    3\n",
       "3    4\n",
       "4    5\n",
       "dtype: int64"
      ]
     },
     "execution_count": 5,
     "metadata": {},
     "output_type": "execute_result"
    }
   ],
   "source": [
    "#creating Series\n",
    "s = pd.Series([1,2,3,4,5])\n",
    "s"
   ]
  },
  {
   "cell_type": "code",
   "execution_count": 6,
   "id": "202a50c8-3c30-4e5e-b09b-283fcd12c468",
   "metadata": {},
   "outputs": [
    {
     "data": {
      "text/plain": [
       "2"
      ]
     },
     "execution_count": 6,
     "metadata": {},
     "output_type": "execute_result"
    }
   ],
   "source": [
    "#Accessing elements in the series\n",
    "s[1]"
   ]
  },
  {
   "cell_type": "code",
   "execution_count": 7,
   "id": "be4fb8d4-6309-4f3a-a487-e54609b7a6e7",
   "metadata": {},
   "outputs": [
    {
     "data": {
      "text/plain": [
       "2    3\n",
       "4    5\n",
       "dtype: int64"
      ]
     },
     "execution_count": 7,
     "metadata": {},
     "output_type": "execute_result"
    }
   ],
   "source": [
    "#accessing multiple values in the series\n",
    "s[[2,4]]"
   ]
  },
  {
   "cell_type": "code",
   "execution_count": 8,
   "id": "9c2e7f09-5420-4c8d-ae7f-d605ab6d84e7",
   "metadata": {},
   "outputs": [
    {
     "data": {
      "text/plain": [
       "a    3\n",
       "b    2\n",
       "c    1\n",
       "d    4\n",
       "e    5\n",
       "dtype: int64"
      ]
     },
     "execution_count": 8,
     "metadata": {},
     "output_type": "execute_result"
    }
   ],
   "source": [
    "#A series object can be created using a user defined index by using the Index parameter\n",
    "a = pd.Series([3,2,1,4,5],index = ['a','b','c','d','e'])\n",
    "a"
   ]
  },
  {
   "cell_type": "code",
   "execution_count": 9,
   "id": "4df5d613-4a01-42fd-8fc8-769c677e21cf",
   "metadata": {},
   "outputs": [
    {
     "data": {
      "text/plain": [
       "b    2\n",
       "e    5\n",
       "dtype: int64"
      ]
     },
     "execution_count": 9,
     "metadata": {},
     "output_type": "execute_result"
    }
   ],
   "source": [
    "#now we can access using the alphanumeric index\n",
    "a[['b','e']]"
   ]
  },
  {
   "cell_type": "code",
   "execution_count": 10,
   "id": "c811fe19-bac0-4ee3-ae8c-9de59e15fa53",
   "metadata": {},
   "outputs": [
    {
     "name": "stderr",
     "output_type": "stream",
     "text": [
      "C:\\Users\\pc\\AppData\\Local\\Temp\\ipykernel_11688\\3558103326.py:2: FutureWarning: Series.__getitem__ treating keys as positions is deprecated. In a future version, integer keys will always be treated as labels (consistent with DataFrame behavior). To access a value by position, use `ser.iloc[pos]`\n",
      "  a[[1,2]]\n"
     ]
    },
    {
     "data": {
      "text/plain": [
       "b    2\n",
       "c    1\n",
       "dtype: int64"
      ]
     },
     "execution_count": 10,
     "metadata": {},
     "output_type": "execute_result"
    }
   ],
   "source": [
    "#passing a list of integers to a Series of a non integer index will look up based upon 0-based index like an array\n",
    "a[[1,2]]"
   ]
  },
  {
   "cell_type": "code",
   "execution_count": 12,
   "id": "79a6a9cf-1c79-4cad-bb8d-3109c30f7698",
   "metadata": {},
   "outputs": [
    {
     "data": {
      "text/plain": [
       "Index(['a', 'b', 'c', 'd', 'e'], dtype='object')"
      ]
     },
     "execution_count": 12,
     "metadata": {},
     "output_type": "execute_result"
    }
   ],
   "source": [
    "#we can examine the index of a series using the index property\n",
    "a.index\n"
   ]
  },
  {
   "cell_type": "code",
   "execution_count": null,
   "id": "4f7ca2a5-b2e7-434f-a707-cdbfc7a4d0c7",
   "metadata": {},
   "outputs": [],
   "source": []
  }
 ],
 "metadata": {
  "kernelspec": {
   "display_name": "Python 3 (ipykernel)",
   "language": "python",
   "name": "python3"
  },
  "language_info": {
   "codemirror_mode": {
    "name": "ipython",
    "version": 3
   },
   "file_extension": ".py",
   "mimetype": "text/x-python",
   "name": "python",
   "nbconvert_exporter": "python",
   "pygments_lexer": "ipython3",
   "version": "3.12.0"
  }
 },
 "nbformat": 4,
 "nbformat_minor": 5
}
