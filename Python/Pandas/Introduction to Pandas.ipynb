{
 "cells": [
  {
   "cell_type": "code",
   "execution_count": 2,
   "id": "0de1f0f5-0b9b-4454-8c98-2cc465e84493",
   "metadata": {},
   "outputs": [],
   "source": [
    "#importing pandas\n",
    "import pandas as pd\n",
    "#controlling the output format\n",
    "\n",
    "pd.set_option('display.max_columns',10)\n",
    "pd.set_option('display.max_rows',10)\n",
    "pd.set_option('display.width',60)\n",
    "pd.set_option('display.notebook_repr_html',False)"
   ]
  },
  {
   "cell_type": "code",
   "execution_count": 5,
   "id": "6c6fc8d2-af3c-4fd3-9d12-a628a5d1540c",
   "metadata": {},
   "outputs": [
    {
     "data": {
      "text/plain": [
       "0    1\n",
       "1    2\n",
       "2    3\n",
       "3    4\n",
       "4    5\n",
       "dtype: int64"
      ]
     },
     "execution_count": 5,
     "metadata": {},
     "output_type": "execute_result"
    }
   ],
   "source": [
    "#creating Series\n",
    "s = pd.Series([1,2,3,4,5])\n",
    "s"
   ]
  },
  {
   "cell_type": "code",
   "execution_count": 6,
   "id": "202a50c8-3c30-4e5e-b09b-283fcd12c468",
   "metadata": {},
   "outputs": [
    {
     "data": {
      "text/plain": [
       "2"
      ]
     },
     "execution_count": 6,
     "metadata": {},
     "output_type": "execute_result"
    }
   ],
   "source": [
    "#Accessing elements in the series\n",
    "s[1]"
   ]
  },
  {
   "cell_type": "code",
   "execution_count": 7,
   "id": "be4fb8d4-6309-4f3a-a487-e54609b7a6e7",
   "metadata": {},
   "outputs": [
    {
     "data": {
      "text/plain": [
       "2    3\n",
       "4    5\n",
       "dtype: int64"
      ]
     },
     "execution_count": 7,
     "metadata": {},
     "output_type": "execute_result"
    }
   ],
   "source": [
    "#accessing multiple values in the series\n",
    "s[[2,4]]"
   ]
  },
  {
   "cell_type": "code",
   "execution_count": null,
   "id": "9c2e7f09-5420-4c8d-ae7f-d605ab6d84e7",
   "metadata": {},
   "outputs": [],
   "source": []
  }
 ],
 "metadata": {
  "kernelspec": {
   "display_name": "Python 3 (ipykernel)",
   "language": "python",
   "name": "python3"
  },
  "language_info": {
   "codemirror_mode": {
    "name": "ipython",
    "version": 3
   },
   "file_extension": ".py",
   "mimetype": "text/x-python",
   "name": "python",
   "nbconvert_exporter": "python",
   "pygments_lexer": "ipython3",
   "version": "3.12.0"
  }
 },
 "nbformat": 4,
 "nbformat_minor": 5
}
